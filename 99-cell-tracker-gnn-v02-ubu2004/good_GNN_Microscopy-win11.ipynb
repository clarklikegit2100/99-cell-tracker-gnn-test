{
 "cells": [
  {
   "cell_type": "markdown",
   "metadata": {
    "id": "lU3MFoThkqze"
   },
   "source": [
    "# **This Notebook is provided Training Example (PhC-C2DH-U373 Dataset) Using Colab**\n",
    "The notebook arragemnet is as follow\n",
    "\n",
    "*   **Prequesities**\n",
    "  1.   Conect to github, Clone the repository\n",
    "  2.   Configurate working directory and google drive connetction\n",
    "  3.   Download and install Conda, create conda enviroment with all the required packages\n",
    "\n",
    "*   **Trainings**\n",
    "  1.   Run feature extraction for metric learning\n",
    "  2.   Run metric learning training\n",
    "  3.   Run compreensive feature extraction with metric learning\n",
    "  4.   Run Cell Tracking training\n",
    "\n",
    "*   **Inference**\n",
    "\n",
    "\n",
    "\n",
    "\n",
    "\n",
    "\n"
   ]
  },
  {
   "cell_type": "markdown",
   "metadata": {
    "id": "XjK6-8l6nTbv"
   },
   "source": [
    "# **Prequesities**"
   ]
  },
  {
   "cell_type": "markdown",
   "metadata": {
    "id": "nQUP3ZYLmVOa"
   },
   "source": [
    "# 1. Conect to github, Clone the repository\n"
   ]
  },
  {
   "cell_type": "code",
   "execution_count": 7,
   "metadata": {
    "colab": {
     "base_uri": "https://localhost:8080/"
    },
    "id": "BNq7hyZeReV9",
    "outputId": "f229bde6-e54b-466b-dcb9-984001cb13d2"
   },
   "outputs": [],
   "source": [
    "import os\n",
    "#! git clone https://github.com/talbenha/cell-tracker-gnn\n",
    "\n",
    "#curr_workdir = f'./cell-tracker-gnn'\n",
    "#if os.path.exists(curr_workdir):\n",
    "#  os.chdir(curr_workdir)"
   ]
  },
  {
   "cell_type": "markdown",
   "metadata": {
    "id": "sg-StobkkpOw"
   },
   "source": [
    "# 2. Configurate working directory and google drive connetction\n"
   ]
  },
  {
   "cell_type": "code",
   "execution_count": 8,
   "metadata": {
    "colab": {
     "base_uri": "https://localhost:8080/"
    },
    "id": "SkznbTxwGFTf",
    "outputId": "5dc85a35-2115-4a12-ede8-2e0a7cd78903"
   },
   "outputs": [
    {
     "data": {
      "text/plain": [
       "'\\nimport os\\nfrom google.colab import drive\\ndrive.mount(\\'/content/drive\\', force_remount=True)\\nfile_path = \\'/content/drive/My Drive/CellTracking/nature_method_ctc/\\' # TODO: update this path\\nif os.path.exists(file_path):\\n  os.listdir(file_path)\\nelse:\\n  print(\"Error Path doesn\\'t exist\")\\n'"
      ]
     },
     "execution_count": 8,
     "metadata": {},
     "output_type": "execute_result"
    }
   ],
   "source": [
    "'''\n",
    "import os\n",
    "from google.colab import drive\n",
    "drive.mount('/content/drive', force_remount=True)\n",
    "file_path = '/content/drive/My Drive/CellTracking/nature_method_ctc/' # TODO: update this path\n",
    "if os.path.exists(file_path):\n",
    "  os.listdir(file_path)\n",
    "else:\n",
    "  print(\"Error Path doesn't exist\")\n",
    "'''"
   ]
  },
  {
   "cell_type": "markdown",
   "metadata": {
    "id": "uAE2W8WnnROI"
   },
   "source": [
    "# 3. Download and install Conda, create conda enviroment with all the required packages"
   ]
  },
  {
   "cell_type": "code",
   "execution_count": 9,
   "metadata": {
    "colab": {
     "base_uri": "https://localhost:8080/"
    },
    "id": "Pp9kcmdI47FA",
    "outputId": "0ebaf764-e114-4497-df61-46ac69c16418"
   },
   "outputs": [
    {
     "name": "stdout",
     "output_type": "stream",
     "text": [
      "\n",
      "found miniconda\n",
      "found 99-cell-tra-win11-310 env 1\n",
      "99-cell-tra-win11-310 was created\n"
     ]
    }
   ],
   "source": [
    "################################################################################\n",
    "# INSTALL CONDA ON GOOGLE COLAB\n",
    "################################################################################\n",
    "\n",
    "# try to run the bare minimum to get a new conda env working\n",
    "env_name = '99-cell-tra-win11-310'\n",
    "conda_path = ''\n",
    "try:\n",
    "    conda_path = ! which conda\n",
    "finally:\n",
    "    print('')\n",
    "\n",
    "if (len(conda_path) == 0):\n",
    "    print('installing miniconda')\n",
    "    ! wget https://repo.anaconda.com/miniconda/Miniconda3-py37_4.8.2-Linux-x86_64.sh\n",
    "    ! chmod +x Miniconda3-py37_4.8.2-Linux-x86_64.sh\n",
    "    ! bash ./Miniconda3-py37_4.8.2-Linux-x86_64.sh -b -f -p /usr/local\n",
    "    import sys\n",
    "    sys.path.append('/usr/local/lib/python3.7/site-packages/')\n",
    "    ! conda init\n",
    "    ! conda install -n root _license -y -q\n",
    "else:\n",
    "    print('found miniconda')\n",
    "\n",
    "conda_envs = ! conda env list\n",
    "res = [i for i in conda_envs if env_name in i]\n",
    "if (len(res) == 0):\n",
    "    print(f'not found {env_name} env', len(res))\n",
    "    ! conda create --name 99-cell-tra-win11-310 --file requirements-conda.txt\n",
    "else:\n",
    "    print(f'found {env_name} env', len(res))\n",
    "print(f'{env_name} was created')"
   ]
  },
  {
   "cell_type": "code",
   "execution_count": 10,
   "metadata": {
    "colab": {
     "base_uri": "https://localhost:8080/"
    },
    "id": "hRud_rqd-DeU",
    "outputId": "c6d693c5-65a0-4435-fd4a-5edf6b12e8c8"
   },
   "outputs": [
    {
     "name": "stdout",
     "output_type": "stream",
     "text": [
      "Hello\n",
      "Looking in indexes: https://pypi.org/simple, https://pypi.ngc.nvidia.com\n",
      "Requirement already satisfied: hydra-core==1.1.0.dev5 in c:\\users\\jzhao16\\.conda\\envs\\99-cell-tra-win11-310\\lib\\site-packages (from -r requirements.txt (line 4)) (1.1.0.dev5)\n",
      "Requirement already satisfied: hydra-colorlog==1.0.0 in c:\\users\\jzhao16\\.conda\\envs\\99-cell-tra-win11-310\\lib\\site-packages (from -r requirements.txt (line 5)) (1.0.0)\n",
      "Requirement already satisfied: hydra-optuna-sweeper==0.9.0rc2 in c:\\users\\jzhao16\\.conda\\envs\\99-cell-tra-win11-310\\lib\\site-packages (from -r requirements.txt (line 6)) (0.9.0rc2)\n",
      "Requirement already satisfied: wandb>=0.10.20 in c:\\users\\jzhao16\\.conda\\envs\\99-cell-tra-win11-310\\lib\\site-packages (from -r requirements.txt (line 8)) (0.20.1)\n",
      "Requirement already satisfied: omegaconf==2.1.0dev24 in c:\\users\\jzhao16\\.conda\\envs\\99-cell-tra-win11-310\\lib\\site-packages (from hydra-core==1.1.0.dev5->-r requirements.txt (line 4)) (2.1.0.dev24)\n",
      "Requirement already satisfied: antlr4-python3-runtime==4.8 in c:\\users\\jzhao16\\.conda\\envs\\99-cell-tra-win11-310\\lib\\site-packages (from hydra-core==1.1.0.dev5->-r requirements.txt (line 4)) (4.8)\n",
      "Requirement already satisfied: colorlog in c:\\users\\jzhao16\\.conda\\envs\\99-cell-tra-win11-310\\lib\\site-packages (from hydra-colorlog==1.0.0->-r requirements.txt (line 5)) (6.9.0)\n",
      "Requirement already satisfied: optuna in c:\\users\\jzhao16\\.conda\\envs\\99-cell-tra-win11-310\\lib\\site-packages (from hydra-optuna-sweeper==0.9.0rc2->-r requirements.txt (line 6)) (4.4.0)\n",
      "Requirement already satisfied: PyYAML>=5.1.* in c:\\users\\jzhao16\\.conda\\envs\\99-cell-tra-win11-310\\lib\\site-packages (from omegaconf==2.1.0dev24->hydra-core==1.1.0.dev5->-r requirements.txt (line 4)) (6.0.2)\n",
      "Requirement already satisfied: click!=8.0.0,>=7.1 in c:\\users\\jzhao16\\.conda\\envs\\99-cell-tra-win11-310\\lib\\site-packages (from wandb>=0.10.20->-r requirements.txt (line 8)) (8.0.4)\n",
      "Requirement already satisfied: gitpython!=3.1.29,>=1.0.0 in c:\\users\\jzhao16\\.conda\\envs\\99-cell-tra-win11-310\\lib\\site-packages (from wandb>=0.10.20->-r requirements.txt (line 8)) (3.1.44)\n",
      "Requirement already satisfied: packaging in c:\\users\\jzhao16\\.conda\\envs\\99-cell-tra-win11-310\\lib\\site-packages (from wandb>=0.10.20->-r requirements.txt (line 8)) (21.3)\n",
      "Requirement already satisfied: platformdirs in c:\\users\\jzhao16\\.conda\\envs\\99-cell-tra-win11-310\\lib\\site-packages (from wandb>=0.10.20->-r requirements.txt (line 8)) (4.3.7)\n",
      "Requirement already satisfied: protobuf!=4.21.0,!=5.28.0,<7,>=3.19.0 in c:\\users\\jzhao16\\.conda\\envs\\99-cell-tra-win11-310\\lib\\site-packages (from wandb>=0.10.20->-r requirements.txt (line 8)) (6.31.1)\n",
      "Requirement already satisfied: psutil>=5.0.0 in c:\\users\\jzhao16\\.conda\\envs\\99-cell-tra-win11-310\\lib\\site-packages (from wandb>=0.10.20->-r requirements.txt (line 8)) (5.9.0)\n",
      "Requirement already satisfied: pydantic<3 in c:\\users\\jzhao16\\.conda\\envs\\99-cell-tra-win11-310\\lib\\site-packages (from wandb>=0.10.20->-r requirements.txt (line 8)) (2.11.7)\n",
      "Requirement already satisfied: requests<3,>=2.0.0 in c:\\users\\jzhao16\\.conda\\envs\\99-cell-tra-win11-310\\lib\\site-packages (from wandb>=0.10.20->-r requirements.txt (line 8)) (2.27.1)\n",
      "Requirement already satisfied: sentry-sdk>=2.0.0 in c:\\users\\jzhao16\\.conda\\envs\\99-cell-tra-win11-310\\lib\\site-packages (from wandb>=0.10.20->-r requirements.txt (line 8)) (2.30.0)\n",
      "Requirement already satisfied: setproctitle in c:\\users\\jzhao16\\.conda\\envs\\99-cell-tra-win11-310\\lib\\site-packages (from wandb>=0.10.20->-r requirements.txt (line 8)) (1.3.6)\n",
      "Requirement already satisfied: typing-extensions<5,>=4.8 in c:\\users\\jzhao16\\.conda\\envs\\99-cell-tra-win11-310\\lib\\site-packages (from wandb>=0.10.20->-r requirements.txt (line 8)) (4.12.2)\n",
      "Requirement already satisfied: colorama in c:\\users\\jzhao16\\.conda\\envs\\99-cell-tra-win11-310\\lib\\site-packages (from click!=8.0.0,>=7.1->wandb>=0.10.20->-r requirements.txt (line 8)) (0.4.4)\n",
      "Requirement already satisfied: gitdb<5,>=4.0.1 in c:\\users\\jzhao16\\.conda\\envs\\99-cell-tra-win11-310\\lib\\site-packages (from gitpython!=3.1.29,>=1.0.0->wandb>=0.10.20->-r requirements.txt (line 8)) (4.0.12)\n",
      "Requirement already satisfied: annotated-types>=0.6.0 in c:\\users\\jzhao16\\.conda\\envs\\99-cell-tra-win11-310\\lib\\site-packages (from pydantic<3->wandb>=0.10.20->-r requirements.txt (line 8)) (0.7.0)\n",
      "Requirement already satisfied: pydantic-core==2.33.2 in c:\\users\\jzhao16\\.conda\\envs\\99-cell-tra-win11-310\\lib\\site-packages (from pydantic<3->wandb>=0.10.20->-r requirements.txt (line 8)) (2.33.2)\n",
      "Requirement already satisfied: typing-inspection>=0.4.0 in c:\\users\\jzhao16\\.conda\\envs\\99-cell-tra-win11-310\\lib\\site-packages (from pydantic<3->wandb>=0.10.20->-r requirements.txt (line 8)) (0.4.1)\n",
      "Requirement already satisfied: urllib3<1.27,>=1.21.1 in c:\\users\\jzhao16\\.conda\\envs\\99-cell-tra-win11-310\\lib\\site-packages (from requests<3,>=2.0.0->wandb>=0.10.20->-r requirements.txt (line 8)) (1.26.20)\n",
      "Requirement already satisfied: certifi>=2017.4.17 in c:\\users\\jzhao16\\.conda\\envs\\99-cell-tra-win11-310\\lib\\site-packages (from requests<3,>=2.0.0->wandb>=0.10.20->-r requirements.txt (line 8)) (2021.10.8)\n",
      "Requirement already satisfied: charset-normalizer~=2.0.0 in c:\\users\\jzhao16\\.conda\\envs\\99-cell-tra-win11-310\\lib\\site-packages (from requests<3,>=2.0.0->wandb>=0.10.20->-r requirements.txt (line 8)) (2.0.4)\n",
      "Requirement already satisfied: idna<4,>=2.5 in c:\\users\\jzhao16\\.conda\\envs\\99-cell-tra-win11-310\\lib\\site-packages (from requests<3,>=2.0.0->wandb>=0.10.20->-r requirements.txt (line 8)) (3.3)\n",
      "Requirement already satisfied: alembic>=1.5.0 in c:\\users\\jzhao16\\.conda\\envs\\99-cell-tra-win11-310\\lib\\site-packages (from optuna->hydra-optuna-sweeper==0.9.0rc2->-r requirements.txt (line 6)) (1.16.2)\n",
      "Requirement already satisfied: numpy in c:\\users\\jzhao16\\.conda\\envs\\99-cell-tra-win11-310\\lib\\site-packages (from optuna->hydra-optuna-sweeper==0.9.0rc2->-r requirements.txt (line 6)) (1.24.2)\n",
      "Requirement already satisfied: sqlalchemy>=1.4.2 in c:\\users\\jzhao16\\.conda\\envs\\99-cell-tra-win11-310\\lib\\site-packages (from optuna->hydra-optuna-sweeper==0.9.0rc2->-r requirements.txt (line 6)) (2.0.41)\n",
      "Requirement already satisfied: tqdm in c:\\users\\jzhao16\\.conda\\envs\\99-cell-tra-win11-310\\lib\\site-packages (from optuna->hydra-optuna-sweeper==0.9.0rc2->-r requirements.txt (line 6)) (4.64.0)\n",
      "Requirement already satisfied: pyparsing!=3.0.5,>=2.0.2 in c:\\users\\jzhao16\\.conda\\envs\\99-cell-tra-win11-310\\lib\\site-packages (from packaging->wandb>=0.10.20->-r requirements.txt (line 8)) (3.0.4)\n",
      "Requirement already satisfied: Mako in c:\\users\\jzhao16\\.conda\\envs\\99-cell-tra-win11-310\\lib\\site-packages (from alembic>=1.5.0->optuna->hydra-optuna-sweeper==0.9.0rc2->-r requirements.txt (line 6)) (1.3.10)\n",
      "Requirement already satisfied: tomli in c:\\users\\jzhao16\\.conda\\envs\\99-cell-tra-win11-310\\lib\\site-packages (from alembic>=1.5.0->optuna->hydra-optuna-sweeper==0.9.0rc2->-r requirements.txt (line 6)) (1.2.2)\n",
      "Requirement already satisfied: smmap<6,>=3.0.1 in c:\\users\\jzhao16\\.conda\\envs\\99-cell-tra-win11-310\\lib\\site-packages (from gitdb<5,>=4.0.1->gitpython!=3.1.29,>=1.0.0->wandb>=0.10.20->-r requirements.txt (line 8)) (5.0.2)\n",
      "Requirement already satisfied: greenlet>=1 in c:\\users\\jzhao16\\.conda\\envs\\99-cell-tra-win11-310\\lib\\site-packages (from sqlalchemy>=1.4.2->optuna->hydra-optuna-sweeper==0.9.0rc2->-r requirements.txt (line 6)) (3.2.3)\n",
      "Requirement already satisfied: MarkupSafe>=0.9.2 in c:\\users\\jzhao16\\.conda\\envs\\99-cell-tra-win11-310\\lib\\site-packages (from Mako->alembic>=1.5.0->optuna->hydra-optuna-sweeper==0.9.0rc2->-r requirements.txt (line 6)) (2.0.1)\n"
     ]
    },
    {
     "name": "stderr",
     "output_type": "stream",
     "text": [
      "DEPRECATION: omegaconf 2.1.0.dev24 has a non-standard dependency specifier PyYAML>=5.1.*. pip 24.0 will enforce this behaviour change. A possible replacement is to upgrade to a newer version of omegaconf or contact the author to suggest that they release a version with a conforming dependency specifiers. Discussion can be found at https://github.com/pypa/pip/issues/12063\n",
      "\n",
      "[notice] A new release of pip is available: 23.3.1 -> 25.1.1\n",
      "[notice] To update, run: python.exe -m pip install --upgrade pip\n"
     ]
    },
    {
     "name": "stdout",
     "output_type": "stream",
     "text": [
      "Looking in indexes: https://pypi.org/simple, https://pypi.ngc.nvidia.com\n",
      "Collecting PyYAML==5.4.1\n",
      "  Downloading PyYAML-5.4.1.tar.gz (175 kB)\n",
      "     ---------------------------------------- 0.0/175.1 kB ? eta -:--:--\n",
      "     -- ------------------------------------- 10.2/175.1 kB ? eta -:--:--\n",
      "     ------ ------------------------------ 30.7/175.1 kB 435.7 kB/s eta 0:00:01\n",
      "     -------------------------------------- 175.1/175.1 kB 1.3 MB/s eta 0:00:00\n",
      "  Installing build dependencies: started\n",
      "  Installing build dependencies: finished with status 'done'\n",
      "  Getting requirements to build wheel: started\n",
      "  Getting requirements to build wheel: finished with status 'error'\n"
     ]
    },
    {
     "name": "stderr",
     "output_type": "stream",
     "text": [
      "  error: subprocess-exited-with-error\n",
      "  \n",
      "  Getting requirements to build wheel did not run successfully.\n",
      "  exit code: 1\n",
      "  \n",
      "  [61 lines of output]\n",
      "  C:\\Users\\jzhao16\\AppData\\Local\\Temp\\pip-build-env-v_c960t6\\overlay\\Lib\\site-packages\\setuptools\\dist.py:759: SetuptoolsDeprecationWarning: License classifiers are deprecated.\n",
      "  !!\n",
      "  \n",
      "          ********************************************************************************\n",
      "          Please consider removing the following classifiers in favor of a SPDX license expression:\n",
      "  \n",
      "          License :: OSI Approved :: MIT License\n",
      "  \n",
      "          See https://packaging.python.org/en/latest/guides/writing-pyproject-toml/#license for details.\n",
      "          ********************************************************************************\n",
      "  \n",
      "  !!\n",
      "    self._finalize_license_expression()\n",
      "  running egg_info\n",
      "  writing lib3\\PyYAML.egg-info\\PKG-INFO\n",
      "  writing dependency_links to lib3\\PyYAML.egg-info\\dependency_links.txt\n",
      "  writing top-level names to lib3\\PyYAML.egg-info\\top_level.txt\n",
      "  Traceback (most recent call last):\n",
      "    File \"C:\\Users\\jzhao16\\.conda\\envs\\99-cell-tra-win11-310\\lib\\site-packages\\pip\\_vendor\\pyproject_hooks\\_in_process\\_in_process.py\", line 353, in <module>\n",
      "      main()\n",
      "    File \"C:\\Users\\jzhao16\\.conda\\envs\\99-cell-tra-win11-310\\lib\\site-packages\\pip\\_vendor\\pyproject_hooks\\_in_process\\_in_process.py\", line 335, in main\n",
      "      json_out['return_val'] = hook(**hook_input['kwargs'])\n",
      "    File \"C:\\Users\\jzhao16\\.conda\\envs\\99-cell-tra-win11-310\\lib\\site-packages\\pip\\_vendor\\pyproject_hooks\\_in_process\\_in_process.py\", line 118, in get_requires_for_build_wheel\n",
      "      return hook(config_settings)\n",
      "    File \"C:\\Users\\jzhao16\\AppData\\Local\\Temp\\pip-build-env-v_c960t6\\overlay\\Lib\\site-packages\\setuptools\\build_meta.py\", line 331, in get_requires_for_build_wheel\n",
      "      return self._get_build_requires(config_settings, requirements=[])\n",
      "    File \"C:\\Users\\jzhao16\\AppData\\Local\\Temp\\pip-build-env-v_c960t6\\overlay\\Lib\\site-packages\\setuptools\\build_meta.py\", line 301, in _get_build_requires\n",
      "      self.run_setup()\n",
      "    File \"C:\\Users\\jzhao16\\AppData\\Local\\Temp\\pip-build-env-v_c960t6\\overlay\\Lib\\site-packages\\setuptools\\build_meta.py\", line 317, in run_setup\n",
      "      exec(code, locals())\n",
      "    File \"<string>\", line 271, in <module>\n",
      "    File \"C:\\Users\\jzhao16\\AppData\\Local\\Temp\\pip-build-env-v_c960t6\\overlay\\Lib\\site-packages\\setuptools\\__init__.py\", line 115, in setup\n",
      "      return distutils.core.setup(**attrs)\n",
      "    File \"C:\\Users\\jzhao16\\AppData\\Local\\Temp\\pip-build-env-v_c960t6\\overlay\\Lib\\site-packages\\setuptools\\_distutils\\core.py\", line 186, in setup\n",
      "      return run_commands(dist)\n",
      "    File \"C:\\Users\\jzhao16\\AppData\\Local\\Temp\\pip-build-env-v_c960t6\\overlay\\Lib\\site-packages\\setuptools\\_distutils\\core.py\", line 202, in run_commands\n",
      "      dist.run_commands()\n",
      "    File \"C:\\Users\\jzhao16\\AppData\\Local\\Temp\\pip-build-env-v_c960t6\\overlay\\Lib\\site-packages\\setuptools\\_distutils\\dist.py\", line 1002, in run_commands\n",
      "      self.run_command(cmd)\n",
      "    File \"C:\\Users\\jzhao16\\AppData\\Local\\Temp\\pip-build-env-v_c960t6\\overlay\\Lib\\site-packages\\setuptools\\dist.py\", line 1102, in run_command\n",
      "      super().run_command(command)\n",
      "    File \"C:\\Users\\jzhao16\\AppData\\Local\\Temp\\pip-build-env-v_c960t6\\overlay\\Lib\\site-packages\\setuptools\\_distutils\\dist.py\", line 1021, in run_command\n",
      "      cmd_obj.run()\n",
      "    File \"C:\\Users\\jzhao16\\AppData\\Local\\Temp\\pip-build-env-v_c960t6\\overlay\\Lib\\site-packages\\setuptools\\command\\egg_info.py\", line 312, in run\n",
      "      self.find_sources()\n",
      "    File \"C:\\Users\\jzhao16\\AppData\\Local\\Temp\\pip-build-env-v_c960t6\\overlay\\Lib\\site-packages\\setuptools\\command\\egg_info.py\", line 320, in find_sources\n",
      "      mm.run()\n",
      "    File \"C:\\Users\\jzhao16\\AppData\\Local\\Temp\\pip-build-env-v_c960t6\\overlay\\Lib\\site-packages\\setuptools\\command\\egg_info.py\", line 543, in run\n",
      "      self.add_defaults()\n",
      "    File \"C:\\Users\\jzhao16\\AppData\\Local\\Temp\\pip-build-env-v_c960t6\\overlay\\Lib\\site-packages\\setuptools\\command\\egg_info.py\", line 581, in add_defaults\n",
      "      sdist.add_defaults(self)\n",
      "    File \"C:\\Users\\jzhao16\\AppData\\Local\\Temp\\pip-build-env-v_c960t6\\overlay\\Lib\\site-packages\\setuptools\\command\\sdist.py\", line 109, in add_defaults\n",
      "      super().add_defaults()\n",
      "    File \"C:\\Users\\jzhao16\\AppData\\Local\\Temp\\pip-build-env-v_c960t6\\overlay\\Lib\\site-packages\\setuptools\\_distutils\\command\\sdist.py\", line 245, in add_defaults\n",
      "      self._add_defaults_ext()\n",
      "    File \"C:\\Users\\jzhao16\\AppData\\Local\\Temp\\pip-build-env-v_c960t6\\overlay\\Lib\\site-packages\\setuptools\\_distutils\\command\\sdist.py\", line 330, in _add_defaults_ext\n",
      "      self.filelist.extend(build_ext.get_source_files())\n",
      "    File \"<string>\", line 201, in get_source_files\n",
      "    File \"C:\\Users\\jzhao16\\AppData\\Local\\Temp\\pip-build-env-v_c960t6\\overlay\\Lib\\site-packages\\setuptools\\_distutils\\cmd.py\", line 131, in __getattr__\n",
      "      raise AttributeError(attr)\n",
      "  AttributeError: cython_sources\n",
      "  [end of output]\n",
      "  \n",
      "  note: This error originates from a subprocess, and is likely not a problem with pip.\n",
      "error: subprocess-exited-with-error\n",
      "\n",
      "Getting requirements to build wheel did not run successfully.\n",
      "exit code: 1\n",
      "\n",
      "See above for output.\n",
      "\n",
      "note: This error originates from a subprocess, and is likely not a problem with pip.\n",
      "\n",
      "[notice] A new release of pip is available: 23.3.1 -> 25.1.1\n",
      "[notice] To update, run: python.exe -m pip install --upgrade pip\n"
     ]
    }
   ],
   "source": [
    "# Say hello just to verify the cell runs\n",
    "!echo Hello\n",
    "!conda activate 99-cell-tra-win11-310\n",
    "# Install Python dependencies using conda run\n",
    "!pip install -r requirements.txt\n",
    "!pip install PyYAML==5.4.1\n"
   ]
  },
  {
   "cell_type": "code",
   "execution_count": 11,
   "metadata": {
    "colab": {
     "base_uri": "https://localhost:8080/"
    },
    "id": "JLRuvmTsFQr3",
    "outputId": "57ee4726-a6ae-4e83-fece-1f80976f619f"
   },
   "outputs": [
    {
     "name": "stdout",
     "output_type": "stream",
     "text": [
      "Looking in indexes: https://pypi.org/simple, https://pypi.ngc.nvidia.com\n",
      "Requirement already satisfied: python-dotenv in c:\\users\\jzhao16\\.conda\\envs\\99-cell-tra-win11-310\\lib\\site-packages (0.20.0)\n"
     ]
    },
    {
     "name": "stderr",
     "output_type": "stream",
     "text": [
      "DEPRECATION: omegaconf 2.1.0.dev24 has a non-standard dependency specifier PyYAML>=5.1.*. pip 24.0 will enforce this behaviour change. A possible replacement is to upgrade to a newer version of omegaconf or contact the author to suggest that they release a version with a conforming dependency specifiers. Discussion can be found at https://github.com/pypa/pip/issues/12063\n",
      "\n",
      "[notice] A new release of pip is available: 23.3.1 -> 25.1.1\n",
      "[notice] To update, run: python.exe -m pip install --upgrade pip\n"
     ]
    }
   ],
   "source": [
    "!pip install python-dotenv\n",
    "import dotenv"
   ]
  },
  {
   "cell_type": "markdown",
   "metadata": {
    "id": "tHvSRgPIlEFo"
   },
   "source": [
    "# **Training**\n",
    " The first two stages can be skipped (step #2 is long in colab) by using the pre-trained model (in step #3) provided under the [releases](https://github.com/talbenha/cell-tracker-gnn/releases) of the repository. For example for the pretrained model for PhC-C2DH-U373 dataset, download the software and find the model under `software/parameters/Features_Models/PhC-C2DH-U373/all_params.pth`"
   ]
  },
  {
   "cell_type": "markdown",
   "metadata": {
    "id": "mgdYwfgjneeD"
   },
   "source": [
    "# 1. Run feature extraction for metric learning\n"
   ]
  },
  {
   "cell_type": "code",
   "execution_count": 12,
   "metadata": {
    "ExecuteTime": {
     "end_time": "2025-06-25T22:32:28.160665Z",
     "start_time": "2025-06-25T22:32:27.671866Z"
    }
   },
   "outputs": [
    {
     "name": "stdout",
     "output_type": "stream",
     "text": [
      "Hello\n",
      "Hello\n",
      "files were saved to : C:/Users/jzhao16/Documents/mydata/gnntest/basic_features\\gnntest\\01\\csv\n",
      "files were saved to : C:/Users/jzhao16/Documents/mydata/gnntest/basic_features\\gnntest\\02\\csv\n"
     ]
    }
   ],
   "source": [
    "# sometimes work sometime not work\n",
    "!echo Hello\n",
    "#%%bash\n",
    "#!powershell -Command \"$env:HYDRA_FULL_ERROR='1'; echo $env:HYDRA_FULL_ERROR\"\n",
    "#C:\\Users\\jzhao16\\AppData\\Local\\miniconda3\\condabin\\conda.bat  activate 99-cell-tra-win11-310\n",
    "#conda activate 99-cell-tra-win11-310\n",
    "#export HYDRA_FULL_ERROR=1\n",
    "#export FOLDER_PATH=C:/Users/jzhao16/Documents/mydata/gnntest\n",
    "#export DATA_NAME=Fluo-C2DL-Huh7 # TODO: update this path\n",
    "#python run_train_metric_learning.py dataset.kwargs.data_dir_img=\"${FOLDER_PATH}/${DATA_NAME}\" dataset.kwargs.data_dir_mask=\"${FOLDER_PATH}/${DATA_NAME}\" dataset.kwargs.dir_csv=\"${FOLDER_PATH}/basic_features/${DATA_NAME}\" dataset.kwargs.subdir_mask='GT/TRA'\n",
    "\n",
    "!echo Hello\n",
    "#!powershell -Command \"$env:HYDRA_FULL_ERROR='1'; echo $env:HYDRA_FULL_ERROR\"\n",
    "!conda activate 99-cell-tra-win11-310\n",
    "\n",
    "!set HYDRA_FULL_ERROR=1\n",
    "!set FOLDER_PATH=C:/Users/jzhao16/Documents/mydata/gnntest\n",
    "!set DATA_NAME=Fluo-C2DL-Huh7\n",
    "\n",
    "!python run_feat_extract.py params.input_images=\"{FOLDER_PATH}/{DATA_NAME}\" params.input_masks=\"{FOLDER_PATH}/{DATA_NAME}\" params.input_seg=\"{FOLDER_PATH}/{DATA_NAME}\" params.output_csv=\"{FOLDER_PATH}/basic_features\" params.sequences=['01','02']  params.seg_dir='_GT/TRA' params.basic=True\n",
    "\n",
    "# copy generate 01 and 02 to {FOLDER_PATH}/basic_features/{DATA_NAME}/01/csv\n",
    "# e.g. C:\\Users\\jzhao16\\Documents\\mydata\\gnntest\\basic_features\\Fluo-C2DL-Huh7\\01\\csv\n",
    "# e.g. C:\\Users\\jzhao16\\Documents\\mydata\\gnntest\\basic_features\\Fluo-C2DL-Huh7\\02\\csv"
   ]
  },
  {
   "cell_type": "code",
   "execution_count": 13,
   "metadata": {},
   "outputs": [],
   "source": [
    "# Another Method Run Step 1"
   ]
  },
  {
   "cell_type": "code",
   "execution_count": 14,
   "metadata": {
    "id": "-dRjx8GkFOkG"
   },
   "outputs": [
    {
     "data": {
      "text/plain": [
       "'\\nimport os\\n\\n# Set variables\\nFOLDER_PATH = r\"C:/Users/jzhao16/Documents/mydata/gnntest\"\\nDATA_NAME = \"Fluo-C2DL-Huh7\"\\nINPUT_PATH = os.path.join(FOLDER_PATH, DATA_NAME)\\nOUTPUT_PATH = os.path.join(FOLDER_PATH, \"basic_features\")\\nSEQUENCES = \"[\\'01\\',\\'02\\']\"  # needs to be passed as a string\\n\\nprint(\\'step 1 begin\\')\\n\\n# Construct command\\ncommand = (\\n    f\\'python run_feat_extract.py \\'\\n    f\\'params.input_images=\"{INPUT_PATH}\" \\'\\n    f\\'params.input_masks=\"{INPUT_PATH}\" \\'\\n    f\\'params.input_seg=\"{INPUT_PATH}\" \\'\\n    f\\'params.output_csv=\"{OUTPUT_PATH}\" \\'\\n    f\\'params.sequences={SEQUENCES} \\'\\n    f\\'params.seg_dir=\"_GT/TRA\" \\'\\n    f\\'params.basic=True\\'\\n)\\n\\n# Run it\\nos.environ[\\'HYDRA_FULL_ERROR\\'] = \\'1\\'\\n!{command}\\n'"
      ]
     },
     "execution_count": 14,
     "metadata": {},
     "output_type": "execute_result"
    }
   ],
   "source": [
    "'''\n",
    "import os\n",
    "\n",
    "# Set variables\n",
    "FOLDER_PATH = r\"C:/Users/jzhao16/Documents/mydata/gnntest\"\n",
    "DATA_NAME = \"Fluo-C2DL-Huh7\"\n",
    "INPUT_PATH = os.path.join(FOLDER_PATH, DATA_NAME)\n",
    "OUTPUT_PATH = os.path.join(FOLDER_PATH, \"basic_features\")\n",
    "SEQUENCES = \"['01','02']\"  # needs to be passed as a string\n",
    "\n",
    "print('step 1 begin')\n",
    "\n",
    "# Construct command\n",
    "command = (\n",
    "    f'python run_feat_extract.py '\n",
    "    f'params.input_images=\"{INPUT_PATH}\" '\n",
    "    f'params.input_masks=\"{INPUT_PATH}\" '\n",
    "    f'params.input_seg=\"{INPUT_PATH}\" '\n",
    "    f'params.output_csv=\"{OUTPUT_PATH}\" '\n",
    "    f'params.sequences={SEQUENCES} '\n",
    "    f'params.seg_dir=\"_GT/TRA\" '\n",
    "    f'params.basic=True'\n",
    ")\n",
    "\n",
    "# Run it\n",
    "os.environ['HYDRA_FULL_ERROR'] = '1'\n",
    "!{command}\n",
    "'''"
   ]
  },
  {
   "cell_type": "markdown",
   "metadata": {
    "id": "NEWM_DoynnGs"
   },
   "source": [
    "# 2. Run metric learning training\n",
    " Pay attention that this cell takes long time on google colab, so you can skip this stage and use the pre-trained model provided under the [releases](https://github.com/talbenha/cell-tracker-gnn/releases) of the repository. For example for the pretrained model for PhC-C2DH-U373 dataset, download the software and find the model under `software/parameters/Features_Models/PhC-C2DH-U373/all_params.pth`"
   ]
  },
  {
   "cell_type": "code",
   "execution_count": 15,
   "metadata": {
    "id": "Sn1JcCVg8Dd1"
   },
   "outputs": [
    {
     "data": {
      "text/plain": [
       "'\\n!echo Hello\\n#!powershell -Command \"$env:HYDRA_FULL_ERROR=\\'1\\'; echo $env:HYDRA_FULL_ERROR\"\\n!conda activate 99-cell-tra-win11-310\\n\\n!set HYDRA_FULL_ERROR=1\\n!set FOLDER_PATH=C:/Users/jzhao16/Documents/mydata/gnntest\\n!set DATA_NAME=Fluo-C2DL-Huh7\\n\\n!python run_train_metric_learning.py dataset.kwargs.data_dir_img=\"{FOLDER_PATH}/{DATA_NAME}\" dataset.kwargs.data_dir_mask=\"{FOLDER_PATH}/{DATA_NAME}\" dataset.kwargs.dir_csv=\"{FOLDER_PATH}/basic_features/{DATA_NAME}\" dataset.kwargs.subdir_mask=\\'GT/TRA\\'\\n\\n'"
      ]
     },
     "execution_count": 15,
     "metadata": {},
     "output_type": "execute_result"
    }
   ],
   "source": [
    "##%%bash\n",
    "#source activate cell-tracking-challenge\n",
    "# copy step 1 result generate 01 and 02 to {FOLDER_PATH}/basic_features/{DATA_NAME}/01/csv\n",
    "# e.g. C:\\Users\\jzhao16\\Documents\\mydata\\gnntest\\basic_features\\Fluo-C2DL-Huh7\\01\\csv\n",
    "# e.g. C:\\Users\\jzhao16\\Documents\\mydata\\gnntest\\basic_features\\Fluo-C2DL-Huh7\\02\\csv\n",
    "\n",
    "'''\n",
    "!echo Hello\n",
    "#!powershell -Command \"$env:HYDRA_FULL_ERROR='1'; echo $env:HYDRA_FULL_ERROR\"\n",
    "!conda activate 99-cell-tra-win11-310\n",
    "\n",
    "!set HYDRA_FULL_ERROR=1\n",
    "!set FOLDER_PATH=C:/Users/jzhao16/Documents/mydata/gnntest\n",
    "!set DATA_NAME=Fluo-C2DL-Huh7\n",
    "\n",
    "!python run_train_metric_learning.py dataset.kwargs.data_dir_img=\"{FOLDER_PATH}/{DATA_NAME}\" dataset.kwargs.data_dir_mask=\"{FOLDER_PATH}/{DATA_NAME}\" dataset.kwargs.dir_csv=\"{FOLDER_PATH}/basic_features/{DATA_NAME}\" dataset.kwargs.subdir_mask='GT/TRA'\n",
    "\n",
    "'''"
   ]
  },
  {
   "cell_type": "code",
   "execution_count": 16,
   "metadata": {},
   "outputs": [
    {
     "data": {
      "text/plain": [
       "'\\nimport os\\n\\n# Set paths\\nFOLDER_PATH = r\"C:/Users/jzhao16/Documents/mydata/gnntest\"\\nDATA_NAME = \"Fluo-C2DL-Huh7\"\\nDATA_DIR = os.path.join(FOLDER_PATH, DATA_NAME)\\nCSV_DIR = os.path.join(FOLDER_PATH, \"basic_features\", DATA_NAME)\\nSUBDIR_MASK = \"GT/TRA\"\\n\\n# Construct the command string\\ncommand = (\\n    f\\'python run_train_metric_learning.py \\'\\n    f\\'dataset.kwargs.data_dir_img=\"{DATA_DIR}\" \\'\\n    f\\'dataset.kwargs.data_dir_mask=\"{DATA_DIR}\" \\'\\n    f\\'dataset.kwargs.dir_csv=\"{CSV_DIR}\" \\'\\n    f\\'dataset.kwargs.subdir_mask=\"{SUBDIR_MASK}\"\\'\\n)\\n\\n# Set environment variable\\nos.environ[\"HYDRA_FULL_ERROR\"] = \"1\"\\n\\n# Execute command\\n!{command}\\n'"
      ]
     },
     "execution_count": 16,
     "metadata": {},
     "output_type": "execute_result"
    }
   ],
   "source": [
    "'''\n",
    "import os\n",
    "\n",
    "# Set paths\n",
    "FOLDER_PATH = r\"C:/Users/jzhao16/Documents/mydata/gnntest\"\n",
    "DATA_NAME = \"Fluo-C2DL-Huh7\"\n",
    "DATA_DIR = os.path.join(FOLDER_PATH, DATA_NAME)\n",
    "CSV_DIR = os.path.join(FOLDER_PATH, \"basic_features\", DATA_NAME)\n",
    "SUBDIR_MASK = \"GT/TRA\"\n",
    "\n",
    "# Construct the command string\n",
    "command = (\n",
    "    f'python run_train_metric_learning.py '\n",
    "    f'dataset.kwargs.data_dir_img=\"{DATA_DIR}\" '\n",
    "    f'dataset.kwargs.data_dir_mask=\"{DATA_DIR}\" '\n",
    "    f'dataset.kwargs.dir_csv=\"{CSV_DIR}\" '\n",
    "    f'dataset.kwargs.subdir_mask=\"{SUBDIR_MASK}\"'\n",
    ")\n",
    "\n",
    "# Set environment variable\n",
    "os.environ[\"HYDRA_FULL_ERROR\"] = \"1\"\n",
    "\n",
    "# Execute command\n",
    "!{command}\n",
    "'''"
   ]
  },
  {
   "cell_type": "markdown",
   "metadata": {
    "id": "7fi-43NNqSa5"
   },
   "source": [
    "--> output 'all_params.pth' is generated at end, it is the input_model (i.e. for METRIC_PATH variable) for the next step"
   ]
  },
  {
   "cell_type": "markdown",
   "metadata": {
    "id": "7O4aUzu_6Wfm"
   },
   "source": [
    "# **3. Run compreensive feature extraction with metric learning**"
   ]
  },
  {
   "cell_type": "markdown",
   "metadata": {
    "id": "OFBY9bWU6gCV"
   },
   "source": []
  },
  {
   "cell_type": "markdown",
   "metadata": {
    "id": "bS5fms3X3s6X"
   },
   "source": [
    "!pip install python-dotenv\n",
    "import dotenv"
   ]
  },
  {
   "cell_type": "code",
   "execution_count": 17,
   "metadata": {},
   "outputs": [
    {
     "name": "stdout",
     "output_type": "stream",
     "text": [
      "Looking in indexes: https://pypi.org/simple, https://pypi.ngc.nvidia.com\n",
      "Requirement already satisfied: python-dotenv in c:\\users\\jzhao16\\.conda\\envs\\99-cell-tra-win11-310\\lib\\site-packages (0.20.0)\n"
     ]
    },
    {
     "name": "stderr",
     "output_type": "stream",
     "text": [
      "DEPRECATION: omegaconf 2.1.0.dev24 has a non-standard dependency specifier PyYAML>=5.1.*. pip 24.0 will enforce this behaviour change. A possible replacement is to upgrade to a newer version of omegaconf or contact the author to suggest that they release a version with a conforming dependency specifiers. Discussion can be found at https://github.com/pypa/pip/issues/12063\n",
      "\n",
      "[notice] A new release of pip is available: 23.3.1 -> 25.1.1\n",
      "[notice] To update, run: python.exe -m pip install --upgrade pip\n"
     ]
    },
    {
     "name": "stdout",
     "output_type": "stream",
     "text": [
      "Looking in indexes: https://pypi.org/simple, https://pypi.ngc.nvidia.com\n",
      "Requirement already satisfied: hydra-core in c:\\users\\jzhao16\\.conda\\envs\\99-cell-tra-win11-310\\lib\\site-packages (1.1.0.dev5)\n",
      "Requirement already satisfied: omegaconf==2.1.0dev24 in c:\\users\\jzhao16\\.conda\\envs\\99-cell-tra-win11-310\\lib\\site-packages (from hydra-core) (2.1.0.dev24)\n",
      "Requirement already satisfied: antlr4-python3-runtime==4.8 in c:\\users\\jzhao16\\.conda\\envs\\99-cell-tra-win11-310\\lib\\site-packages (from hydra-core) (4.8)\n",
      "Requirement already satisfied: PyYAML>=5.1.* in c:\\users\\jzhao16\\.conda\\envs\\99-cell-tra-win11-310\\lib\\site-packages (from omegaconf==2.1.0dev24->hydra-core) (6.0.2)\n"
     ]
    },
    {
     "name": "stderr",
     "output_type": "stream",
     "text": [
      "DEPRECATION: omegaconf 2.1.0.dev24 has a non-standard dependency specifier PyYAML>=5.1.*. pip 24.0 will enforce this behaviour change. A possible replacement is to upgrade to a newer version of omegaconf or contact the author to suggest that they release a version with a conforming dependency specifiers. Discussion can be found at https://github.com/pypa/pip/issues/12063\n",
      "\n",
      "[notice] A new release of pip is available: 23.3.1 -> 25.1.1\n",
      "[notice] To update, run: python.exe -m pip install --upgrade pip\n"
     ]
    }
   ],
   "source": [
    "!pip install hydra-core==1.1.0\n",
    "!pip install python-dotenv==0.20.0\n",
    "import dotenv\n"
   ]
  },
  {
   "cell_type": "code",
   "execution_count": 24,
   "metadata": {
    "colab": {
     "base_uri": "https://localhost:8080/",
     "height": 964
    },
    "id": "woSZYUsI9EED",
    "outputId": "f8ad4606-4157-4884-dbae-21f5ca095e2d"
   },
   "outputs": [
    {
     "name": "stdout",
     "output_type": "stream",
     "text": [
      "Hello\n"
     ]
    },
    {
     "name": "stderr",
     "output_type": "stream",
     "text": [
      "Error executing job with overrides: ['params.input_images=C:/Users/jzhao16/Documents/mydata/gnntest/Fluo-C2DL-Huh7', 'params.input_masks=C:/Users/jzhao16/Documents/mydata/gnntest/Fluo-C2DL-Huh7', 'params.input_seg=C:/Users/jzhao16/Documents/mydata/gnntest/Fluo-C2DL-Huh7', 'params.output_csv=C:/Users/jzhao16/Documents/mydata/gnntest/ct_features/', \"params.sequences=['01','02']\", \"params.seg_dir='_GT/TRA'\", 'params.basic=False', 'params.input_model=C:/Users/jzhao16/Documents/mydata/gnntest\\\\software/parameters/Features_Models\\\\Fluo-C2DL-Huh7\\\\all_params.pth']\n",
      "\n",
      "Traceback (most recent call last):\n",
      "  File \"C:\\Users\\jzhao16\\Documents\\GitHub\\99-cell-tracker-gnn-test\\run_feat_extract.py\", line 13, in <module>\n",
      "    main()\n",
      "  File \"C:\\Users\\jzhao16\\.conda\\envs\\99-cell-tra-win11-310\\lib\\site-packages\\hydra\\main.py\", line 49, in decorated_main\n",
      "    _run_hydra(\n",
      "  File \"C:\\Users\\jzhao16\\.conda\\envs\\99-cell-tra-win11-310\\lib\\site-packages\\hydra\\_internal\\utils.py\", line 367, in _run_hydra\n",
      "    run_and_report(\n",
      "  File \"C:\\Users\\jzhao16\\.conda\\envs\\99-cell-tra-win11-310\\lib\\site-packages\\hydra\\_internal\\utils.py\", line 214, in run_and_report\n",
      "    raise ex\n",
      "  File \"C:\\Users\\jzhao16\\.conda\\envs\\99-cell-tra-win11-310\\lib\\site-packages\\hydra\\_internal\\utils.py\", line 211, in run_and_report\n",
      "    return func()\n",
      "  File \"C:\\Users\\jzhao16\\.conda\\envs\\99-cell-tra-win11-310\\lib\\site-packages\\hydra\\_internal\\utils.py\", line 368, in <lambda>\n",
      "    lambda: hydra.run(\n",
      "  File \"C:\\Users\\jzhao16\\.conda\\envs\\99-cell-tra-win11-310\\lib\\site-packages\\hydra\\_internal\\hydra.py\", line 110, in run\n",
      "    _ = ret.return_value\n",
      "  File \"C:\\Users\\jzhao16\\.conda\\envs\\99-cell-tra-win11-310\\lib\\site-packages\\hydra\\core\\utils.py\", line 233, in return_value\n",
      "    raise self._return_value\n",
      "  File \"C:\\Users\\jzhao16\\.conda\\envs\\99-cell-tra-win11-310\\lib\\site-packages\\hydra\\core\\utils.py\", line 160, in run_job\n",
      "    ret.return_value = task_function(task_cfg)\n",
      "  File \"C:\\Users\\jzhao16\\Documents\\GitHub\\99-cell-tracker-gnn-test\\run_feat_extract.py\", line 10, in main\n",
      "    module.create_csv(**dict(config.params))\n",
      "  File \"C:\\Users\\jzhao16\\Documents\\GitHub\\99-cell-tracker-gnn-test\\src\\datamodules\\extract_features\\preprocess_seq2graph_2d.py\", line 350, in create_csv\n",
      "    ds.preprocess_features_metric_learning(path_to_write=path_output, dict_path=dict_path)\n",
      "  File \"C:\\Users\\jzhao16\\Documents\\GitHub\\99-cell-tracker-gnn-test\\src\\datamodules\\extract_features\\preprocess_seq2graph_2d.py\", line 215, in preprocess_features_metric_learning\n",
      "    self.min_cell = dict_params['min_cell'][int(self.sec_path) - 1]\n",
      "KeyError: 'min_cell'\n"
     ]
    }
   ],
   "source": [
    "!echo Hello\n",
    "#!powershell -Command \"$env:HYDRA_FULL_ERROR='1'; echo $env:HYDRA_FULL_ERROR\"\n",
    "!conda activate 99-cell-tra-win11-310\n",
    "\n",
    "#!conda run 99-cell-tra-win11-310\n",
    "!set HYDRA_FULL_ERROR=1\n",
    "!set FOLDER_PATH=C:/Users/jzhao16/Documents/mydata/gnntest \n",
    "!set METRIC_PATH=C:/Users/jzhao16/Documents/mydata/gnntest/software/parameters/Features_Models/Fluo-C2DL-Huh7/all_params.pth \n",
    "!set DATA_NAME=Fluo-C2DL-Huh7\n",
    "\n",
    "!python run_feat_extract.py params.input_images=\"{FOLDER_PATH}/{DATA_NAME}\" params.input_masks=\"{FOLDER_PATH}/{DATA_NAME}\" params.input_seg=\"{FOLDER_PATH}/{DATA_NAME}\" params.output_csv=\"{FOLDER_PATH}/ct_features/\" params.sequences=['01','02']  params.seg_dir='_GT/TRA' params.basic=False params.input_model=\"{METRIC_PATH}\"\n",
    "#python run_feat_extract.py params.input_images=\"${FOLDER_PATH}/${DATA_NAME}\" params.input_masks=\"${FOLDER_PATH}/${DATA_NAME}\" params.input_seg=\"${FOLDER_PATH}/${DATA_NAME}\" params.output_csv=\"${FOLDER_PATH}/ct_features/\" params.sequences=['01','02']  params.seg_dir='_GT/TRA' params.basic=False params.input_model=\"${METRIC_PATH}\""
   ]
  },
  {
   "cell_type": "code",
   "execution_count": 21,
   "metadata": {},
   "outputs": [
    {
     "name": "stderr",
     "output_type": "stream",
     "text": [
      "Traceback (most recent call last):\n",
      "  File \"C:\\Users\\jzhao16\\Documents\\GitHub\\99-cell-tracker-gnn-test\\run_feat_extract.py\", line 13, in <module>\n",
      "    main()\n",
      "  File \"C:\\Users\\jzhao16\\.conda\\envs\\99-cell-tra-win11-310\\lib\\site-packages\\hydra\\main.py\", line 29, in decorated_main\n",
      "    _run_hydra(\n",
      "  File \"C:\\Users\\jzhao16\\.conda\\envs\\99-cell-tra-win11-310\\lib\\site-packages\\hydra\\_internal\\utils.py\", line 369, in _run_hydra\n",
      "    run_and_report(\n",
      "  File \"C:\\Users\\jzhao16\\.conda\\envs\\99-cell-tra-win11-310\\lib\\site-packages\\hydra\\_internal\\utils.py\", line 214, in run_and_report\n",
      "    raise ex\n",
      "  File \"C:\\Users\\jzhao16\\.conda\\envs\\99-cell-tra-win11-310\\lib\\site-packages\\hydra\\_internal\\utils.py\", line 211, in run_and_report\n",
      "    return func()\n",
      "  File \"C:\\Users\\jzhao16\\.conda\\envs\\99-cell-tra-win11-310\\lib\\site-packages\\hydra\\_internal\\utils.py\", line 370, in <lambda>\n",
      "    lambda: hydra.run(\n",
      "  File \"C:\\Users\\jzhao16\\.conda\\envs\\99-cell-tra-win11-310\\lib\\site-packages\\hydra\\_internal\\hydra.py\", line 93, in run\n",
      "    return run_job(\n",
      "  File \"C:\\Users\\jzhao16\\.conda\\envs\\99-cell-tra-win11-310\\lib\\site-packages\\hydra\\core\\utils.py\", line 129, in run_job\n",
      "    ret.return_value = task_function(task_cfg)\n",
      "  File \"C:\\Users\\jzhao16\\Documents\\GitHub\\99-cell-tracker-gnn-test\\run_feat_extract.py\", line 10, in main\n",
      "    module.create_csv(**dict(config.params))\n",
      "  File \"C:\\Users\\jzhao16\\Documents\\GitHub\\99-cell-tracker-gnn-test\\src\\datamodules\\extract_features\\preprocess_seq2graph_2d.py\", line 341, in create_csv\n",
      "    ds = TestDataset(\n",
      "  File \"C:\\Users\\jzhao16\\Documents\\GitHub\\99-cell-tracker-gnn-test\\src\\datamodules\\extract_features\\preprocess_seq2graph_2d.py\", line 38, in __init__\n",
      "    assert os.path.exists(dir_img), f\"Image paths ({dir_img}) is not exist, please fix it!\"\n",
      "AssertionError: Image paths (%FOLDER_PATH%\\%DATA_NAME%\\01) is not exist, please fix it!\n"
     ]
    }
   ],
   "source": [
    "\n",
    "!cmd /S /C set HYDRA_FULL_ERROR=1 \n",
    "!set FOLDER_PATH=C:\\Users\\jzhao16\\Documents\\mydata\\gnntest\n",
    "!set METRIC_PATH=%FOLDER_PATH%\\software\\parameters\\Features_Models\\Fluo-C2DL-Huh7\\all_params.pth\n",
    "!set DATA_NAME=Fluo-C2DL-Huh7 \n",
    "!python run_feat_extract.py params.input_images=%FOLDER_PATH%\\%DATA_NAME% params.input_masks=%FOLDER_PATH%\\%DATA_NAME% params.input_seg=%FOLDER_PATH%\\%DATA_NAME% params.output_csv=%FOLDER_PATH%\\ct_features\\ params.sequences=['01','02'] params.seg_dir=_GT/TRA params.basic=False params.input_model=%METRIC_PATH%\n"
   ]
  },
  {
   "cell_type": "code",
   "execution_count": 22,
   "metadata": {},
   "outputs": [
    {
     "name": "stderr",
     "output_type": "stream",
     "text": [
      "Traceback (most recent call last):\n",
      "  File \"C:\\Users\\jzhao16\\Documents\\GitHub\\99-cell-tracker-gnn-test\\run_feat_extract.py\", line 13, in <module>\n",
      "    main()\n",
      "  File \"C:\\Users\\jzhao16\\.conda\\envs\\99-cell-tra-win11-310\\lib\\site-packages\\hydra\\main.py\", line 29, in decorated_main\n",
      "    _run_hydra(\n",
      "  File \"C:\\Users\\jzhao16\\.conda\\envs\\99-cell-tra-win11-310\\lib\\site-packages\\hydra\\_internal\\utils.py\", line 369, in _run_hydra\n",
      "    run_and_report(\n",
      "  File \"C:\\Users\\jzhao16\\.conda\\envs\\99-cell-tra-win11-310\\lib\\site-packages\\hydra\\_internal\\utils.py\", line 214, in run_and_report\n",
      "    raise ex\n",
      "  File \"C:\\Users\\jzhao16\\.conda\\envs\\99-cell-tra-win11-310\\lib\\site-packages\\hydra\\_internal\\utils.py\", line 211, in run_and_report\n",
      "    return func()\n",
      "  File \"C:\\Users\\jzhao16\\.conda\\envs\\99-cell-tra-win11-310\\lib\\site-packages\\hydra\\_internal\\utils.py\", line 370, in <lambda>\n",
      "    lambda: hydra.run(\n",
      "  File \"C:\\Users\\jzhao16\\.conda\\envs\\99-cell-tra-win11-310\\lib\\site-packages\\hydra\\_internal\\hydra.py\", line 93, in run\n",
      "    return run_job(\n",
      "  File \"C:\\Users\\jzhao16\\.conda\\envs\\99-cell-tra-win11-310\\lib\\site-packages\\hydra\\core\\utils.py\", line 129, in run_job\n",
      "    ret.return_value = task_function(task_cfg)\n",
      "  File \"C:\\Users\\jzhao16\\Documents\\GitHub\\99-cell-tracker-gnn-test\\run_feat_extract.py\", line 10, in main\n",
      "    module.create_csv(**dict(config.params))\n",
      "  File \"C:\\Users\\jzhao16\\Documents\\GitHub\\99-cell-tracker-gnn-test\\src\\datamodules\\extract_features\\preprocess_seq2graph_2d.py\", line 350, in create_csv\n",
      "    ds.preprocess_features_metric_learning(path_to_write=path_output, dict_path=dict_path)\n",
      "  File \"C:\\Users\\jzhao16\\Documents\\GitHub\\99-cell-tracker-gnn-test\\src\\datamodules\\extract_features\\preprocess_seq2graph_2d.py\", line 215, in preprocess_features_metric_learning\n",
      "    self.min_cell = dict_params['min_cell'][int(self.sec_path) - 1]\n",
      "KeyError: 'min_cell'\n"
     ]
    }
   ],
   "source": [
    "import os\n",
    "\n",
    "# 设置路径变量\n",
    "FOLDER_PATH = r\"C:/Users/jzhao16/Documents/mydata/gnntest\"\n",
    "DATA_NAME = \"Fluo-C2DL-Huh7\"\n",
    "METRIC_PATH = os.path.join(FOLDER_PATH, \"software/parameters/Features_Models\", DATA_NAME, \"all_params.pth\")\n",
    "\n",
    "# 设置环境变量\n",
    "os.environ['HYDRA_FULL_ERROR'] = '1'\n",
    "command = (\n",
    "    f\"python run_feat_extract.py \"\n",
    "    f\"params.input_images={FOLDER_PATH}/{DATA_NAME} \"\n",
    "    f\"params.input_masks={FOLDER_PATH}/{DATA_NAME} \"\n",
    "    f\"params.input_seg={FOLDER_PATH}/{DATA_NAME} \"\n",
    "    f\"params.output_csv={FOLDER_PATH}/ct_features/ \"\n",
    "    f\"params.sequences=['01','02'] \"\n",
    "    f\"params.seg_dir='_GT/TRA' \"\n",
    "    f\"params.basic=False \"\n",
    "    f\"params.input_model={METRIC_PATH}\"\n",
    ")\n",
    "!{command}\n"
   ]
  },
  {
   "cell_type": "markdown",
   "metadata": {
    "id": "OXnZvVp9oKG0"
   },
   "source": [
    "# 4. Run Cell Tracking training"
   ]
  },
  {
   "cell_type": "code",
   "execution_count": null,
   "metadata": {
    "id": "U4eR_tFE9HTz"
   },
   "outputs": [],
   "source": [
    "!set HYDRA_FULL_ERROR=1\n",
    "!set FOLDER_PATH=C:/Users/jzhao16/Documents/mydata/gnntest \n",
    "!set DATA_NAME=Fluo-C2DL-Huh7\n",
    "\n",
    "# cell tracking training run\n",
    "!python run.py datamodule.dataset_params.main_path=\"{FOLDER_PATH}/ct_features/{DATA_NAME}\" datamodule.dataset_params.exp_name=\"2D_SIM\" datamodule.dataset_params.drop_feat=[]"
   ]
  },
  {
   "cell_type": "markdown",
   "metadata": {
    "id": "24ah3IId9ZaR"
   },
   "source": [
    "# **Inference**\n",
    "Update the following variables:\n",
    "\n",
    "\n",
    "*   MODEL_PYTORCH_LIGHTNING - according to the output of the previius cell\n",
    "*   MODEL_METRIC_LEARNING\n",
    "*   FOLDER_PATH - path to folder that contains the dataset\n",
    "*   MODALITY\n",
    "\n",
    "\n",
    "\n"
   ]
  },
  {
   "cell_type": "code",
   "execution_count": null,
   "metadata": {
    "id": "BsR9ClZn9Yvp"
   },
   "outputs": [],
   "source": [
    "\n",
    "!set SEQUENCE=01 # sequence number\n",
    "\n",
    "#export FOLDER_PATH=/content/drive/MyDrive/CellTracking/nature_method_ctc # TODO: update this path\n",
    "#!set FOLDER_PATH=/home/clark/data/gnntest\n",
    "!set FOLDER_PATH=C:/Users/jzhao16/Documents/mydata/gnntest\n",
    "\n",
    "#export MODEL_METRIC_LEARNING=/content/drive/MyDrive/CellTracking/nature_method_ctc/software/parameters/Features_Models/PhC-C2DH-U373/all_params.pth # TODO: update this path\n",
    "!set MODEL_METRIC_LEARNING=C:/Users/jzhao16/Documents/mydata/gnntest/software/parameters/Features_Models/PhC-C2DH-U373/all_params.pth # TODO: update this path\n",
    "\n",
    "!set MODEL_PYTORCH_LIGHTNING='C:/Users/jzhao16/Documents/GitHub/99-cell-tracker-gnn-test/logs/runs/2025-06-23/12-10-16/checkpoints/epoch=28.ckpt'  # TODO: update this path\n",
    "\n",
    "!set DATA_NAME=Fluo-C2DL-Huh7 # TODO: update this path\n",
    "!set MODALITY=\"2D\"  # dataset modality\n",
    "\n",
    "!set DATASET=\"{FOLDER_PATH}/{DATA_NAME}\"\n",
    "!set CODE_TRA=src/inference/\n",
    "\n",
    "#export PYTHONPATH=/content/cell-tracker-gnn\n",
    "#!set PYTHONPATH=/home/clark/code/99-cell-tracker-gnn-test # TODO: update this path\n",
    "!set PYTHONPATH=C:/Users/jzhao16/Documents/GitHub/99-cell-tracker-gnn-test # TODO: update this path\n",
    "\n",
    "# our model needs CSVs, so let's create from image and segmentation.\n",
    "!python {CODE_TRA}/preprocess_seq2graph_clean.py -cs 20 -ii \"{DATASET}/{SEQUENCE}\" -iseg \"{DATASET}/{SEQUENCE}_GT/TRA\" -im \"{MODEL_METRIC_LEARNING}\" -oc \"{DATASET}/{SEQUENCE}_CSV\"\n",
    "\n",
    "# run the prediction\n",
    "!python {CODE_TRA}/inference_clean.py -mp \"{MODEL_PYTORCH_LIGHTNING}\" -ns \"{SEQUENCE}\" -oc \"{DATASET}\"\n",
    "\n",
    "# create label maps\n",
    "!python {CODE_TRA}/postprocess_clean.py -modality \"{MODALITY}\" -iseg \"{DATASET}/{SEQUENCE}_GT/TRA\" -oi \"{DATASET}/{SEQUENCE}_RES_inference\"\n"
   ]
  },
  {
   "cell_type": "code",
   "execution_count": null,
   "metadata": {},
   "outputs": [],
   "source": []
  }
 ],
 "metadata": {
  "accelerator": "GPU",
  "colab": {
   "gpuType": "T4",
   "provenance": []
  },
  "kernelspec": {
   "display_name": "Python 3 (ipykernel)",
   "language": "python",
   "name": "python3"
  },
  "language_info": {
   "codemirror_mode": {
    "name": "ipython",
    "version": 3
   },
   "file_extension": ".py",
   "mimetype": "text/x-python",
   "name": "python",
   "nbconvert_exporter": "python",
   "pygments_lexer": "ipython3",
   "version": "3.8.13"
  }
 },
 "nbformat": 4,
 "nbformat_minor": 4
}
