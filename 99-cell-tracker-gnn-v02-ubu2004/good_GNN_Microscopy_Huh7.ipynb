{
 "cells": [
  {
   "cell_type": "markdown",
   "metadata": {
    "id": "lU3MFoThkqze"
   },
   "source": [
    "# **This Notebook is provided Training Example (PhC-C2DH-U373 Dataset) Using Colab**\n",
    "The notebook arragemnet is as follow\n",
    "\n",
    "*   **Prequesities**\n",
    "  1.   Conect to github, Clone the repository\n",
    "  2.   Configurate working directory and google drive connetction\n",
    "  3.   Download and install Conda, create conda enviroment with all the required packages\n",
    "\n",
    "*   **Trainings**\n",
    "  1.   Run feature extraction for metric learning\n",
    "  2.   Run metric learning training\n",
    "  3.   Run compreensive feature extraction with metric learning\n",
    "  4.   Run Cell Tracking training\n",
    "\n",
    "*   **Inference**\n",
    "\n",
    "\n",
    "\n",
    "\n",
    "\n",
    "\n"
   ]
  },
  {
   "cell_type": "markdown",
   "metadata": {
    "id": "XjK6-8l6nTbv"
   },
   "source": [
    "# **Prequesities**"
   ]
  },
  {
   "cell_type": "markdown",
   "metadata": {
    "id": "nQUP3ZYLmVOa"
   },
   "source": [
    "# 1. Conect to github, Clone the repository\n"
   ]
  },
  {
   "cell_type": "code",
   "execution_count": 10,
   "metadata": {
    "colab": {
     "base_uri": "https://localhost:8080/"
    },
    "id": "BNq7hyZeReV9",
    "outputId": "27cc6080-45dd-45de-a99a-467e47dce414"
   },
   "outputs": [],
   "source": [
    "import os\n",
    "#! git clone https://github.com/talbenha/cell-tracker-gnn\n",
    "\n",
    "#curr_workdir = f'./cell-tracker-gnn'\n",
    "#if os.path.exists(curr_workdir):\n",
    "#  os.chdir(curr_workdir)"
   ]
  },
  {
   "cell_type": "markdown",
   "metadata": {
    "id": "sg-StobkkpOw"
   },
   "source": [
    "# 2. Configurate working directory and google drive connetction\n"
   ]
  },
  {
   "cell_type": "code",
   "execution_count": 11,
   "metadata": {
    "colab": {
     "base_uri": "https://localhost:8080/"
    },
    "id": "SkznbTxwGFTf",
    "outputId": "76520696-750e-4975-f7ef-c0a5856c6eb3"
   },
   "outputs": [],
   "source": [
    "#import os\n",
    "#from google.colab import drive\n",
    "#drive.mount('/content/drive', force_remount=True)\n",
    "#file_path = '/content/drive/My Drive/CellTracking/nature_method_ctc/' # TODO: update this path\n",
    "#if os.path.exists(file_path):\n",
    "#  os.listdir(file_path)\n",
    "#else:\n",
    "#print(\"Error Path doesn't exist\")"
   ]
  },
  {
   "cell_type": "markdown",
   "metadata": {
    "id": "uAE2W8WnnROI"
   },
   "source": [
    "# 3. Download and install Conda, create conda enviroment with all the required packages"
   ]
  },
  {
   "cell_type": "markdown",
   "metadata": {
    "colab": {
     "base_uri": "https://localhost:8080/"
    },
    "collapsed": true,
    "id": "Pp9kcmdI47FA",
    "jupyter": {
     "outputs_hidden": true
    },
    "outputId": "43688c19-4e61-4b89-f054-3fe0339d8301"
   },
   "source": [
    "################################################################################\n",
    "# INSTALL CONDA ON GOOGLE COLAB\n",
    "################################################################################\n",
    "\n",
    "# try to run the bare minimum to get a new conda env working\n",
    "env_name = 'cell-tracking-challenge-mac310'\n",
    "conda_path = ''\n",
    "try:\n",
    "    conda_path = ! which conda\n",
    "finally:\n",
    "    print('')\n",
    "\n",
    "if (len(conda_path) == 0):\n",
    "    print('installing miniconda')\n",
    "    ! wget https://repo.anaconda.com/miniconda/Miniconda3-py37_4.8.2-Linux-x86_64.sh\n",
    "    ! chmod +x Miniconda3-py37_4.8.2-Linux-x86_64.sh\n",
    "    ! bash ./Miniconda3-py37_4.8.2-Linux-x86_64.sh -b -f -p /usr/local\n",
    "    import sys\n",
    "    sys.path.append('/usr/local/lib/python3.7/site-packages/')\n",
    "    ! conda init\n",
    "    ! conda install -n root _license -y -q\n",
    "else:\n",
    "    print('found miniconda')\n",
    "\n",
    "conda_envs = ! conda env list\n",
    "res = [i for i in conda_envs if env_name in i]\n",
    "if (len(res) == 0):\n",
    "    print(f'not found {env_name} env', len(res))\n",
    "    ! conda create --name cell-tracking-challenge-mac310 --file requirements-conda.txt\n",
    "else:\n",
    "    print(f'found {env_name} env', len(res))\n",
    "print(f'{env_name} was created')"
   ]
  },
  {
   "cell_type": "code",
   "execution_count": 12,
   "metadata": {
    "colab": {
     "base_uri": "https://localhost:8080/"
    },
    "id": "hRud_rqd-DeU",
    "outputId": "2702825b-3cc7-4cef-8d80-1e76c1ccc938"
   },
   "outputs": [],
   "source": [
    "%%bash\n",
    "#source activate cell-tracking-challenge\n",
    "#conda activate cell-tracking-challenge\n",
    "# install other requirements\n",
    "#pip install -r requirements.txt\n",
    "#pip install PyYAML==5.4.1"
   ]
  },
  {
   "cell_type": "code",
   "execution_count": 13,
   "metadata": {
    "colab": {
     "base_uri": "https://localhost:8080/",
     "height": 366
    },
    "id": "JLRuvmTsFQr3",
    "outputId": "75b9f650-34b1-4451-fade-dc1c8a3dabb6"
   },
   "outputs": [],
   "source": [
    "#!conda init\n",
    "#!conda activate cell-tracking-challenge\n",
    "#!pip install hydra-core==1.1.0\n",
    "#!pip install python-dotenv==0.20.0\n",
    "import dotenv\n",
    "#from dotenv import load_dotenv\n"
   ]
  },
  {
   "cell_type": "markdown",
   "metadata": {
    "id": "tHvSRgPIlEFo"
   },
   "source": [
    "# **Training**\n",
    " The first two stages can be skipped (step #2 is long in colab) by using the pre-trained model (in step #3) provided under the [releases](https://github.com/talbenha/cell-tracker-gnn/releases) of the repository. For example for the pretrained model for PhC-C2DH-U373 dataset, download the software and find the model under `software/parameters/Features_Models/PhC-C2DH-U373/all_params.pth`"
   ]
  },
  {
   "cell_type": "markdown",
   "metadata": {
    "id": "mgdYwfgjneeD"
   },
   "source": [
    "# 1. Run feature extraction for metric learning\n"
   ]
  },
  {
   "cell_type": "code",
   "execution_count": 14,
   "metadata": {
    "id": "jc8rZqC-JQAE"
   },
   "outputs": [
    {
     "name": "stdout",
     "output_type": "stream",
     "text": [
      "\n",
      "# conda environments:\n",
      "#\n",
      "base                   /home/tony/miniconda3\n",
      "99-deepcell-310        /home/tony/miniconda3/envs/99-deepcell-310\n",
      "cell-tracking-challenge-linux37 * /home/tony/miniconda3/envs/cell-tracking-challenge-linux37\n",
      "cell-tractr            /home/tony/miniconda3/envs/cell-tractr\n",
      "trackastra             /home/tony/miniconda3/envs/trackastra\n",
      "\n",
      "[2025-07-10 15:34:38,248][numexpr.utils][INFO] - Note: NumExpr detected 48 cores but \"NUMEXPR_MAX_THREADS\" not set, so enforcing safe limit of 8.\n",
      "[2025-07-10 15:34:38,248][numexpr.utils][INFO] - NumExpr defaulting to 8 threads.\n",
      "files were saved to : /home/tony/data/gnntest/CTC/basic_features/Fluo-C2DL-Huh7/01/csv\n",
      "files were saved to : /home/tony/data/gnntest/CTC/basic_features/Fluo-C2DL-Huh7/02/csv\n"
     ]
    }
   ],
   "source": [
    "%%bash\n",
    "conda env list\n",
    "#source activate cell-tracking-challenge\n",
    "export HYDRA_FULL_ERROR=1\n",
    "export FOLDER_PATH=/home/tony/data/gnntest/CTC # TODO: update this path\n",
    "export DATA_NAME=Fluo-C2DL-Huh7 # TODO: update this path\n",
    "\n",
    "python run_feat_extract.py params.input_images=\"${FOLDER_PATH}/${DATA_NAME}\" params.input_masks=\"${FOLDER_PATH}/${DATA_NAME}\" params.input_seg=\"${FOLDER_PATH}/${DATA_NAME}\" params.output_csv=\"${FOLDER_PATH}/basic_features\" params.sequences=['01','02']  params.seg_dir='_GT/TRA' params.basic=True"
   ]
  },
  {
   "cell_type": "code",
   "execution_count": null,
   "metadata": {
    "id": "-dRjx8GkFOkG"
   },
   "outputs": [],
   "source": []
  },
  {
   "cell_type": "markdown",
   "metadata": {
    "id": "NEWM_DoynnGs"
   },
   "source": [
    "# 2. Run metric learning training\n",
    " Pay attention that this cell takes long time on google colab, so you can skip this stage and use the pre-trained model provided under the [releases](https://github.com/talbenha/cell-tracker-gnn/releases) of the repository. For example for the pretrained model for PhC-C2DH-U373 dataset, download the software and find the model under `software/parameters/Features_Models/PhC-C2DH-U373/all_params.pth`"
   ]
  },
  {
   "cell_type": "code",
   "execution_count": 15,
   "metadata": {
    "id": "Sn1JcCVg8Dd1"
   },
   "outputs": [],
   "source": [
    "#%%bash\n",
    "#source activate cell-tracking-challenge\n",
    "#export HYDRA_FULL_ERROR=1\n",
    "#export FOLDER_PATH=/content/drive/MyDrive/CellTracking/nature_method_ctc # TODO: update this path\n",
    "#export DATA_NAME=PhC-C2DH-U373 # TODO: update this path\n",
    "\n",
    "#python run_train_metric_learning.py dataset.kwargs.data_dir_img=\"${FOLDER_PATH}/${DATA_NAME}\" dataset.kwargs.data_dir_mask=\"${FOLDER_PATH}/${DATA_NAME}\" dataset.kwargs.dir_csv=\"${FOLDER_PATH}/basic_features/${DATA_NAME}\" dataset.kwargs.subdir_mask='GT/TRA'"
   ]
  },
  {
   "cell_type": "markdown",
   "metadata": {
    "id": "7fi-43NNqSa5"
   },
   "source": [
    "--> output 'all_params.pth' is generated at end, it is the input_model (i.e. for METRIC_PATH variable) for the next step"
   ]
  },
  {
   "cell_type": "markdown",
   "metadata": {
    "id": "7O4aUzu_6Wfm"
   },
   "source": [
    "# **3. Run compreensive feature extraction with metric learning**"
   ]
  },
  {
   "cell_type": "code",
   "execution_count": 16,
   "metadata": {
    "id": "88FF8SgD-UYI"
   },
   "outputs": [
    {
     "name": "stdout",
     "output_type": "stream",
     "text": [
      "No LSB modules are available.\n",
      "Distributor ID:\tUbuntu\n",
      "Description:\tUbuntu 20.04.6 LTS\n",
      "Release:\t20.04\n",
      "Codename:\tfocal\n"
     ]
    }
   ],
   "source": [
    "!lsb_release -a\n",
    "#conda init\n",
    "#source activate cell-tracking-challenge\n",
    "#!conda activate cell-tracking-challenge\n",
    "\n"
   ]
  },
  {
   "cell_type": "code",
   "execution_count": 17,
   "metadata": {
    "id": "woSZYUsI9EED"
   },
   "outputs": [
    {
     "name": "stdout",
     "output_type": "stream",
     "text": [
      "\n",
      "# conda environments:\n",
      "#\n",
      "base                   /home/tony/miniconda3\n",
      "99-deepcell-310        /home/tony/miniconda3/envs/99-deepcell-310\n",
      "cell-tracking-challenge-linux37 * /home/tony/miniconda3/envs/cell-tracking-challenge-linux37\n",
      "cell-tractr            /home/tony/miniconda3/envs/cell-tractr\n",
      "trackastra             /home/tony/miniconda3/envs/trackastra\n",
      "\n",
      "[2025-07-10 15:35:05,309][numexpr.utils][INFO] - Note: NumExpr detected 48 cores but \"NUMEXPR_MAX_THREADS\" not set, so enforcing safe limit of 8.\n",
      "[2025-07-10 15:35:05,310][numexpr.utils][INFO] - NumExpr defaulting to 8 threads.\n",
      "Using resnet18 model architecture.\n",
      "files were saved to : /home/tony/data/gnntest/CTC/ct_features/Fluo-C2DL-Huh7/01/csv\n",
      "Using resnet18 model architecture.\n",
      "files were saved to : /home/tony/data/gnntest/CTC/ct_features/Fluo-C2DL-Huh7/02/csv\n"
     ]
    }
   ],
   "source": [
    "%%bash\n",
    "conda env list\n",
    "export HYDRA_FULL_ERROR=1\n",
    "#export FOLDER_PATH=/content/drive/MyDrive/CellTracking/nature_method_ctc # TODO: update this path\n",
    "export FOLDER_PATH=/home/tony/data/gnntest/CTC # TODO: update this path\n",
    "export METRIC_PATH=/home/tony/data/gnntest/software/parameters/Features_Models/Fluo-C2DL-Huh7/all_params.pth # TODO: update this path\n",
    "export DATA_NAME=Fluo-C2DL-Huh7 # TODO: update this path\n",
    "\n",
    "python run_feat_extract.py params.input_images=\"${FOLDER_PATH}/${DATA_NAME}\" params.input_masks=\"${FOLDER_PATH}/${DATA_NAME}\" params.input_seg=\"${FOLDER_PATH}/${DATA_NAME}\" params.output_csv=\"${FOLDER_PATH}/ct_features/\" params.sequences=['01','02']  params.seg_dir='_GT/TRA' params.basic=False params.input_model=\"${METRIC_PATH}\""
   ]
  },
  {
   "cell_type": "markdown",
   "metadata": {
    "id": "OXnZvVp9oKG0"
   },
   "source": [
    "# 4. Run Cell Tracking training"
   ]
  },
  {
   "cell_type": "code",
   "execution_count": 18,
   "metadata": {
    "id": "U4eR_tFE9HTz"
   },
   "outputs": [
    {
     "name": "stdout",
     "output_type": "stream",
     "text": [
      "[2025-07-10 15:36:21,150][src.utils.utils][INFO] - Disabling python warnings! <config.disable_warnings=True>\n",
      "⚙ CONFIG                                                                        \n",
      "├── trainer                                                                     \n",
      "│   └── _target_: pytorch_lightning.Trainer                                     \n",
      "│       gpus: 1                                                                 \n",
      "│       min_epochs: 1                                                           \n",
      "│       max_epochs: 500                                                         \n",
      "│       weights_summary: top                                                    \n",
      "│       progress_bar_refresh_rate: 100                                          \n",
      "│       terminate_on_nan: true                                                  \n",
      "│                                                                               \n",
      "├── model                                                                       \n",
      "│   └── _target_: src.models.celltrack_plmodel.CellTrackLitModel                \n",
      "│       one_hot_label: true                                                     \n",
      "│       loss_weights: 65                                                        \n",
      "│       sample: false                                                           \n",
      "│       weight_loss: true                                                       \n",
      "│       directed: true                                                          \n",
      "│       separate_models: true                                                   \n",
      "│       optim_module:                                                           \n",
      "│         target: Adam                                                          \n",
      "│         kwargs:                                                               \n",
      "│           lr: 0.001                                                           \n",
      "│           weight_decay: 1.0e-05                                               \n",
      "│       lr_sch_module:                                                          \n",
      "│         target: null                                                          \n",
      "│         monitor: val/acc                                                      \n",
      "│         kwargs:                                                               \n",
      "│           verbose: true                                                       \n",
      "│           mode: min                                                           \n",
      "│       model_params:                                                           \n",
      "│         target: CellTrack_Model                                               \n",
      "│         kwargs:                                                               \n",
      "│           hand_NodeEncoder_dic:                                               \n",
      "│             input_dim: 13                                                     \n",
      "│             fc_dims:                                                          \n",
      "│             - 64                                                              \n",
      "│             - 16                                                              \n",
      "│           learned_NodeEncoder_dic:                                            \n",
      "│             input_dim: 128                                                    \n",
      "│             fc_dims:                                                          \n",
      "│             - 64                                                              \n",
      "│             - 16                                                              \n",
      "│           intialize_EdgeEncoder_dic:                                          \n",
      "│             input_dim: 239                                                    \n",
      "│             fc_dims:                                                          \n",
      "│             - 128                                                             \n",
      "│             - 64                                                              \n",
      "│           message_passing:                                                    \n",
      "│             target: CellTrack_GNN                                             \n",
      "│             kwargs:                                                           \n",
      "│               in_channels: 32                                                 \n",
      "│               hidden_channels: 32                                             \n",
      "│               in_edge_channels: 64                                            \n",
      "│               hidden_edge_channels_conv: 16                                   \n",
      "│               hidden_edge_channels_linear:                                    \n",
      "│               - 128                                                           \n",
      "│               - 64                                                            \n",
      "│               dropout: 0.0                                                    \n",
      "│               num_layers: 6                                                   \n",
      "│               num_nodes_features: 3                                           \n",
      "│           edge_classifier_dic:                                                \n",
      "│             input_dim: 64                                                     \n",
      "│             fc_dims:                                                          \n",
      "│             - 128                                                             \n",
      "│             - 32                                                              \n",
      "│             - 1                                                               \n",
      "│             dropout_p: 0.2                                                    \n",
      "│             use_batchnorm: false                                              \n",
      "│                                                                               \n",
      "├── datamodule                                                                  \n",
      "│   └── _target_: src.datamodules.celltrack_datamodule_mulSeq.CellTrackDataModul\n",
      "│       data_dir: /home/tony/code/cell-tracker-gnn/data/                        \n",
      "│       batch_size: 8                                                           \n",
      "│       num_workers: 0                                                          \n",
      "│       pin_memory: false                                                       \n",
      "│       train_val_test_split:                                                   \n",
      "│       - 80                                                                    \n",
      "│       - 10                                                                    \n",
      "│       - 10                                                                    \n",
      "│       sampler_type: from_both                                                 \n",
      "│       dataset_params:                                                         \n",
      "│         num_frames: 10                                                        \n",
      "│         type_file: csv                                                        \n",
      "│         produce_gt: simple                                                    \n",
      "│         main_path: /home/tony/data/gnntest/CTC/ct_features/Fluo-C2DL-Huh7     \n",
      "│         dirs_path:                                                            \n",
      "│           train:                                                              \n",
      "│           - '01'                                                              \n",
      "│           - '02'                                                              \n",
      "│         one_hot_label: true                                                   \n",
      "│         exp_name: 2D_SIM                                                      \n",
      "│         overlap: 1                                                            \n",
      "│         jump_frames: 1                                                        \n",
      "│         mul_vals:                                                             \n",
      "│         - 2                                                                   \n",
      "│         - 2                                                                   \n",
      "│         - 2                                                                   \n",
      "│         filter_edges: true                                                    \n",
      "│         directed: true                                                        \n",
      "│         edge_feat_embed_dict:                                                 \n",
      "│           p: 1                                                                \n",
      "│           use_normalized_x: true                                              \n",
      "│           normalized_features: false                                          \n",
      "│         separate_models: true                                                 \n",
      "│         normalize_all_cols: false                                             \n",
      "│         same_frame: false                                                     \n",
      "│         next_frame: true                                                      \n",
      "│         self_loop: true                                                       \n",
      "│         normalize: true                                                       \n",
      "│         debug_visualization: true                                             \n",
      "│         which_preprocess: MinMax                                              \n",
      "│         drop_feat: []                                                         \n",
      "│                                                                               \n",
      "├── callbacks                                                                   \n",
      "│   └── model_checkpoint:                                                       \n",
      "│         _target_: pytorch_lightning.callbacks.ModelCheckpoint                 \n",
      "│         monitor: val/acc                                                      \n",
      "│         save_top_k: 1                                                         \n",
      "│         save_last: true                                                       \n",
      "│         mode: max                                                             \n",
      "│         verbose: false                                                        \n",
      "│         dirpath: checkpoints/                                                 \n",
      "│         filename: '{epoch:02d}'                                               \n",
      "│       early_stopping:                                                         \n",
      "│         _target_: pytorch_lightning.callbacks.EarlyStopping                   \n",
      "│         monitor: val/acc                                                      \n",
      "│         patience: 50                                                          \n",
      "│         mode: max                                                             \n",
      "│         min_delta: 0                                                          \n",
      "│                                                                               \n",
      "├── logger                                                                      \n",
      "│   └── tensorboard:                                                            \n",
      "│         _target_: pytorch_lightning.loggers.tensorboard.TensorBoardLogger     \n",
      "│         save_dir: tensorboard/                                                \n",
      "│         name: default                                                         \n",
      "│       csv:                                                                    \n",
      "│         _target_: pytorch_lightning.loggers.csv_logs.CSVLogger                \n",
      "│         save_dir: .                                                           \n",
      "│         name: csv/                                                            \n",
      "│                                                                               \n",
      "└── seed                                                                        \n",
      "    └── None                                                                    \n",
      "[2025-07-10 15:36:21,176][src.train][INFO] - Instantiating datamodule <src.datamodules.celltrack_datamodule_mulSeq.CellTrackDataModule>\n",
      "[2025-07-10 15:36:21,207][numexpr.utils][INFO] - Note: NumExpr detected 48 cores but \"NUMEXPR_MAX_THREADS\" not set, so enforcing safe limit of 8.\n",
      "[2025-07-10 15:36:21,207][numexpr.utils][INFO] - NumExpr defaulting to 8 threads.\n",
      "Start with /home/tony/data/gnntest/CTC/ct_features/Fluo-C2DL-Huh7/01/csv\n",
      "Num of produced graphs is 21\n",
      "Finish process /home/tony/data/gnntest/CTC/ct_features/Fluo-C2DL-Huh7/01/csv (train)\n",
      "Start with /home/tony/data/gnntest/CTC/ct_features/Fluo-C2DL-Huh7/02/csv\n",
      "Num of produced graphs is 21\n",
      "Finish process /home/tony/data/gnntest/CTC/ct_features/Fluo-C2DL-Huh7/02/csv (train)\n",
      "Processed Data is save to /home/tony/data/gnntest/CTC/ct_features/Fluo-C2DL-Huh7/01/processed/2D_SIM/MinMax_normalizedData_DirectedGraph_10Frames.pt\n",
      "seq len : [21, 21]\n",
      "[2025-07-10 15:36:26,166][src.train][INFO] - Instantiating model <src.models.celltrack_plmodel.CellTrackLitModel>\n",
      "[2025-07-10 15:36:26,377][src.train][INFO] - Instantiating callback <pytorch_lightning.callbacks.ModelCheckpoint>\n",
      "[2025-07-10 15:36:26,378][src.train][INFO] - Instantiating callback <pytorch_lightning.callbacks.EarlyStopping>\n",
      "[2025-07-10 15:36:26,378][src.train][INFO] - Instantiating logger <pytorch_lightning.loggers.tensorboard.TensorBoardLogger>\n",
      "[2025-07-10 15:36:26,379][src.train][INFO] - Instantiating logger <pytorch_lightning.loggers.csv_logs.CSVLogger>\n",
      "[2025-07-10 15:36:26,379][src.train][INFO] - Instantiating trainer <pytorch_lightning.Trainer>\n",
      "[2025-07-10 15:36:26,382][pytorch_lightning.utilities.distributed][INFO] - GPU available: True, used: True\n",
      "[2025-07-10 15:36:26,382][pytorch_lightning.utilities.distributed][INFO] - TPU available: False, using: 0 TPU cores\n",
      "[2025-07-10 15:36:26,382][pytorch_lightning.utilities.distributed][INFO] - IPU available: False, using: 0 IPUs\n",
      "[2025-07-10 15:36:26,382][src.train][INFO] - Logging hyperparameters!\n",
      "[2025-07-10 15:36:27,137][src.train][INFO] - Starting training!\n",
      "sample using from_both\n",
      "Training dataset length: 34\n",
      "Validation dataset length: 4\n",
      "Test dataset length: 4\n",
      "save begin\n",
      "data_train.csv saved with 34 rows\n",
      "data_val.csv saved with 4 rows\n",
      "data_test.csv saved with 4 rows\n",
      "save end\n",
      "[2025-07-10 15:36:27,299][pytorch_lightning.accelerators.gpu][INFO] - LOCAL_RANK: 0 - CUDA_VISIBLE_DEVICES: [0]\n",
      "[2025-07-10 15:36:30,101][pytorch_lightning.core.lightning][INFO] - \n",
      "   | Name            | Type                  | Params\n",
      "-----------------------------------------------------------\n",
      "0  | model           | CellTrack_Model       | 249 K \n",
      "1  | criterion       | BCEWithLogitsLoss     | 0     \n",
      "2  | trClassMetric   | ClassificationMetrics | 0     \n",
      "3  | valClassMetric  | ClassificationMetrics | 0     \n",
      "4  | testClassMetric | ClassificationMetrics | 0     \n",
      "5  | train_PredCount | Countspecific         | 0     \n",
      "6  | val_PredCount   | Countspecific         | 0     \n",
      "7  | test_PredCount  | Countspecific         | 0     \n",
      "8  | train_TarCount  | Countspecific         | 0     \n",
      "9  | val_TarCount    | Countspecific         | 0     \n",
      "10 | test_TarCount   | Countspecific         | 0     \n",
      "-----------------------------------------------------------\n",
      "249 K     Trainable params\n",
      "0         Non-trainable params\n",
      "249 K     Total params\n",
      "0.997     Total estimated model params size (MB)\n"
     ]
    },
    {
     "name": "stderr",
     "output_type": "stream",
     "text": [
      "Processing...\n",
      "Done!\n"
     ]
    },
    {
     "name": "stdout",
     "output_type": "stream",
     "text": [
      "Epoch 0: 100%|██████████| 6/6 [00:00<00:00, 17.44it/s]                \n",
      "Validating: 0it [00:00, ?it/s]\u001b[A\n",
      "Epoch 0: 100%|██████████| 6/6 [00:00<00:00, 15.78it/s, loss=0.0162, v_num=0_0]\n",
      "Epoch 1: 100%|██████████| 6/6 [00:00<00:00, 19.27it/s, loss=0.0162, v_num=0_0]   \n",
      "Validating: 0it [00:00, ?it/s]\u001b[A\n",
      "Epoch 1: 100%|██████████| 6/6 [00:00<00:00, 17.56it/s, loss=0.0186, v_num=0_0, train/loss=0.0162, train/acc=0.0117, train/preds_sum=0.000, train/targets_sum=2.67e+3]\n",
      "Epoch 2: 100%|██████████| 6/6 [00:00<00:00, 17.85it/s, loss=0.0186, v_num=0_0, train/loss=0.0162, train/acc=0.0117, train/preds_sum=0.000, train/targets_sum=2.67e+3]   \n",
      "Validating: 0it [00:00, ?it/s]\u001b[A\n",
      "Epoch 2: 100%|██████████| 6/6 [00:00<00:00, 16.16it/s, loss=0.0176, v_num=0_0, train/loss=0.021, train/acc=0.0151, train/preds_sum=0.000, train/targets_sum=2.67e+3] \n",
      "Epoch 3: 100%|██████████| 6/6 [00:00<00:00, 18.63it/s, loss=0.0176, v_num=0_0, train/loss=0.021, train/acc=0.0151, train/preds_sum=0.000, train/targets_sum=2.67e+3]   \n",
      "Validating: 0it [00:00, ?it/s]\u001b[A\n",
      "Epoch 3: 100%|██████████| 6/6 [00:00<00:00, 17.06it/s, loss=0.0181, v_num=0_0, train/loss=0.0157, train/acc=0.0113, train/preds_sum=0.000, train/targets_sum=2.67e+3]\n",
      "Epoch 4: 100%|██████████| 6/6 [00:00<00:00, 18.54it/s, loss=0.0181, v_num=0_0, train/loss=0.0157, train/acc=0.0113, train/preds_sum=0.000, train/targets_sum=2.67e+3]   \n",
      "Validating: 0it [00:00, ?it/s]\u001b[A\n",
      "Epoch 4: 100%|██████████| 6/6 [00:00<00:00, 16.74it/s, loss=0.0191, v_num=0_0, train/loss=0.0194, train/acc=0.014, train/preds_sum=0.000, train/targets_sum=2.67e+3] \n",
      "Epoch 5: 100%|██████████| 6/6 [00:00<00:00, 16.48it/s, loss=0.0191, v_num=0_0, train/loss=0.0194, train/acc=0.014, train/preds_sum=0.000, train/targets_sum=2.67e+3]   \n",
      "Validating: 0it [00:00, ?it/s]\u001b[A\n",
      "Epoch 5: 100%|██████████| 6/6 [00:00<00:00, 15.13it/s, loss=0.0185, v_num=0_0, train/loss=0.0202, train/acc=0.0146, train/preds_sum=0.000, train/targets_sum=2.67e+3]\n",
      "Epoch 6: 100%|██████████| 6/6 [00:00<00:00, 17.16it/s, loss=0.0185, v_num=0_0, train/loss=0.0202, train/acc=0.0146, train/preds_sum=0.000, train/targets_sum=2.67e+3]   \n",
      "Validating: 0it [00:00, ?it/s]\u001b[A\n",
      "Epoch 6: 100%|██████████| 6/6 [00:00<00:00, 15.69it/s, loss=0.019, v_num=0_0, train/loss=0.0186, train/acc=0.0134, train/preds_sum=0.000, train/targets_sum=2.67e+3] \n",
      "Epoch 7: 100%|██████████| 6/6 [00:00<00:00, 18.25it/s, loss=0.019, v_num=0_0, train/loss=0.0186, train/acc=0.0134, train/preds_sum=0.000, train/targets_sum=2.67e+3]   \n",
      "Validating: 0it [00:00, ?it/s]\u001b[A\n",
      "Epoch 7: 100%|██████████| 6/6 [00:00<00:00, 12.55it/s, loss=0.0192, v_num=0_0, train/loss=0.0177, train/acc=0.0128, train/preds_sum=0.000, train/targets_sum=2.67e+3]\n",
      "Epoch 8: 100%|██████████| 6/6 [00:00<00:00, 15.47it/s, loss=0.0192, v_num=0_0, train/loss=0.0177, train/acc=0.0128, train/preds_sum=0.000, train/targets_sum=2.67e+3]   \n",
      "Validating: 0it [00:00, ?it/s]\u001b[A\n",
      "Epoch 8: 100%|██████████| 6/6 [00:00<00:00, 14.24it/s, loss=0.0188, v_num=0_0, train/loss=0.0204, train/acc=0.0147, train/preds_sum=0.000, train/targets_sum=2.67e+3]\n",
      "Epoch 9: 100%|██████████| 6/6 [00:00<00:00, 15.88it/s, loss=0.0188, v_num=0_0, train/loss=0.0204, train/acc=0.0147, train/preds_sum=0.000, train/targets_sum=2.67e+3]   \n",
      "Validating: 0it [00:00, ?it/s]\u001b[A\n",
      "Epoch 9: 100%|██████████| 6/6 [00:00<00:00, 14.48it/s, loss=0.0182, v_num=0_0, train/loss=0.0184, train/acc=0.0133, train/preds_sum=0.000, train/targets_sum=2.67e+3]\n",
      "Epoch 10: 100%|██████████| 6/6 [00:00<00:00, 16.51it/s, loss=0.0182, v_num=0_0, train/loss=0.0184, train/acc=0.0133, train/preds_sum=0.000, train/targets_sum=2.67e+3]  \n",
      "Validating: 0it [00:00, ?it/s]\u001b[A\n",
      "Epoch 10: 100%|██████████| 6/6 [00:00<00:00, 14.96it/s, loss=0.0186, v_num=0_0, train/loss=0.0163, train/acc=0.0117, train/preds_sum=0.000, train/targets_sum=2.67e+3]\n",
      "Epoch 11: 100%|██████████| 6/6 [00:00<00:00, 17.14it/s, loss=0.0186, v_num=0_0, train/loss=0.0163, train/acc=0.0117, train/preds_sum=0.000, train/targets_sum=2.67e+3]   \n",
      "Validating: 0it [00:00, ?it/s]\u001b[A\n",
      "Epoch 11: 100%|██████████| 6/6 [00:00<00:00, 15.56it/s, loss=0.0185, v_num=0_0, train/loss=0.0192, train/acc=0.0139, train/preds_sum=0.000, train/targets_sum=2.67e+3]\n",
      "Epoch 12: 100%|██████████| 6/6 [00:00<00:00, 16.89it/s, loss=0.0185, v_num=0_0, train/loss=0.0192, train/acc=0.0139, train/preds_sum=0.000, train/targets_sum=2.67e+3]   \n",
      "Validating: 0it [00:00, ?it/s]\u001b[A\n",
      "Epoch 12: 100%|██████████| 6/6 [00:00<00:00, 15.35it/s, loss=0.0186, v_num=0_0, train/loss=0.0203, train/acc=0.0146, train/preds_sum=0.000, train/targets_sum=2.67e+3]\n",
      "Epoch 13: 100%|██████████| 6/6 [00:00<00:00, 16.35it/s, loss=0.0186, v_num=0_0, train/loss=0.0203, train/acc=0.0146, train/preds_sum=0.000, train/targets_sum=2.67e+3]   \n",
      "Validating: 0it [00:00, ?it/s]\u001b[A\n",
      "Epoch 13: 100%|██████████| 6/6 [00:00<00:00, 14.78it/s, loss=0.0194, v_num=0_0, train/loss=0.0185, train/acc=0.0134, train/preds_sum=0.000, train/targets_sum=2.67e+3]\n",
      "Epoch 14: 100%|██████████| 6/6 [00:00<00:00, 15.04it/s, loss=0.0194, v_num=0_0, train/loss=0.0185, train/acc=0.0134, train/preds_sum=0.000, train/targets_sum=2.67e+3]   \n",
      "Validating: 0it [00:00, ?it/s]\u001b[A\n",
      "Epoch 14: 100%|██████████| 6/6 [00:00<00:00, 13.70it/s, loss=0.0187, v_num=0_0, train/loss=0.0198, train/acc=0.0142, train/preds_sum=0.000, train/targets_sum=2.67e+3]\n",
      "Epoch 15: 100%|██████████| 6/6 [00:00<00:00, 16.45it/s, loss=0.0187, v_num=0_0, train/loss=0.0198, train/acc=0.0142, train/preds_sum=0.000, train/targets_sum=2.67e+3]   \n",
      "Validating: 0it [00:00, ?it/s]\u001b[A\n",
      "Epoch 15: 100%|██████████| 6/6 [00:00<00:00, 14.85it/s, loss=0.0184, v_num=0_0, train/loss=0.0161, train/acc=0.0116, train/preds_sum=0.000, train/targets_sum=2.67e+3]\n",
      "Epoch 16: 100%|██████████| 6/6 [00:00<00:00, 16.59it/s, loss=0.0184, v_num=0_0, train/loss=0.0161, train/acc=0.0116, train/preds_sum=0.000, train/targets_sum=2.67e+3]   \n",
      "Validating: 0it [00:00, ?it/s]\u001b[A\n",
      "Epoch 16: 100%|██████████| 6/6 [00:00<00:00, 15.11it/s, loss=0.0183, v_num=0_0, train/loss=0.0192, train/acc=0.0138, train/preds_sum=0.000, train/targets_sum=2.67e+3]\n",
      "Epoch 17: 100%|██████████| 6/6 [00:00<00:00, 16.57it/s, loss=0.0183, v_num=0_0, train/loss=0.0192, train/acc=0.0138, train/preds_sum=0.000, train/targets_sum=2.67e+3]   \n",
      "Validating: 0it [00:00, ?it/s]\u001b[A\n",
      "Epoch 17: 100%|██████████| 6/6 [00:00<00:00, 14.95it/s, loss=0.0178, v_num=0_0, train/loss=0.0181, train/acc=0.0131, train/preds_sum=0.000, train/targets_sum=2.67e+3]\n",
      "Epoch 18: 100%|██████████| 6/6 [00:00<00:00, 15.73it/s, loss=0.0178, v_num=0_0, train/loss=0.0181, train/acc=0.0131, train/preds_sum=0.000, train/targets_sum=2.67e+3]   \n",
      "Validating: 0it [00:00, ?it/s]\u001b[A\n",
      "Epoch 18: 100%|██████████| 6/6 [00:00<00:00, 14.35it/s, loss=0.019, v_num=0_0, train/loss=0.018, train/acc=0.013, train/preds_sum=0.000, train/targets_sum=2.67e+3]   \n",
      "Epoch 19: 100%|██████████| 6/6 [00:00<00:00, 16.73it/s, loss=0.019, v_num=0_0, train/loss=0.018, train/acc=0.013, train/preds_sum=0.000, train/targets_sum=2.67e+3]   \n",
      "Validating: 0it [00:00, ?it/s]\u001b[A\n",
      "Epoch 19: 100%|██████████| 6/6 [00:00<00:00, 15.17it/s, loss=0.0187, v_num=0_0, train/loss=0.0206, train/acc=0.0149, train/preds_sum=0.000, train/targets_sum=2.67e+3]\n",
      "Epoch 20: 100%|██████████| 6/6 [00:00<00:00, 16.14it/s, loss=0.0187, v_num=0_0, train/loss=0.0206, train/acc=0.0149, train/preds_sum=0.000, train/targets_sum=2.67e+3]   \n",
      "Validating: 0it [00:00, ?it/s]\u001b[A\n",
      "Epoch 20: 100%|██████████| 6/6 [00:00<00:00, 14.74it/s, loss=0.019, v_num=0_0, train/loss=0.0183, train/acc=0.0132, train/preds_sum=0.000, train/targets_sum=2.67e+3] \n",
      "Epoch 21: 100%|██████████| 6/6 [00:00<00:00, 16.23it/s, loss=0.019, v_num=0_0, train/loss=0.0183, train/acc=0.0132, train/preds_sum=0.000, train/targets_sum=2.67e+3]   \n",
      "Validating: 0it [00:00, ?it/s]\u001b[A\n",
      "Epoch 21: 100%|██████████| 6/6 [00:00<00:00, 14.80it/s, loss=0.0185, v_num=0_0, train/loss=0.0191, train/acc=0.0138, train/preds_sum=0.000, train/targets_sum=2.67e+3]\n",
      "Epoch 22: 100%|██████████| 6/6 [00:00<00:00, 16.34it/s, loss=0.0185, v_num=0_0, train/loss=0.0191, train/acc=0.0138, train/preds_sum=0.000, train/targets_sum=2.67e+3]   \n",
      "Validating: 0it [00:00, ?it/s]\u001b[A\n",
      "Epoch 22: 100%|██████████| 6/6 [00:00<00:00, 14.76it/s, loss=0.0178, v_num=0_0, train/loss=0.016, train/acc=0.0115, train/preds_sum=0.000, train/targets_sum=2.67e+3] \n",
      "Epoch 23: 100%|██████████| 6/6 [00:00<00:00, 16.33it/s, loss=0.0178, v_num=0_0, train/loss=0.016, train/acc=0.0115, train/preds_sum=0.000, train/targets_sum=2.67e+3]   \n",
      "Validating: 0it [00:00, ?it/s]\u001b[A\n",
      "Epoch 23: 100%|██████████| 6/6 [00:00<00:00, 14.81it/s, loss=0.0178, v_num=0_0, train/loss=0.0181, train/acc=0.013, train/preds_sum=0.000, train/targets_sum=2.67e+3]\n",
      "Epoch 24: 100%|██████████| 6/6 [00:00<00:00, 17.11it/s, loss=0.0178, v_num=0_0, train/loss=0.0181, train/acc=0.013, train/preds_sum=0.000, train/targets_sum=2.67e+3]   \n",
      "Validating: 0it [00:00, ?it/s]\u001b[A\n",
      "Epoch 24: 100%|██████████| 6/6 [00:00<00:00, 15.43it/s, loss=0.0179, v_num=0_0, train/loss=0.0179, train/acc=0.0129, train/preds_sum=0.000, train/targets_sum=2.67e+3]\n",
      "Epoch 25: 100%|██████████| 6/6 [00:00<00:00, 16.78it/s, loss=0.0179, v_num=0_0, train/loss=0.0179, train/acc=0.0129, train/preds_sum=0.000, train/targets_sum=2.67e+3]   \n",
      "Validating: 0it [00:00, ?it/s]\u001b[A\n",
      "Epoch 25: 100%|██████████| 6/6 [00:00<00:00, 15.17it/s, loss=0.0189, v_num=0_0, train/loss=0.0198, train/acc=0.0143, train/preds_sum=0.000, train/targets_sum=2.67e+3]\n",
      "Epoch 26: 100%|██████████| 6/6 [00:00<00:00, 16.19it/s, loss=0.0189, v_num=0_0, train/loss=0.0198, train/acc=0.0143, train/preds_sum=0.000, train/targets_sum=2.67e+3]   \n",
      "Validating: 0it [00:00, ?it/s]\u001b[A\n",
      "Epoch 26: 100%|██████████| 6/6 [00:00<00:00, 14.55it/s, loss=0.0183, v_num=0_0, train/loss=0.0199, train/acc=0.0143, train/preds_sum=0.000, train/targets_sum=2.67e+3]\n",
      "Epoch 27: 100%|██████████| 6/6 [00:00<00:00, 15.98it/s, loss=0.0183, v_num=0_0, train/loss=0.0199, train/acc=0.0143, train/preds_sum=0.000, train/targets_sum=2.67e+3]   \n",
      "Validating: 0it [00:00, ?it/s]\u001b[A\n",
      "Epoch 27: 100%|██████████| 6/6 [00:00<00:00, 14.48it/s, loss=0.0187, v_num=0_0, train/loss=0.0158, train/acc=0.0114, train/preds_sum=0.000, train/targets_sum=2.67e+3]\n",
      "Epoch 28: 100%|██████████| 6/6 [00:00<00:00, 16.28it/s, loss=0.0187, v_num=0_0, train/loss=0.0158, train/acc=0.0114, train/preds_sum=0.000, train/targets_sum=2.67e+3]   \n",
      "Validating: 0it [00:00, ?it/s]\u001b[A\n",
      "Epoch 28: 100%|██████████| 6/6 [00:00<00:00, 14.68it/s, loss=0.0184, v_num=0_0, train/loss=0.0192, train/acc=0.0138, train/preds_sum=0.000, train/targets_sum=2.67e+3]\n",
      "Epoch 29: 100%|██████████| 6/6 [00:00<00:00, 15.39it/s, loss=0.0184, v_num=0_0, train/loss=0.0192, train/acc=0.0138, train/preds_sum=0.000, train/targets_sum=2.67e+3]   \n",
      "Validating: 0it [00:00, ?it/s]\u001b[A\n",
      "Epoch 29: 100%|██████████| 6/6 [00:00<00:00, 14.00it/s, loss=0.0173, v_num=0_0, train/loss=0.0187, train/acc=0.0135, train/preds_sum=0.000, train/targets_sum=2.67e+3]\n",
      "Epoch 30: 100%|██████████| 6/6 [00:00<00:00, 16.88it/s, loss=0.0173, v_num=0_0, train/loss=0.0187, train/acc=0.0135, train/preds_sum=0.000, train/targets_sum=2.67e+3]   \n",
      "Validating: 0it [00:00, ?it/s]\u001b[A\n",
      "Epoch 30: 100%|██████████| 6/6 [00:00<00:00, 15.16it/s, loss=0.0182, v_num=0_0, train/loss=0.0157, train/acc=0.0113, train/preds_sum=0.000, train/targets_sum=2.67e+3]\n",
      "Epoch 31: 100%|██████████| 6/6 [00:00<00:00, 15.82it/s, loss=0.0182, v_num=0_0, train/loss=0.0157, train/acc=0.0113, train/preds_sum=0.000, train/targets_sum=2.67e+3]   \n",
      "Validating: 0it [00:00, ?it/s]\u001b[A\n",
      "Epoch 31: 100%|██████████| 6/6 [00:00<00:00, 14.12it/s, loss=0.0181, v_num=0_0, train/loss=0.0194, train/acc=0.014, train/preds_sum=0.000, train/targets_sum=2.67e+3] \n",
      "Epoch 32: 100%|██████████| 6/6 [00:00<00:00, 16.56it/s, loss=0.0181, v_num=0_0, train/loss=0.0194, train/acc=0.014, train/preds_sum=0.000, train/targets_sum=2.67e+3]   \n",
      "Validating: 0it [00:00, ?it/s]\u001b[A\n",
      "Epoch 32: 100%|██████████| 6/6 [00:00<00:00, 14.97it/s, loss=0.0183, v_num=0_0, train/loss=0.0186, train/acc=0.0134, train/preds_sum=0.000, train/targets_sum=2.67e+3]\n",
      "Epoch 33: 100%|██████████| 6/6 [00:00<00:00, 15.78it/s, loss=0.0183, v_num=0_0, train/loss=0.0186, train/acc=0.0134, train/preds_sum=0.000, train/targets_sum=2.67e+3]   \n",
      "Validating: 0it [00:00, ?it/s]\u001b[A\n",
      "Epoch 33: 100%|██████████| 6/6 [00:00<00:00, 14.08it/s, loss=0.0195, v_num=0_0, train/loss=0.0196, train/acc=0.0142, train/preds_sum=0.000, train/targets_sum=2.67e+3]\n",
      "Epoch 34: 100%|██████████| 6/6 [00:00<00:00, 16.46it/s, loss=0.0195, v_num=0_0, train/loss=0.0196, train/acc=0.0142, train/preds_sum=0.000, train/targets_sum=2.67e+3]   \n",
      "Validating: 0it [00:00, ?it/s]\u001b[A\n",
      "Epoch 34: 100%|██████████| 6/6 [00:00<00:00, 14.85it/s, loss=0.0193, v_num=0_0, train/loss=0.0204, train/acc=0.0147, train/preds_sum=0.000, train/targets_sum=2.67e+3]\n",
      "Epoch 35: 100%|██████████| 6/6 [00:00<00:00, 14.54it/s, loss=0.0193, v_num=0_0, train/loss=0.0204, train/acc=0.0147, train/preds_sum=0.000, train/targets_sum=2.67e+3]   \n",
      "Validating: 0it [00:00, ?it/s]\u001b[A\n",
      "Epoch 35: 100%|██████████| 6/6 [00:00<00:00, 13.18it/s, loss=0.0193, v_num=0_0, train/loss=0.0187, train/acc=0.0135, train/preds_sum=0.000, train/targets_sum=2.67e+3]\n",
      "Epoch 36: 100%|██████████| 6/6 [00:00<00:00, 16.37it/s, loss=0.0193, v_num=0_0, train/loss=0.0187, train/acc=0.0135, train/preds_sum=0.000, train/targets_sum=2.67e+3]   \n",
      "Validating: 0it [00:00, ?it/s]\u001b[A\n",
      "Epoch 36: 100%|██████████| 6/6 [00:00<00:00, 14.78it/s, loss=0.0189, v_num=0_0, train/loss=0.0186, train/acc=0.0134, train/preds_sum=0.000, train/targets_sum=2.67e+3]\n",
      "Epoch 37: 100%|██████████| 6/6 [00:00<00:00, 16.11it/s, loss=0.0189, v_num=0_0, train/loss=0.0186, train/acc=0.0134, train/preds_sum=0.000, train/targets_sum=2.67e+3]   \n",
      "Validating: 0it [00:00, ?it/s]\u001b[A\n",
      "Epoch 37: 100%|██████████| 6/6 [00:00<00:00, 14.53it/s, loss=0.0177, v_num=0_0, train/loss=0.018, train/acc=0.013, train/preds_sum=0.000, train/targets_sum=2.67e+3]  \n",
      "Epoch 38: 100%|██████████| 6/6 [00:00<00:00, 16.70it/s, loss=0.0177, v_num=0_0, train/loss=0.018, train/acc=0.013, train/preds_sum=0.000, train/targets_sum=2.67e+3]   \n",
      "Validating: 0it [00:00, ?it/s]\u001b[A\n",
      "Epoch 38: 100%|██████████| 6/6 [00:00<00:00, 15.01it/s, loss=0.0171, v_num=0_0, train/loss=0.0157, train/acc=0.0113, train/preds_sum=0.000, train/targets_sum=2.67e+3]\n",
      "Epoch 39: 100%|██████████| 6/6 [00:00<00:00, 17.15it/s, loss=0.0171, v_num=0_0, train/loss=0.0157, train/acc=0.0113, train/preds_sum=0.000, train/targets_sum=2.67e+3]   \n",
      "Validating: 0it [00:00, ?it/s]\u001b[A\n",
      "Epoch 39: 100%|██████████| 6/6 [00:00<00:00, 15.35it/s, loss=0.0171, v_num=0_0, train/loss=0.0163, train/acc=0.0117, train/preds_sum=0.000, train/targets_sum=2.67e+3]\n",
      "Epoch 40: 100%|██████████| 6/6 [00:00<00:00, 15.71it/s, loss=0.0171, v_num=0_0, train/loss=0.0163, train/acc=0.0117, train/preds_sum=0.000, train/targets_sum=2.67e+3]   \n",
      "Validating: 0it [00:00, ?it/s]\u001b[A\n",
      "Epoch 40: 100%|██████████| 6/6 [00:00<00:00, 14.13it/s, loss=0.0171, v_num=0_0, train/loss=0.0186, train/acc=0.0134, train/preds_sum=0.000, train/targets_sum=2.67e+3]\n",
      "Epoch 41: 100%|██████████| 6/6 [00:00<00:00, 14.72it/s, loss=0.0171, v_num=0_0, train/loss=0.0186, train/acc=0.0134, train/preds_sum=0.000, train/targets_sum=2.67e+3]   \n",
      "Validating: 0it [00:00, ?it/s]\u001b[A\n",
      "Epoch 41: 100%|██████████| 6/6 [00:00<00:00, 13.35it/s, loss=0.0178, v_num=0_0, train/loss=0.018, train/acc=0.013, train/preds_sum=0.000, train/targets_sum=2.67e+3]  \n",
      "Epoch 42: 100%|██████████| 6/6 [00:00<00:00, 15.88it/s, loss=0.0178, v_num=0_0, train/loss=0.018, train/acc=0.013, train/preds_sum=0.000, train/targets_sum=2.67e+3]   \n",
      "Validating: 0it [00:00, ?it/s]\u001b[A\n",
      "Epoch 42: 100%|██████████| 6/6 [00:00<00:00, 14.16it/s, loss=0.0184, v_num=0_0, train/loss=0.0183, train/acc=0.0132, train/preds_sum=0.000, train/targets_sum=2.67e+3]\n",
      "Epoch 43: 100%|██████████| 6/6 [00:00<00:00, 16.22it/s, loss=0.0184, v_num=0_0, train/loss=0.0183, train/acc=0.0132, train/preds_sum=0.000, train/targets_sum=2.67e+3]   \n",
      "Validating: 0it [00:00, ?it/s]\u001b[A\n",
      "Epoch 43: 100%|██████████| 6/6 [00:00<00:00, 14.46it/s, loss=0.0183, v_num=0_0, train/loss=0.0186, train/acc=0.0134, train/preds_sum=0.000, train/targets_sum=2.67e+3]\n",
      "Epoch 44: 100%|██████████| 6/6 [00:01<00:00,  4.67it/s, loss=0.0183, v_num=0_0, train/loss=0.0186, train/acc=0.0134, train/preds_sum=0.000, train/targets_sum=2.67e+3]   \n",
      "Validating: 0it [00:00, ?it/s]\u001b[A\n",
      "Epoch 44: 100%|██████████| 6/6 [00:01<00:00,  4.51it/s, loss=0.0184, v_num=0_0, train/loss=0.0183, train/acc=0.0132, train/preds_sum=0.000, train/targets_sum=2.67e+3]\n",
      "Epoch 45: 100%|██████████| 6/6 [00:00<00:00, 15.48it/s, loss=0.0184, v_num=0_0, train/loss=0.0183, train/acc=0.0132, train/preds_sum=0.000, train/targets_sum=2.67e+3]   \n",
      "Validating: 0it [00:00, ?it/s]\u001b[A\n",
      "Epoch 45: 100%|██████████| 6/6 [00:00<00:00, 13.88it/s, loss=0.0185, v_num=0_0, train/loss=0.0183, train/acc=0.0132, train/preds_sum=0.000, train/targets_sum=2.67e+3]\n",
      "Epoch 46: 100%|██████████| 6/6 [00:00<00:00, 16.50it/s, loss=0.0185, v_num=0_0, train/loss=0.0183, train/acc=0.0132, train/preds_sum=0.000, train/targets_sum=2.67e+3]   \n",
      "Validating: 0it [00:00, ?it/s]\u001b[A\n",
      "Epoch 46: 100%|██████████| 6/6 [00:00<00:00, 14.77it/s, loss=0.0188, v_num=0_0, train/loss=0.0188, train/acc=0.0136, train/preds_sum=0.000, train/targets_sum=2.67e+3]\n",
      "Epoch 47: 100%|██████████| 6/6 [00:00<00:00, 14.83it/s, loss=0.0188, v_num=0_0, train/loss=0.0188, train/acc=0.0136, train/preds_sum=0.000, train/targets_sum=2.67e+3]   \n",
      "Validating: 0it [00:00, ?it/s]\u001b[A\n",
      "Epoch 47: 100%|██████████| 6/6 [00:00<00:00, 13.33it/s, loss=0.0187, v_num=0_0, train/loss=0.0197, train/acc=0.0142, train/preds_sum=0.000, train/targets_sum=2.67e+3]\n",
      "Epoch 48: 100%|██████████| 6/6 [00:00<00:00, 16.74it/s, loss=0.0187, v_num=0_0, train/loss=0.0197, train/acc=0.0142, train/preds_sum=0.000, train/targets_sum=2.67e+3]   \n",
      "Validating: 0it [00:00, ?it/s]\u001b[A\n",
      "Epoch 48: 100%|██████████| 6/6 [00:00<00:00, 14.92it/s, loss=0.0181, v_num=0_0, train/loss=0.0178, train/acc=0.0128, train/preds_sum=0.000, train/targets_sum=2.67e+3]\n",
      "Epoch 49: 100%|██████████| 6/6 [00:00<00:00, 16.01it/s, loss=0.0181, v_num=0_0, train/loss=0.0178, train/acc=0.0128, train/preds_sum=0.000, train/targets_sum=2.67e+3]   \n",
      "Validating: 0it [00:00, ?it/s]\u001b[A\n",
      "Epoch 49: 100%|██████████| 6/6 [00:00<00:00, 14.14it/s, loss=0.018, v_num=0_0, train/loss=0.0161, train/acc=0.0116, train/preds_sum=0.000, train/targets_sum=2.67e+3] \n",
      "Epoch 50: 100%|██████████| 6/6 [00:00<00:00, 16.09it/s, loss=0.018, v_num=0_0, train/loss=0.0161, train/acc=0.0116, train/preds_sum=0.000, train/targets_sum=2.67e+3]   \n",
      "Validating: 0it [00:00, ?it/s]\u001b[A\n",
      "Epoch 50: 100%|██████████| 6/6 [00:00<00:00, 14.38it/s, loss=0.0171, v_num=0_0, train/loss=0.0182, train/acc=0.0132, train/preds_sum=0.000, train/targets_sum=2.67e+3]\n",
      "Epoch 50: 100%|██████████| 6/6 [00:00<00:00, 12.66it/s, loss=0.0171, v_num=0_0, train/loss=0.0182, train/acc=0.0132, train/preds_sum=0.000, train/targets_sum=2.67e+3]\n",
      "[2025-07-10 15:36:59,607][src.train][INFO] - Starting testing!\n",
      "sample using from_both\n",
      "Training dataset length: 34\n",
      "Validation dataset length: 4\n",
      "Test dataset length: 4\n",
      "save begin\n",
      "data_train.csv saved with 34 rows\n",
      "data_val.csv saved with 4 rows\n",
      "data_test.csv saved with 4 rows\n",
      "save end\n",
      "[2025-07-10 15:36:59,782][pytorch_lightning.accelerators.gpu][INFO] - LOCAL_RANK: 0 - CUDA_VISIBLE_DEVICES: [0]\n",
      "Testing: 0it [00:00, ?it/s]--------------------------------------------------------------------------------\n",
      "DATALOADER:0 TEST RESULTS\n",
      "{'test/FN_epoch': 1152.0,\n",
      " 'test/FP_epoch': 0.0,\n",
      " 'test/TN_epoch': 0.0,\n",
      " 'test/TP_epoch': 0.0,\n",
      " 'test/acc': 0.0,\n",
      " 'test/acc_epoch': 0.0,\n",
      " 'test/loss': 0.0,\n",
      " 'test/prec': 0.0,\n",
      " 'test/prec_epoch': 0.0,\n",
      " 'test/preds_sum': 0.0,\n",
      " 'test/preds_sum_epoch': 0.0,\n",
      " 'test/rec': 0.0,\n",
      " 'test/rec_epoch': 0.0,\n",
      " 'test/targets_sum': 1152.0,\n",
      " 'test/targets_sum_epoch': 1152.0}\n",
      "--------------------------------------------------------------------------------\n",
      "Testing: 100%|██████████| 1/1 [00:00<00:00, 20.84it/s]\n",
      "[2025-07-10 15:37:00,039][src.train][INFO] - Finalizing!\n",
      "[2025-07-10 15:37:00,039][src.train][INFO] - Best checkpoint path:\n",
      "/home/tony/code/cell-tracker-gnn/logs/runs/2025-07-10/15-36-19/checkpoints/epoch=00.ckpt\n"
     ]
    }
   ],
   "source": [
    "%%bash\n",
    "export HYDRA_FULL_ERROR=1\n",
    "#export FOLDER_PATH=/content/drive/MyDrive/CellTracking/nature_method_ctc # TODO: update this path\n",
    "export FOLDER_PATH=/home/tony/data/gnntest/CTC # TODO: update this path\n",
    "export DATA_NAME=Fluo-C2DL-Huh7 # TODO: update this path\n",
    "# cell tracking training run\n",
    "python run.py datamodule.dataset_params.main_path=\"${FOLDER_PATH}/ct_features/${DATA_NAME}\" datamodule.dataset_params.exp_name=\"2D_SIM\" datamodule.dataset_params.drop_feat=[]"
   ]
  },
  {
   "cell_type": "markdown",
   "metadata": {
    "id": "24ah3IId9ZaR"
   },
   "source": [
    "# **Inference**\n",
    "Update the following variables:\n",
    "\n",
    "\n",
    "*   MODEL_PYTORCH_LIGHTNING - according to the output of the previius cell\n",
    "*   MODEL_METRIC_LEARNING\n",
    "*   FOLDER_PATH - path to folder that contains the dataset\n",
    "*   MODALITY\n",
    "\n",
    "\n",
    "\n"
   ]
  },
  {
   "cell_type": "code",
   "execution_count": 20,
   "metadata": {
    "id": "BsR9ClZn9Yvp"
   },
   "outputs": [
    {
     "name": "stdout",
     "output_type": "stream",
     "text": [
      "number of detected changes: 0\n",
      "0\n",
      "global_delta_row: 13\n",
      "global_delta_col: 11\n",
      "We don't assign new region of interest - use the old one\n",
      "Using resnet18 model architecture.\n",
      "files were saved to : /home/tony/data/gnntest/CTC/Fluo-C2DL-Huh7/01_CSV/csv\n",
      "load model from: /home/tony/code/cell-tracker-gnn/logs/runs/2025-07-10/15-36-19/checkpoints/epoch=00.ckpt\n",
      "\"directed\":        True\n",
      "\"loss_weights\":    65\n",
      "\"lr\":              0.001\n",
      "\"lr_sch_module\":   {'target': None, 'monitor': 'val/acc', 'kwargs': {'verbose': True, 'mode': 'min'}}\n",
      "\"model_params\":    {'target': 'CellTrack_Model', 'kwargs': {'hand_NodeEncoder_dic': {'input_dim': 13, 'fc_dims': [64, 16]}, 'learned_NodeEncoder_dic': {'input_dim': 128, 'fc_dims': [64, 16]}, 'intialize_EdgeEncoder_dic': {'input_dim': 239, 'fc_dims': [128, 64]}, 'message_passing': {'target': 'CellTrack_GNN', 'kwargs': {'in_channels': 32, 'hidden_channels': 32, 'in_edge_channels': 64, 'hidden_edge_channels_conv': 16, 'hidden_edge_channels_linear': [128, 64], 'dropout': 0.0, 'num_layers': 6, 'num_nodes_features': 3}}, 'edge_classifier_dic': {'input_dim': 64, 'fc_dims': [128, 32, 1], 'dropout_p': 0.2, 'use_batchnorm': False}}}\n",
      "\"one_hot_label\":   True\n",
      "\"optim_module\":    {'target': 'Adam', 'kwargs': {'lr': 0.001, 'weight_decay': 1e-05}}\n",
      "\"sample\":          False\n",
      "\"separate_models\": True\n",
      "\"weight_decay\":    0.0005\n",
      "\"weight_loss\":     True\n",
      "Start with /home/tony/data/gnntest/CTC/Fluo-C2DL-Huh7/01_CSV/csv\n",
      "features: Index(['frame_num', 'area', 'min_row_bb', 'min_col_bb', 'max_row_bb',\n",
      "       'max_col_bb', 'centroid_row', 'centroid_col', 'major_axis_length',\n",
      "       'minor_axis_length',\n",
      "       ...\n",
      "       'feat_118', 'feat_119', 'feat_120', 'feat_121', 'feat_122', 'feat_123',\n",
      "       'feat_124', 'feat_125', 'feat_126', 'feat_127'],\n",
      "      dtype='object', length=141)\n",
      "Finish frame index 0\n",
      "Finish process /home/tony/data/gnntest/CTC/Fluo-C2DL-Huh7/01_CSV/csv (test)\n",
      "save path : /home/tony/data/gnntest/CTC/Fluo-C2DL-Huh7/01_RES_inference\n",
      "Save inference files: \n",
      " - /home/tony/data/gnntest/CTC/Fluo-C2DL-Huh7/01_RES_inference/pytorch_geometric_data.pt \n",
      " - /home/tony/data/gnntest/CTC/Fluo-C2DL-Huh7/01_RES_inference/all_data_df.csv \n",
      " - /home/tony/data/gnntest/CTC/Fluo-C2DL-Huh7/01_RES_inference/raw_output.pt\n",
      "Load /home/tony/data/gnntest/CTC/Fluo-C2DL-Huh7/01_RES_inference/pytorch_geometric_data.pt\n",
      "Load /home/tony/data/gnntest/CTC/Fluo-C2DL-Huh7/01_RES_inference/all_data_df.csv\n",
      "Load /home/tony/data/gnntest/CTC/Fluo-C2DL-Huh7/01_RES_inference/raw_output.pt\n",
      "Number of different vals: 0\n"
     ]
    }
   ],
   "source": [
    "%%bash\n",
    "#source activate cell-tracking-challenge\n",
    "export SEQUENCE=01 # sequence number\n",
    "\n",
    "export FOLDER_PATH=/home/tony/data/gnntest/CTC # T\n",
    "export MODEL_METRIC_LEARNING=/home/tony/data/gnntest/software/parameters/Features_Models/Fluo-C2DL-Huh7/all_params.pth # TODO: update this path\n",
    "export MODEL_PYTORCH_LIGHTNING='/home/tony/code/cell-tracker-gnn/logs/runs/2025-07-10/15-36-19/checkpoints/epoch=00.ckpt' # TODO: update this path\n",
    "export DATA_NAME=Fluo-C2DL-Huh7 # TODO: update this path\n",
    "\n",
    "export MODALITY=\"2D\"  # dataset modality\n",
    "export DATASET=\"${FOLDER_PATH}/${DATA_NAME}\"\n",
    "export CODE_TRA=src/inference/\n",
    "\n",
    "#export PYTHONPATH=/content/cell-tracker-gnn\n",
    "export PYTHONPATH=/home/tony/code/cell-tracker-gnn # TODO: update this path\n",
    "\n",
    "# our model needs CSVs, so let's create from image and segmentation.\n",
    "python ${CODE_TRA}/preprocess_seq2graph_clean.py -cs 20 -ii \"${DATASET}/${SEQUENCE}\" -iseg \"${DATASET}/${SEQUENCE}_GT/TRA\" -im \"${MODEL_METRIC_LEARNING}\" -oc \"${DATASET}/${SEQUENCE}_CSV\"\n",
    "\n",
    "# run the prediction\n",
    "python ${CODE_TRA}/inference_clean.py -mp \"${MODEL_PYTORCH_LIGHTNING}\" -ns \"${SEQUENCE}\" -oc \"${DATASET}\"\n",
    "\n",
    "# create label maps\n",
    "python ${CODE_TRA}/postprocess_clean.py -modality \"${MODALITY}\" -iseg \"${DATASET}/${SEQUENCE}_GT/TRA\" -oi \"${DATASET}/${SEQUENCE}_RES_inference\"\n"
   ]
  },
  {
   "cell_type": "code",
   "execution_count": null,
   "metadata": {},
   "outputs": [],
   "source": []
  }
 ],
 "metadata": {
  "accelerator": "GPU",
  "colab": {
   "gpuType": "T4",
   "provenance": []
  },
  "kernelspec": {
   "display_name": "Python 3 (ipykernel)",
   "language": "python",
   "name": "python3"
  },
  "language_info": {
   "codemirror_mode": {
    "name": "ipython",
    "version": 3
   },
   "file_extension": ".py",
   "mimetype": "text/x-python",
   "name": "python",
   "nbconvert_exporter": "python",
   "pygments_lexer": "ipython3",
   "version": "3.8.13"
  }
 },
 "nbformat": 4,
 "nbformat_minor": 4
}
