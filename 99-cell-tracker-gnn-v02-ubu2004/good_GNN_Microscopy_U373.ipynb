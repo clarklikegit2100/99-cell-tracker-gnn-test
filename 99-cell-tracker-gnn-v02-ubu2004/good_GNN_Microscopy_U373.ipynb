{
 "cells": [
  {
   "cell_type": "markdown",
   "metadata": {
    "id": "lU3MFoThkqze"
   },
   "source": [
    "# **This Notebook is provided Training Example (PhC-C2DH-U373 Dataset) Using Colab**\n",
    "The notebook arragemnet is as follow\n",
    "\n",
    "*   **Prequesities**\n",
    "  1.   Conect to github, Clone the repository\n",
    "  2.   Configurate working directory and google drive connetction\n",
    "  3.   Download and install Conda, create conda enviroment with all the required packages\n",
    "\n",
    "*   **Trainings**\n",
    "  1.   Run feature extraction for metric learning\n",
    "  2.   Run metric learning training\n",
    "  3.   Run compreensive feature extraction with metric learning\n",
    "  4.   Run Cell Tracking training\n",
    "\n",
    "*   **Inference**\n",
    "\n",
    "\n",
    "\n",
    "\n",
    "\n",
    "\n"
   ]
  },
  {
   "cell_type": "markdown",
   "metadata": {
    "id": "XjK6-8l6nTbv"
   },
   "source": [
    "# **Prequesities**"
   ]
  },
  {
   "cell_type": "markdown",
   "metadata": {
    "id": "nQUP3ZYLmVOa"
   },
   "source": [
    "# 1. Conect to github, Clone the repository\n"
   ]
  },
  {
   "cell_type": "code",
   "execution_count": 1,
   "metadata": {
    "colab": {
     "base_uri": "https://localhost:8080/"
    },
    "id": "BNq7hyZeReV9",
    "outputId": "27cc6080-45dd-45de-a99a-467e47dce414"
   },
   "outputs": [],
   "source": [
    "import os\n",
    "#! git clone https://github.com/talbenha/cell-tracker-gnn\n",
    "\n",
    "#curr_workdir = f'./cell-tracker-gnn'\n",
    "#if os.path.exists(curr_workdir):\n",
    "#  os.chdir(curr_workdir)"
   ]
  },
  {
   "cell_type": "markdown",
   "metadata": {
    "id": "sg-StobkkpOw"
   },
   "source": [
    "# 2. Configurate working directory and google drive connetction\n"
   ]
  },
  {
   "cell_type": "code",
   "execution_count": 2,
   "metadata": {
    "colab": {
     "base_uri": "https://localhost:8080/"
    },
    "id": "SkznbTxwGFTf",
    "outputId": "76520696-750e-4975-f7ef-c0a5856c6eb3"
   },
   "outputs": [],
   "source": [
    "#import os\n",
    "#from google.colab import drive\n",
    "#drive.mount('/content/drive', force_remount=True)\n",
    "#file_path = '/content/drive/My Drive/CellTracking/nature_method_ctc/' # TODO: update this path\n",
    "#if os.path.exists(file_path):\n",
    "#  os.listdir(file_path)\n",
    "#else:\n",
    "#print(\"Error Path doesn't exist\")"
   ]
  },
  {
   "cell_type": "markdown",
   "metadata": {
    "id": "uAE2W8WnnROI"
   },
   "source": [
    "# 3. Download and install Conda, create conda enviroment with all the required packages"
   ]
  },
  {
   "cell_type": "markdown",
   "metadata": {
    "colab": {
     "base_uri": "https://localhost:8080/"
    },
    "collapsed": true,
    "id": "Pp9kcmdI47FA",
    "jupyter": {
     "outputs_hidden": true
    },
    "outputId": "43688c19-4e61-4b89-f054-3fe0339d8301"
   },
   "source": [
    "################################################################################\n",
    "# INSTALL CONDA ON GOOGLE COLAB\n",
    "################################################################################\n",
    "\n",
    "# try to run the bare minimum to get a new conda env working\n",
    "env_name = 'cell-tracking-challenge-mac310'\n",
    "conda_path = ''\n",
    "try:\n",
    "    conda_path = ! which conda\n",
    "finally:\n",
    "    print('')\n",
    "\n",
    "if (len(conda_path) == 0):\n",
    "    print('installing miniconda')\n",
    "    ! wget https://repo.anaconda.com/miniconda/Miniconda3-py37_4.8.2-Linux-x86_64.sh\n",
    "    ! chmod +x Miniconda3-py37_4.8.2-Linux-x86_64.sh\n",
    "    ! bash ./Miniconda3-py37_4.8.2-Linux-x86_64.sh -b -f -p /usr/local\n",
    "    import sys\n",
    "    sys.path.append('/usr/local/lib/python3.7/site-packages/')\n",
    "    ! conda init\n",
    "    ! conda install -n root _license -y -q\n",
    "else:\n",
    "    print('found miniconda')\n",
    "\n",
    "conda_envs = ! conda env list\n",
    "res = [i for i in conda_envs if env_name in i]\n",
    "if (len(res) == 0):\n",
    "    print(f'not found {env_name} env', len(res))\n",
    "    ! conda create --name cell-tracking-challenge-mac310 --file requirements-conda.txt\n",
    "else:\n",
    "    print(f'found {env_name} env', len(res))\n",
    "print(f'{env_name} was created')"
   ]
  },
  {
   "cell_type": "code",
   "execution_count": 3,
   "metadata": {
    "colab": {
     "base_uri": "https://localhost:8080/"
    },
    "id": "hRud_rqd-DeU",
    "outputId": "2702825b-3cc7-4cef-8d80-1e76c1ccc938"
   },
   "outputs": [],
   "source": [
    "%%bash\n",
    "#source activate cell-tracking-challenge\n",
    "#conda activate cell-tracking-challenge\n",
    "# install other requirements\n",
    "#pip install -r requirements.txt\n",
    "#pip install PyYAML==5.4.1"
   ]
  },
  {
   "cell_type": "code",
   "execution_count": 4,
   "metadata": {
    "colab": {
     "base_uri": "https://localhost:8080/",
     "height": 366
    },
    "id": "JLRuvmTsFQr3",
    "outputId": "75b9f650-34b1-4451-fade-dc1c8a3dabb6"
   },
   "outputs": [],
   "source": [
    "#!conda init\n",
    "#!conda activate cell-tracking-challenge\n",
    "#!pip install hydra-core==1.1.0\n",
    "#!pip install python-dotenv==0.20.0\n",
    "import dotenv\n",
    "#from dotenv import load_dotenv\n"
   ]
  },
  {
   "cell_type": "markdown",
   "metadata": {
    "id": "tHvSRgPIlEFo"
   },
   "source": [
    "# **Training**\n",
    " The first two stages can be skipped (step #2 is long in colab) by using the pre-trained model (in step #3) provided under the [releases](https://github.com/talbenha/cell-tracker-gnn/releases) of the repository. For example for the pretrained model for PhC-C2DH-U373 dataset, download the software and find the model under `software/parameters/Features_Models/PhC-C2DH-U373/all_params.pth`"
   ]
  },
  {
   "cell_type": "markdown",
   "metadata": {
    "id": "mgdYwfgjneeD"
   },
   "source": [
    "# 1. Run feature extraction for metric learning\n"
   ]
  },
  {
   "cell_type": "code",
   "execution_count": 5,
   "metadata": {
    "id": "jc8rZqC-JQAE"
   },
   "outputs": [
    {
     "name": "stdout",
     "output_type": "stream",
     "text": [
      "\n",
      "# conda environments:\n",
      "#\n",
      "base                   /home/tony/miniconda3\n",
      "99-deepcell-310        /home/tony/miniconda3/envs/99-deepcell-310\n",
      "cell-tracking-challenge-linux37 * /home/tony/miniconda3/envs/cell-tracking-challenge-linux37\n",
      "cell-tractr            /home/tony/miniconda3/envs/cell-tractr\n",
      "trackastra             /home/tony/miniconda3/envs/trackastra\n",
      "\n",
      "[2025-07-10 13:54:38,065][numexpr.utils][INFO] - Note: NumExpr detected 48 cores but \"NUMEXPR_MAX_THREADS\" not set, so enforcing safe limit of 8.\n",
      "[2025-07-10 13:54:38,066][numexpr.utils][INFO] - NumExpr defaulting to 8 threads.\n",
      "files were saved to : /home/tony/data/gnntest/CTC/basic_features/PhC-C2DH-U373/01/csv\n",
      "files were saved to : /home/tony/data/gnntest/CTC/basic_features/PhC-C2DH-U373/02/csv\n"
     ]
    }
   ],
   "source": [
    "%%bash\n",
    "conda env list\n",
    "#source activate cell-tracking-challenge\n",
    "export HYDRA_FULL_ERROR=1\n",
    "export FOLDER_PATH=/home/tony/data/gnntest/CTC # TODO: update this path\n",
    "export DATA_NAME=PhC-C2DH-U373 # TODO: update this path\n",
    "\n",
    "python run_feat_extract.py params.input_images=\"${FOLDER_PATH}/${DATA_NAME}\" params.input_masks=\"${FOLDER_PATH}/${DATA_NAME}\" params.input_seg=\"${FOLDER_PATH}/${DATA_NAME}\" params.output_csv=\"${FOLDER_PATH}/basic_features\" params.sequences=['01','02']  params.seg_dir='_GT/TRA' params.basic=True"
   ]
  },
  {
   "cell_type": "code",
   "execution_count": null,
   "metadata": {
    "id": "-dRjx8GkFOkG"
   },
   "outputs": [],
   "source": []
  },
  {
   "cell_type": "markdown",
   "metadata": {
    "id": "NEWM_DoynnGs"
   },
   "source": [
    "# 2. Run metric learning training\n",
    " Pay attention that this cell takes long time on google colab, so you can skip this stage and use the pre-trained model provided under the [releases](https://github.com/talbenha/cell-tracker-gnn/releases) of the repository. For example for the pretrained model for PhC-C2DH-U373 dataset, download the software and find the model under `software/parameters/Features_Models/PhC-C2DH-U373/all_params.pth`"
   ]
  },
  {
   "cell_type": "code",
   "execution_count": 6,
   "metadata": {
    "id": "Sn1JcCVg8Dd1"
   },
   "outputs": [],
   "source": [
    "#%%bash\n",
    "#source activate cell-tracking-challenge\n",
    "#export HYDRA_FULL_ERROR=1\n",
    "#export FOLDER_PATH=/content/drive/MyDrive/CellTracking/nature_method_ctc # TODO: update this path\n",
    "#export DATA_NAME=PhC-C2DH-U373 # TODO: update this path\n",
    "\n",
    "#python run_train_metric_learning.py dataset.kwargs.data_dir_img=\"${FOLDER_PATH}/${DATA_NAME}\" dataset.kwargs.data_dir_mask=\"${FOLDER_PATH}/${DATA_NAME}\" dataset.kwargs.dir_csv=\"${FOLDER_PATH}/basic_features/${DATA_NAME}\" dataset.kwargs.subdir_mask='GT/TRA'"
   ]
  },
  {
   "cell_type": "markdown",
   "metadata": {
    "id": "7fi-43NNqSa5"
   },
   "source": [
    "--> output 'all_params.pth' is generated at end, it is the input_model (i.e. for METRIC_PATH variable) for the next step"
   ]
  },
  {
   "cell_type": "markdown",
   "metadata": {
    "id": "7O4aUzu_6Wfm"
   },
   "source": [
    "# **3. Run compreensive feature extraction with metric learning**"
   ]
  },
  {
   "cell_type": "markdown",
   "metadata": {
    "id": "OFBY9bWU6gCV"
   },
   "source": []
  },
  {
   "cell_type": "markdown",
   "metadata": {
    "id": "bS5fms3X3s6X"
   },
   "source": []
  },
  {
   "cell_type": "code",
   "execution_count": 7,
   "metadata": {
    "id": "88FF8SgD-UYI"
   },
   "outputs": [
    {
     "name": "stdout",
     "output_type": "stream",
     "text": [
      "No LSB modules are available.\n",
      "Distributor ID:\tUbuntu\n",
      "Description:\tUbuntu 20.04.6 LTS\n",
      "Release:\t20.04\n",
      "Codename:\tfocal\n",
      "\n",
      "CondaError: Run 'conda init' before 'conda activate'\n",
      "\n"
     ]
    }
   ],
   "source": [
    "!lsb_release -a\n",
    "#conda init\n",
    "#source activate cell-tracking-challenge\n",
    "!conda activate cell-tracking-challenge\n",
    "\n"
   ]
  },
  {
   "cell_type": "code",
   "execution_count": 8,
   "metadata": {
    "id": "woSZYUsI9EED"
   },
   "outputs": [
    {
     "name": "stdout",
     "output_type": "stream",
     "text": [
      "\n",
      "# conda environments:\n",
      "#\n",
      "base                   /home/tony/miniconda3\n",
      "99-deepcell-310        /home/tony/miniconda3/envs/99-deepcell-310\n",
      "cell-tracking-challenge-linux37 * /home/tony/miniconda3/envs/cell-tracking-challenge-linux37\n",
      "cell-tractr            /home/tony/miniconda3/envs/cell-tractr\n",
      "trackastra             /home/tony/miniconda3/envs/trackastra\n",
      "\n",
      "[2025-07-10 13:54:49,722][numexpr.utils][INFO] - Note: NumExpr detected 48 cores but \"NUMEXPR_MAX_THREADS\" not set, so enforcing safe limit of 8.\n",
      "[2025-07-10 13:54:49,722][numexpr.utils][INFO] - NumExpr defaulting to 8 threads.\n",
      "Using resnet18 model architecture.\n",
      "files were saved to : /home/tony/data/gnntest/CTC/ct_features/PhC-C2DH-U373/01/csv\n",
      "Using resnet18 model architecture.\n",
      "files were saved to : /home/tony/data/gnntest/CTC/ct_features/PhC-C2DH-U373/02/csv\n"
     ]
    }
   ],
   "source": [
    "%%bash\n",
    "conda env list\n",
    "export HYDRA_FULL_ERROR=1\n",
    "#export FOLDER_PATH=/content/drive/MyDrive/CellTracking/nature_method_ctc # TODO: update this path\n",
    "export FOLDER_PATH=/home/tony/data/gnntest/CTC # TODO: update this path\n",
    "export METRIC_PATH=/home/tony/data/gnntest/software/parameters/Features_Models/PhC-C2DH-U373/all_params.pth # TODO: update this path\n",
    "export DATA_NAME=PhC-C2DH-U373 # TODO: update this path\n",
    "\n",
    "python run_feat_extract.py params.input_images=\"${FOLDER_PATH}/${DATA_NAME}\" params.input_masks=\"${FOLDER_PATH}/${DATA_NAME}\" params.input_seg=\"${FOLDER_PATH}/${DATA_NAME}\" params.output_csv=\"${FOLDER_PATH}/ct_features/\" params.sequences=['01','02']  params.seg_dir='_GT/TRA' params.basic=False params.input_model=\"${METRIC_PATH}\""
   ]
  },
  {
   "cell_type": "markdown",
   "metadata": {
    "id": "OXnZvVp9oKG0"
   },
   "source": [
    "# 4. Run Cell Tracking training"
   ]
  },
  {
   "cell_type": "code",
   "execution_count": 10,
   "metadata": {
    "id": "U4eR_tFE9HTz"
   },
   "outputs": [
    {
     "name": "stdout",
     "output_type": "stream",
     "text": [
      "[2025-07-10 14:06:13,190][src.utils.utils][INFO] - Disabling python warnings! <config.disable_warnings=True>\n",
      "⚙ CONFIG                                                                        \n",
      "├── trainer                                                                     \n",
      "│   └── _target_: pytorch_lightning.Trainer                                     \n",
      "│       gpus: 1                                                                 \n",
      "│       min_epochs: 1                                                           \n",
      "│       max_epochs: 500                                                         \n",
      "│       weights_summary: top                                                    \n",
      "│       progress_bar_refresh_rate: 100                                          \n",
      "│       terminate_on_nan: true                                                  \n",
      "│                                                                               \n",
      "├── model                                                                       \n",
      "│   └── _target_: src.models.celltrack_plmodel.CellTrackLitModel                \n",
      "│       one_hot_label: true                                                     \n",
      "│       loss_weights: 65                                                        \n",
      "│       sample: false                                                           \n",
      "│       weight_loss: true                                                       \n",
      "│       directed: true                                                          \n",
      "│       separate_models: true                                                   \n",
      "│       optim_module:                                                           \n",
      "│         target: Adam                                                          \n",
      "│         kwargs:                                                               \n",
      "│           lr: 0.001                                                           \n",
      "│           weight_decay: 1.0e-05                                               \n",
      "│       lr_sch_module:                                                          \n",
      "│         target: null                                                          \n",
      "│         monitor: val/acc                                                      \n",
      "│         kwargs:                                                               \n",
      "│           verbose: true                                                       \n",
      "│           mode: min                                                           \n",
      "│       model_params:                                                           \n",
      "│         target: CellTrack_Model                                               \n",
      "│         kwargs:                                                               \n",
      "│           hand_NodeEncoder_dic:                                               \n",
      "│             input_dim: 13                                                     \n",
      "│             fc_dims:                                                          \n",
      "│             - 64                                                              \n",
      "│             - 16                                                              \n",
      "│           learned_NodeEncoder_dic:                                            \n",
      "│             input_dim: 128                                                    \n",
      "│             fc_dims:                                                          \n",
      "│             - 64                                                              \n",
      "│             - 16                                                              \n",
      "│           intialize_EdgeEncoder_dic:                                          \n",
      "│             input_dim: 239                                                    \n",
      "│             fc_dims:                                                          \n",
      "│             - 128                                                             \n",
      "│             - 64                                                              \n",
      "│           message_passing:                                                    \n",
      "│             target: CellTrack_GNN                                             \n",
      "│             kwargs:                                                           \n",
      "│               in_channels: 32                                                 \n",
      "│               hidden_channels: 32                                             \n",
      "│               in_edge_channels: 64                                            \n",
      "│               hidden_edge_channels_conv: 16                                   \n",
      "│               hidden_edge_channels_linear:                                    \n",
      "│               - 128                                                           \n",
      "│               - 64                                                            \n",
      "│               dropout: 0.0                                                    \n",
      "│               num_layers: 6                                                   \n",
      "│               num_nodes_features: 3                                           \n",
      "│           edge_classifier_dic:                                                \n",
      "│             input_dim: 64                                                     \n",
      "│             fc_dims:                                                          \n",
      "│             - 128                                                             \n",
      "│             - 32                                                              \n",
      "│             - 1                                                               \n",
      "│             dropout_p: 0.2                                                    \n",
      "│             use_batchnorm: false                                              \n",
      "│                                                                               \n",
      "├── datamodule                                                                  \n",
      "│   └── _target_: src.datamodules.celltrack_datamodule_mulSeq.CellTrackDataModul\n",
      "│       data_dir: /home/tony/code/cell-tracker-gnn/data/                        \n",
      "│       batch_size: 8                                                           \n",
      "│       num_workers: 0                                                          \n",
      "│       pin_memory: false                                                       \n",
      "│       train_val_test_split:                                                   \n",
      "│       - 80                                                                    \n",
      "│       - 20                                                                    \n",
      "│       - 0                                                                     \n",
      "│       sampler_type: from_both                                                 \n",
      "│       dataset_params:                                                         \n",
      "│         num_frames: 10                                                        \n",
      "│         type_file: csv                                                        \n",
      "│         produce_gt: simple                                                    \n",
      "│         main_path: /home/tony/data/gnntest/CTC/ct_features/PhC-C2DH-U373      \n",
      "│         dirs_path:                                                            \n",
      "│           train:                                                              \n",
      "│           - '01'                                                              \n",
      "│           - '02'                                                              \n",
      "│         one_hot_label: true                                                   \n",
      "│         exp_name: 2D_SIM                                                      \n",
      "│         overlap: 1                                                            \n",
      "│         jump_frames: 1                                                        \n",
      "│         mul_vals:                                                             \n",
      "│         - 2                                                                   \n",
      "│         - 2                                                                   \n",
      "│         - 2                                                                   \n",
      "│         filter_edges: true                                                    \n",
      "│         directed: true                                                        \n",
      "│         edge_feat_embed_dict:                                                 \n",
      "│           p: 1                                                                \n",
      "│           use_normalized_x: true                                              \n",
      "│           normalized_features: false                                          \n",
      "│         separate_models: true                                                 \n",
      "│         normalize_all_cols: false                                             \n",
      "│         same_frame: false                                                     \n",
      "│         next_frame: true                                                      \n",
      "│         self_loop: true                                                       \n",
      "│         normalize: true                                                       \n",
      "│         debug_visualization: false                                            \n",
      "│         which_preprocess: MinMax                                              \n",
      "│         drop_feat: []                                                         \n",
      "│                                                                               \n",
      "├── callbacks                                                                   \n",
      "│   └── model_checkpoint:                                                       \n",
      "│         _target_: pytorch_lightning.callbacks.ModelCheckpoint                 \n",
      "│         monitor: val/acc                                                      \n",
      "│         save_top_k: 1                                                         \n",
      "│         save_last: true                                                       \n",
      "│         mode: max                                                             \n",
      "│         verbose: false                                                        \n",
      "│         dirpath: checkpoints/                                                 \n",
      "│         filename: '{epoch:02d}'                                               \n",
      "│       early_stopping:                                                         \n",
      "│         _target_: pytorch_lightning.callbacks.EarlyStopping                   \n",
      "│         monitor: val/acc                                                      \n",
      "│         patience: 50                                                          \n",
      "│         mode: max                                                             \n",
      "│         min_delta: 0                                                          \n",
      "│                                                                               \n",
      "├── logger                                                                      \n",
      "│   └── tensorboard:                                                            \n",
      "│         _target_: pytorch_lightning.loggers.tensorboard.TensorBoardLogger     \n",
      "│         save_dir: tensorboard/                                                \n",
      "│         name: default                                                         \n",
      "│       csv:                                                                    \n",
      "│         _target_: pytorch_lightning.loggers.csv_logs.CSVLogger                \n",
      "│         save_dir: .                                                           \n",
      "│         name: csv/                                                            \n",
      "│                                                                               \n",
      "└── seed                                                                        \n",
      "    └── None                                                                    \n",
      "[2025-07-10 14:06:13,220][src.train][INFO] - Instantiating datamodule <src.datamodules.celltrack_datamodule_mulSeq.CellTrackDataModule>\n",
      "[2025-07-10 14:06:13,323][numexpr.utils][INFO] - Note: NumExpr detected 48 cores but \"NUMEXPR_MAX_THREADS\" not set, so enforcing safe limit of 8.\n",
      "[2025-07-10 14:06:13,323][numexpr.utils][INFO] - NumExpr defaulting to 8 threads.\n",
      "seq len : [106, 106]\n",
      "[2025-07-10 14:06:14,232][src.train][INFO] - Instantiating model <src.models.celltrack_plmodel.CellTrackLitModel>\n",
      "[2025-07-10 14:06:14,503][src.train][INFO] - Instantiating callback <pytorch_lightning.callbacks.ModelCheckpoint>\n",
      "[2025-07-10 14:06:14,506][src.train][INFO] - Instantiating callback <pytorch_lightning.callbacks.EarlyStopping>\n",
      "[2025-07-10 14:06:14,506][src.train][INFO] - Instantiating logger <pytorch_lightning.loggers.tensorboard.TensorBoardLogger>\n",
      "[2025-07-10 14:06:14,507][src.train][INFO] - Instantiating logger <pytorch_lightning.loggers.csv_logs.CSVLogger>\n",
      "[2025-07-10 14:06:14,507][src.train][INFO] - Instantiating trainer <pytorch_lightning.Trainer>\n",
      "[2025-07-10 14:06:14,510][pytorch_lightning.utilities.distributed][INFO] - GPU available: True, used: True\n",
      "[2025-07-10 14:06:14,510][pytorch_lightning.utilities.distributed][INFO] - TPU available: False, using: 0 TPU cores\n",
      "[2025-07-10 14:06:14,510][pytorch_lightning.utilities.distributed][INFO] - IPU available: False, using: 0 IPUs\n",
      "[2025-07-10 14:06:14,510][src.train][INFO] - Logging hyperparameters!\n",
      "[2025-07-10 14:06:15,977][src.train][INFO] - Starting training!\n",
      "sample using from_both\n",
      "Training dataset length: 170\n",
      "Validation dataset length: 42\n",
      "Test dataset length: 0\n",
      "save begin\n",
      "data_train.csv saved with 170 rows\n",
      "data_val.csv saved with 42 rows\n",
      "data_test.csv saved with 0 rows\n",
      "save end\n",
      "[2025-07-10 14:06:16,679][pytorch_lightning.accelerators.gpu][INFO] - LOCAL_RANK: 0 - CUDA_VISIBLE_DEVICES: [0]\n",
      "[2025-07-10 14:06:20,311][pytorch_lightning.core.lightning][INFO] - \n",
      "   | Name            | Type                  | Params\n",
      "-----------------------------------------------------------\n",
      "0  | model           | CellTrack_Model       | 249 K \n",
      "1  | criterion       | BCEWithLogitsLoss     | 0     \n",
      "2  | trClassMetric   | ClassificationMetrics | 0     \n",
      "3  | valClassMetric  | ClassificationMetrics | 0     \n",
      "4  | testClassMetric | ClassificationMetrics | 0     \n",
      "5  | train_PredCount | Countspecific         | 0     \n",
      "6  | val_PredCount   | Countspecific         | 0     \n",
      "7  | test_PredCount  | Countspecific         | 0     \n",
      "8  | train_TarCount  | Countspecific         | 0     \n",
      "9  | val_TarCount    | Countspecific         | 0     \n",
      "10 | test_TarCount   | Countspecific         | 0     \n",
      "-----------------------------------------------------------\n",
      "249 K     Trainable params\n",
      "0         Non-trainable params\n",
      "249 K     Total params\n",
      "0.997     Total estimated model params size (MB)\n",
      "Epoch 0: 100%|██████████| 28/28 [00:01<00:00, 16.60it/s]      \n",
      "Validating: 0it [00:00, ?it/s]\u001b[A\n",
      "Epoch 0: 100%|██████████| 28/28 [00:01<00:00, 15.60it/s, loss=0.198, v_num=0_0]\n",
      "Epoch 1: 100%|██████████| 28/28 [00:01<00:00, 17.56it/s, loss=0.198, v_num=0_0]  \n",
      "Validating: 0it [00:00, ?it/s]\u001b[A\n",
      "Validating:   0%|          | 0/6 [00:00<?, ?it/s]\u001b[A\n",
      "Epoch 1: 100%|██████████| 28/28 [00:01<00:00, 16.30it/s, loss=0.181, v_num=0_0, train/loss=0.196, train/acc=0.141, train/preds_sum=0.000, train/targets_sum=442.0]\n",
      "Epoch 2: 100%|██████████| 28/28 [00:01<00:00, 14.85it/s, loss=0.181, v_num=0_0, train/loss=0.196, train/acc=0.141, train/preds_sum=0.000, train/targets_sum=442.0]  \n",
      "Validating: 0it [00:00, ?it/s]\u001b[A\n",
      "Validating:   0%|          | 0/6 [00:00<?, ?it/s]\u001b[A\n",
      "Epoch 2: 100%|██████████| 28/28 [00:02<00:00, 13.77it/s, loss=0.164, v_num=0_0, train/loss=0.183, train/acc=0.133, train/preds_sum=0.000, train/targets_sum=442.0]\n",
      "Epoch 3: 100%|██████████| 28/28 [00:02<00:00, 13.09it/s, loss=0.164, v_num=0_0, train/loss=0.183, train/acc=0.133, train/preds_sum=0.000, train/targets_sum=442.0]  \n",
      "Validating: 0it [00:00, ?it/s]\u001b[A\n",
      "Validating:   0%|          | 0/6 [00:00<?, ?it/s]\u001b[A\n",
      "Epoch 3: 100%|██████████| 28/28 [00:02<00:00, 12.34it/s, loss=0.149, v_num=0_0, train/loss=0.163, train/acc=0.442, train/preds_sum=163.0, train/targets_sum=442.0]\n",
      "Epoch 4: 100%|██████████| 28/28 [00:01<00:00, 16.16it/s, loss=0.149, v_num=0_0, train/loss=0.163, train/acc=0.442, train/preds_sum=163.0, train/targets_sum=442.0]  \n",
      "Validating: 0it [00:00, ?it/s]\u001b[A\n",
      "Epoch 4: 100%|██████████| 28/28 [00:01<00:00, 15.21it/s, loss=0.145, v_num=0_0, train/loss=0.151, train/acc=0.499, train/preds_sum=190.0, train/targets_sum=442.0]\n",
      "Epoch 5: 100%|██████████| 28/28 [00:01<00:00, 15.24it/s, loss=0.145, v_num=0_0, train/loss=0.151, train/acc=0.499, train/preds_sum=190.0, train/targets_sum=442.0]  \n",
      "Validating: 0it [00:00, ?it/s]\u001b[A\n",
      "Validating:   0%|          | 0/6 [00:00<?, ?it/s]\u001b[A\n",
      "Epoch 5: 100%|██████████| 28/28 [00:02<00:00, 14.29it/s, loss=0.14, v_num=0_0, train/loss=0.147, train/acc=0.522, train/preds_sum=200.0, train/targets_sum=442.0] \n",
      "Epoch 6: 100%|██████████| 28/28 [00:01<00:00, 15.89it/s, loss=0.14, v_num=0_0, train/loss=0.147, train/acc=0.522, train/preds_sum=200.0, train/targets_sum=442.0]  \n",
      "Validating: 0it [00:00, ?it/s]\u001b[A\n",
      "Epoch 6: 100%|██████████| 28/28 [00:01<00:00, 14.98it/s, loss=0.139, v_num=0_0, train/loss=0.138, train/acc=0.537, train/preds_sum=211.0, train/targets_sum=442.0]\n",
      "Epoch 7: 100%|██████████| 28/28 [00:01<00:00, 16.09it/s, loss=0.139, v_num=0_0, train/loss=0.138, train/acc=0.537, train/preds_sum=211.0, train/targets_sum=442.0]  \n",
      "Validating: 0it [00:00, ?it/s]\u001b[A\n",
      "Epoch 7: 100%|██████████| 28/28 [00:01<00:00, 15.12it/s, loss=0.137, v_num=0_0, train/loss=0.139, train/acc=0.565, train/preds_sum=224.0, train/targets_sum=442.0]\n",
      "Epoch 8: 100%|██████████| 28/28 [00:01<00:00, 16.69it/s, loss=0.137, v_num=0_0, train/loss=0.139, train/acc=0.565, train/preds_sum=224.0, train/targets_sum=442.0]  \n",
      "Validating: 0it [00:00, ?it/s]\u001b[A\n",
      "Epoch 8: 100%|██████████| 28/28 [00:01<00:00, 15.63it/s, loss=0.13, v_num=0_0, train/loss=0.135, train/acc=0.591, train/preds_sum=235.0, train/targets_sum=442.0] \n",
      "Epoch 9: 100%|██████████| 28/28 [00:01<00:00, 15.06it/s, loss=0.13, v_num=0_0, train/loss=0.135, train/acc=0.591, train/preds_sum=235.0, train/targets_sum=442.0]  \n",
      "Validating: 0it [00:00, ?it/s]\u001b[A\n",
      "Epoch 9: 100%|██████████| 28/28 [00:02<00:00, 14.18it/s, loss=0.133, v_num=0_0, train/loss=0.132, train/acc=0.611, train/preds_sum=249.0, train/targets_sum=442.0]\n",
      "Epoch 10: 100%|██████████| 28/28 [00:02<00:00, 10.69it/s, loss=0.133, v_num=0_0, train/loss=0.132, train/acc=0.611, train/preds_sum=249.0, train/targets_sum=442.0] \n",
      "Validating: 0it [00:00, ?it/s]\u001b[A\n",
      "Validating:   0%|          | 0/6 [00:00<?, ?it/s]\u001b[A\n",
      "Epoch 10: 100%|██████████| 28/28 [00:02<00:00, 10.19it/s, loss=0.124, v_num=0_0, train/loss=0.130, train/acc=0.598, train/preds_sum=241.0, train/targets_sum=442.0]\n",
      "Epoch 11: 100%|██████████| 28/28 [00:01<00:00, 16.42it/s, loss=0.124, v_num=0_0, train/loss=0.130, train/acc=0.598, train/preds_sum=241.0, train/targets_sum=442.0]  \n",
      "Validating: 0it [00:00, ?it/s]\u001b[A\n",
      "Validating:   0%|          | 0/6 [00:00<?, ?it/s]\u001b[A\n",
      "Epoch 11: 100%|██████████| 28/28 [00:01<00:00, 15.32it/s, loss=0.125, v_num=0_0, train/loss=0.128, train/acc=0.635, train/preds_sum=256.0, train/targets_sum=442.0]\n",
      "Epoch 12: 100%|██████████| 28/28 [00:01<00:00, 16.39it/s, loss=0.125, v_num=0_0, train/loss=0.128, train/acc=0.635, train/preds_sum=256.0, train/targets_sum=442.0]  \n",
      "Validating: 0it [00:00, ?it/s]\u001b[A\n",
      "Epoch 12: 100%|██████████| 28/28 [00:01<00:00, 15.38it/s, loss=0.117, v_num=0_0, train/loss=0.124, train/acc=0.643, train/preds_sum=263.0, train/targets_sum=442.0]\n",
      "Epoch 13: 100%|██████████| 28/28 [00:01<00:00, 15.99it/s, loss=0.117, v_num=0_0, train/loss=0.124, train/acc=0.643, train/preds_sum=263.0, train/targets_sum=442.0]  \n",
      "Validating: 0it [00:00, ?it/s]\u001b[A\n",
      "Validating:   0%|          | 0/6 [00:00<?, ?it/s]\u001b[A\n",
      "Epoch 13: 100%|██████████| 28/28 [00:01<00:00, 14.88it/s, loss=0.122, v_num=0_0, train/loss=0.119, train/acc=0.661, train/preds_sum=272.0, train/targets_sum=442.0]\n",
      "Epoch 14: 100%|██████████| 28/28 [00:01<00:00, 15.12it/s, loss=0.122, v_num=0_0, train/loss=0.119, train/acc=0.661, train/preds_sum=272.0, train/targets_sum=442.0]  \n",
      "Validating: 0it [00:00, ?it/s]\u001b[A\n",
      "Epoch 14: 100%|██████████| 28/28 [00:02<00:00, 14.21it/s, loss=0.119, v_num=0_0, train/loss=0.120, train/acc=0.674, train/preds_sum=277.0, train/targets_sum=442.0]\n",
      "Epoch 15: 100%|██████████| 28/28 [00:01<00:00, 15.04it/s, loss=0.119, v_num=0_0, train/loss=0.120, train/acc=0.674, train/preds_sum=277.0, train/targets_sum=442.0]  \n",
      "Validating: 0it [00:00, ?it/s]\u001b[A\n",
      "Epoch 15: 100%|██████████| 28/28 [00:02<00:00, 14.17it/s, loss=0.0822, v_num=0_0, train/loss=0.122, train/acc=0.690, train/preds_sum=289.0, train/targets_sum=442.0]\n",
      "Epoch 16: 100%|██████████| 28/28 [00:01<00:00, 16.53it/s, loss=0.0822, v_num=0_0, train/loss=0.122, train/acc=0.690, train/preds_sum=289.0, train/targets_sum=442.0]  \n",
      "Validating: 0it [00:00, ?it/s]\u001b[A\n",
      "Validating:   0%|          | 0/6 [00:00<?, ?it/s]\u001b[A\n",
      "Epoch 16: 100%|██████████| 28/28 [00:01<00:00, 15.31it/s, loss=0.0322, v_num=0_0, train/loss=0.0844, train/acc=0.772, train/preds_sum=328.0, train/targets_sum=442.0]\n",
      "Epoch 17: 100%|██████████| 28/28 [00:02<00:00, 14.36it/s, loss=0.0322, v_num=0_0, train/loss=0.0844, train/acc=0.772, train/preds_sum=328.0, train/targets_sum=442.0]  \n",
      "Validating: 0it [00:00, ?it/s]\u001b[A\n",
      "Validating:   0%|          | 0/6 [00:00<?, ?it/s]\u001b[A\n",
      "Epoch 17: 100%|██████████| 28/28 [00:02<00:00, 13.46it/s, loss=0.0186, v_num=0_0, train/loss=0.0322, train/acc=0.903, train/preds_sum=393.0, train/targets_sum=442.0]\n",
      "Epoch 18: 100%|██████████| 28/28 [00:01<00:00, 14.94it/s, loss=0.0186, v_num=0_0, train/loss=0.0322, train/acc=0.903, train/preds_sum=393.0, train/targets_sum=442.0]  \n",
      "Validating: 0it [00:00, ?it/s]\u001b[A\n",
      "Validating:   0%|          | 0/6 [00:00<?, ?it/s]\u001b[A\n",
      "Epoch 18: 100%|██████████| 28/28 [00:02<00:00, 13.98it/s, loss=0.0114, v_num=0_0, train/loss=0.0185, train/acc=0.973, train/preds_sum=429.0, train/targets_sum=442.0]\n",
      "Epoch 19: 100%|██████████| 28/28 [00:01<00:00, 16.81it/s, loss=0.0114, v_num=0_0, train/loss=0.0185, train/acc=0.973, train/preds_sum=429.0, train/targets_sum=442.0]  \n",
      "Validating: 0it [00:00, ?it/s]\u001b[A\n",
      "Validating:   0%|          | 0/6 [00:00<?, ?it/s]\u001b[A\n",
      "Epoch 19: 100%|██████████| 28/28 [00:01<00:00, 15.63it/s, loss=0.00898, v_num=0_0, train/loss=0.0119, train/acc=0.984, train/preds_sum=435.0, train/targets_sum=442.0]\n",
      "Epoch 20: 100%|██████████| 28/28 [00:01<00:00, 16.30it/s, loss=0.00898, v_num=0_0, train/loss=0.0119, train/acc=0.984, train/preds_sum=435.0, train/targets_sum=442.0]  \n",
      "Validating: 0it [00:00, ?it/s]\u001b[A\n",
      "Validating:   0%|          | 0/6 [00:00<?, ?it/s]\u001b[A\n",
      "Epoch 20: 100%|██████████| 28/28 [00:02<00:00, 14.02it/s, loss=0.00684, v_num=0_0, train/loss=0.00912, train/acc=0.985, train/preds_sum=434.0, train/targets_sum=442.0]\n",
      "Epoch 21: 100%|██████████| 28/28 [00:01<00:00, 16.67it/s, loss=0.00684, v_num=0_0, train/loss=0.00912, train/acc=0.985, train/preds_sum=434.0, train/targets_sum=442.0]  \n",
      "Validating: 0it [00:00, ?it/s]\u001b[A\n",
      "Epoch 21: 100%|██████████| 28/28 [00:01<00:00, 15.63it/s, loss=0.00836, v_num=0_0, train/loss=0.00722, train/acc=0.991, train/preds_sum=438.0, train/targets_sum=442.0]\n",
      "Epoch 22: 100%|██████████| 28/28 [00:01<00:00, 15.38it/s, loss=0.00836, v_num=0_0, train/loss=0.00722, train/acc=0.991, train/preds_sum=438.0, train/targets_sum=442.0]  \n",
      "Validating: 0it [00:00, ?it/s]\u001b[A\n",
      "Epoch 22: 100%|██████████| 28/28 [00:02<00:00, 14.45it/s, loss=0.00777, v_num=0_0, train/loss=0.00822, train/acc=0.990, train/preds_sum=437.0, train/targets_sum=442.0]\n",
      "Epoch 23: 100%|██████████| 28/28 [00:01<00:00, 16.92it/s, loss=0.00777, v_num=0_0, train/loss=0.00822, train/acc=0.990, train/preds_sum=437.0, train/targets_sum=442.0]  \n",
      "Validating: 0it [00:00, ?it/s]\u001b[A\n",
      "Validating:   0%|          | 0/6 [00:00<?, ?it/s]\u001b[A\n",
      "Epoch 23: 100%|██████████| 28/28 [00:01<00:00, 15.75it/s, loss=0.00648, v_num=0_0, train/loss=0.00761, train/acc=0.987, train/preds_sum=436.0, train/targets_sum=442.0]\n",
      "Epoch 24: 100%|██████████| 28/28 [00:01<00:00, 15.24it/s, loss=0.00648, v_num=0_0, train/loss=0.00761, train/acc=0.987, train/preds_sum=436.0, train/targets_sum=442.0]  \n",
      "Validating: 0it [00:00, ?it/s]\u001b[A\n",
      "Validating:   0%|          | 0/6 [00:00<?, ?it/s]\u001b[A\n",
      "Epoch 24: 100%|██████████| 28/28 [00:02<00:00, 14.26it/s, loss=0.00565, v_num=0_0, train/loss=0.0062, train/acc=0.992, train/preds_sum=438.0, train/targets_sum=442.0] \n",
      "Epoch 25: 100%|██████████| 28/28 [00:01<00:00, 15.52it/s, loss=0.00565, v_num=0_0, train/loss=0.0062, train/acc=0.992, train/preds_sum=438.0, train/targets_sum=442.0]  \n",
      "Validating: 0it [00:00, ?it/s]\u001b[A\n",
      "Epoch 25: 100%|██████████| 28/28 [00:01<00:00, 14.54it/s, loss=0.00601, v_num=0_0, train/loss=0.00601, train/acc=0.993, train/preds_sum=439.0, train/targets_sum=442.0]\n",
      "Epoch 26: 100%|██████████| 28/28 [00:02<00:00, 11.23it/s, loss=0.00601, v_num=0_0, train/loss=0.00601, train/acc=0.993, train/preds_sum=439.0, train/targets_sum=442.0]  \n",
      "Validating: 0it [00:00, ?it/s]\u001b[A\n",
      "Validating:   0%|          | 0/6 [00:00<?, ?it/s]\u001b[A\n",
      "Epoch 26: 100%|██████████| 28/28 [00:02<00:00, 10.69it/s, loss=0.00656, v_num=0_0, train/loss=0.00672, train/acc=0.991, train/preds_sum=438.0, train/targets_sum=442.0]\n",
      "Epoch 27: 100%|██████████| 28/28 [00:01<00:00, 15.13it/s, loss=0.00656, v_num=0_0, train/loss=0.00672, train/acc=0.991, train/preds_sum=438.0, train/targets_sum=442.0]  \n",
      "Validating: 0it [00:00, ?it/s]\u001b[A\n",
      "Epoch 27: 100%|██████████| 28/28 [00:02<00:00, 14.21it/s, loss=0.00487, v_num=0_0, train/loss=0.00656, train/acc=0.992, train/preds_sum=439.0, train/targets_sum=442.0]\n",
      "Epoch 28: 100%|██████████| 28/28 [00:01<00:00, 15.60it/s, loss=0.00487, v_num=0_0, train/loss=0.00656, train/acc=0.992, train/preds_sum=439.0, train/targets_sum=442.0]  \n",
      "Validating: 0it [00:00, ?it/s]\u001b[A\n",
      "Epoch 28: 100%|██████████| 28/28 [00:01<00:00, 14.61it/s, loss=0.0044, v_num=0_0, train/loss=0.0051, train/acc=0.994, train/preds_sum=439.0, train/targets_sum=442.0]  \n",
      "Epoch 29: 100%|██████████| 28/28 [00:01<00:00, 16.37it/s, loss=0.0044, v_num=0_0, train/loss=0.0051, train/acc=0.994, train/preds_sum=439.0, train/targets_sum=442.0]  \n",
      "Validating: 0it [00:00, ?it/s]\u001b[A\n",
      "Validating:   0%|          | 0/6 [00:00<?, ?it/s]\u001b[A\n",
      "Epoch 29: 100%|██████████| 28/28 [00:01<00:00, 15.12it/s, loss=0.00561, v_num=0_0, train/loss=0.00459, train/acc=0.995, train/preds_sum=440.0, train/targets_sum=442.0]\n",
      "Epoch 30: 100%|██████████| 28/28 [00:01<00:00, 16.21it/s, loss=0.00561, v_num=0_0, train/loss=0.00459, train/acc=0.995, train/preds_sum=440.0, train/targets_sum=442.0]  \n",
      "Validating: 0it [00:00, ?it/s]\u001b[A\n",
      "Epoch 30: 100%|██████████| 28/28 [00:01<00:00, 15.11it/s, loss=0.00646, v_num=0_0, train/loss=0.00535, train/acc=0.995, train/preds_sum=440.0, train/targets_sum=442.0]\n",
      "Epoch 31: 100%|██████████| 28/28 [00:02<00:00, 14.22it/s, loss=0.00646, v_num=0_0, train/loss=0.00535, train/acc=0.995, train/preds_sum=440.0, train/targets_sum=442.0]  \n",
      "Validating: 0it [00:00, ?it/s]\u001b[A\n",
      "Validating:   0%|          | 0/6 [00:00<?, ?it/s]\u001b[A\n",
      "Epoch 31: 100%|██████████| 28/28 [00:02<00:00, 13.34it/s, loss=0.00503, v_num=0_0, train/loss=0.00636, train/acc=0.994, train/preds_sum=439.0, train/targets_sum=442.0]\n",
      "Epoch 32: 100%|██████████| 28/28 [00:01<00:00, 15.24it/s, loss=0.00503, v_num=0_0, train/loss=0.00636, train/acc=0.994, train/preds_sum=439.0, train/targets_sum=442.0]  \n",
      "Validating: 0it [00:00, ?it/s]\u001b[A\n",
      "Validating:   0%|          | 0/6 [00:00<?, ?it/s]\u001b[A\n",
      "Epoch 32: 100%|██████████| 28/28 [00:02<00:00, 14.14it/s, loss=0.0043, v_num=0_0, train/loss=0.00514, train/acc=0.993, train/preds_sum=439.0, train/targets_sum=442.0] \n",
      "Epoch 33: 100%|██████████| 28/28 [00:02<00:00, 13.29it/s, loss=0.0043, v_num=0_0, train/loss=0.00514, train/acc=0.993, train/preds_sum=439.0, train/targets_sum=442.0]  \n",
      "Validating: 0it [00:00, ?it/s]\u001b[A\n",
      "Validating:   0%|          | 0/6 [00:00<?, ?it/s]\u001b[A\n",
      "Epoch 33: 100%|██████████| 28/28 [00:02<00:00, 12.41it/s, loss=0.00364, v_num=0_0, train/loss=0.0042, train/acc=0.995, train/preds_sum=440.0, train/targets_sum=442.0]\n",
      "Epoch 34: 100%|██████████| 28/28 [00:01<00:00, 15.01it/s, loss=0.00364, v_num=0_0, train/loss=0.0042, train/acc=0.995, train/preds_sum=440.0, train/targets_sum=442.0]  \n",
      "Validating: 0it [00:00, ?it/s]\u001b[A\n",
      "Validating:   0%|          | 0/6 [00:00<?, ?it/s]\u001b[A\n",
      "Epoch 34: 100%|██████████| 28/28 [00:02<00:00, 13.92it/s, loss=0.00308, v_num=0_0, train/loss=0.00342, train/acc=0.996, train/preds_sum=441.0, train/targets_sum=442.0]\n",
      "Epoch 35: 100%|██████████| 28/28 [00:01<00:00, 16.51it/s, loss=0.00308, v_num=0_0, train/loss=0.00342, train/acc=0.996, train/preds_sum=441.0, train/targets_sum=442.0]  \n",
      "Validating: 0it [00:00, ?it/s]\u001b[A\n",
      "Epoch 35: 100%|██████████| 28/28 [00:01<00:00, 15.54it/s, loss=0.00309, v_num=0_0, train/loss=0.00297, train/acc=0.997, train/preds_sum=441.0, train/targets_sum=442.0]\n",
      "Epoch 36: 100%|██████████| 28/28 [00:01<00:00, 17.41it/s, loss=0.00309, v_num=0_0, train/loss=0.00297, train/acc=0.997, train/preds_sum=441.0, train/targets_sum=442.0]  \n",
      "Validating: 0it [00:00, ?it/s]\u001b[A\n",
      "Epoch 36: 100%|██████████| 28/28 [00:01<00:00, 16.31it/s, loss=0.00388, v_num=0_0, train/loss=0.00282, train/acc=0.997, train/preds_sum=441.0, train/targets_sum=442.0]\n",
      "Epoch 37: 100%|██████████| 28/28 [00:01<00:00, 17.90it/s, loss=0.00388, v_num=0_0, train/loss=0.00282, train/acc=0.997, train/preds_sum=441.0, train/targets_sum=442.0]  \n",
      "Validating: 0it [00:00, ?it/s]\u001b[A\n",
      "Epoch 37: 100%|██████████| 28/28 [00:01<00:00, 16.66it/s, loss=0.00512, v_num=0_0, train/loss=0.00381, train/acc=0.997, train/preds_sum=441.0, train/targets_sum=442.0]\n",
      "Epoch 38: 100%|██████████| 28/28 [00:01<00:00, 17.53it/s, loss=0.00512, v_num=0_0, train/loss=0.00381, train/acc=0.997, train/preds_sum=441.0, train/targets_sum=442.0]  \n",
      "Validating: 0it [00:00, ?it/s]\u001b[A\n",
      "Epoch 38: 100%|██████████| 28/28 [00:01<00:00, 16.19it/s, loss=0.00334, v_num=0_0, train/loss=0.00477, train/acc=0.994, train/preds_sum=440.0, train/targets_sum=442.0]\n",
      "Epoch 39: 100%|██████████| 28/28 [00:01<00:00, 16.53it/s, loss=0.00334, v_num=0_0, train/loss=0.00477, train/acc=0.994, train/preds_sum=440.0, train/targets_sum=442.0]  \n",
      "Validating: 0it [00:00, ?it/s]\u001b[A\n",
      "Epoch 39: 100%|██████████| 28/28 [00:01<00:00, 15.46it/s, loss=0.00454, v_num=0_0, train/loss=0.00342, train/acc=0.997, train/preds_sum=441.0, train/targets_sum=442.0]\n",
      "Epoch 40: 100%|██████████| 28/28 [00:01<00:00, 16.51it/s, loss=0.00454, v_num=0_0, train/loss=0.00342, train/acc=0.997, train/preds_sum=441.0, train/targets_sum=442.0]  \n",
      "Validating: 0it [00:00, ?it/s]\u001b[A\n",
      "Validating:   0%|          | 0/6 [00:00<?, ?it/s]\u001b[A\n",
      "Epoch 40: 100%|██████████| 28/28 [00:01<00:00, 15.36it/s, loss=0.00408, v_num=0_0, train/loss=0.0048, train/acc=0.994, train/preds_sum=439.0, train/targets_sum=442.0] \n",
      "Epoch 41: 100%|██████████| 28/28 [00:01<00:00, 15.36it/s, loss=0.00408, v_num=0_0, train/loss=0.0048, train/acc=0.994, train/preds_sum=439.0, train/targets_sum=442.0]  \n",
      "Validating: 0it [00:00, ?it/s]\u001b[A\n",
      "Validating:   0%|          | 0/6 [00:00<?, ?it/s]\u001b[A\n",
      "Epoch 41: 100%|██████████| 28/28 [00:02<00:00, 14.33it/s, loss=0.00346, v_num=0_0, train/loss=0.00417, train/acc=0.995, train/preds_sum=440.0, train/targets_sum=442.0]\n",
      "Epoch 42: 100%|██████████| 28/28 [00:02<00:00, 10.89it/s, loss=0.00346, v_num=0_0, train/loss=0.00417, train/acc=0.995, train/preds_sum=440.0, train/targets_sum=442.0]  \n",
      "Validating: 0it [00:00, ?it/s]\u001b[A\n",
      "Epoch 42: 100%|██████████| 28/28 [00:02<00:00, 10.41it/s, loss=0.00334, v_num=0_0, train/loss=0.00384, train/acc=0.995, train/preds_sum=440.0, train/targets_sum=442.0]\n",
      "Epoch 43: 100%|██████████| 28/28 [00:01<00:00, 15.10it/s, loss=0.00334, v_num=0_0, train/loss=0.00384, train/acc=0.995, train/preds_sum=440.0, train/targets_sum=442.0]  \n",
      "Validating: 0it [00:00, ?it/s]\u001b[A\n",
      "Validating:   0%|          | 0/6 [00:00<?, ?it/s]\u001b[A\n",
      "Epoch 43: 100%|██████████| 28/28 [00:02<00:00, 14.05it/s, loss=0.00272, v_num=0_0, train/loss=0.00328, train/acc=0.997, train/preds_sum=441.0, train/targets_sum=442.0]\n",
      "Epoch 44: 100%|██████████| 28/28 [00:01<00:00, 15.77it/s, loss=0.00272, v_num=0_0, train/loss=0.00328, train/acc=0.997, train/preds_sum=441.0, train/targets_sum=442.0]  \n",
      "Validating: 0it [00:00, ?it/s]\u001b[A\n",
      "Epoch 44: 100%|██████████| 28/28 [00:01<00:00, 14.77it/s, loss=0.00225, v_num=0_0, train/loss=0.00279, train/acc=0.997, train/preds_sum=441.0, train/targets_sum=442.0]\n",
      "Epoch 45: 100%|██████████| 28/28 [00:01<00:00, 15.84it/s, loss=0.00225, v_num=0_0, train/loss=0.00279, train/acc=0.997, train/preds_sum=441.0, train/targets_sum=442.0]  \n",
      "Validating: 0it [00:00, ?it/s]\u001b[A\n",
      "Epoch 45: 100%|██████████| 28/28 [00:01<00:00, 14.79it/s, loss=0.00227, v_num=0_0, train/loss=0.00228, train/acc=0.998, train/preds_sum=441.0, train/targets_sum=442.0]\n",
      "Epoch 46: 100%|██████████| 28/28 [00:01<00:00, 15.50it/s, loss=0.00227, v_num=0_0, train/loss=0.00228, train/acc=0.998, train/preds_sum=441.0, train/targets_sum=442.0]  \n",
      "Validating: 0it [00:00, ?it/s]\u001b[A\n",
      "Epoch 46: 100%|██████████| 28/28 [00:02<00:00, 14.48it/s, loss=0.00283, v_num=0_0, train/loss=0.00274, train/acc=0.997, train/preds_sum=441.0, train/targets_sum=442.0]\n",
      "Epoch 47: 100%|██████████| 28/28 [00:01<00:00, 15.22it/s, loss=0.00283, v_num=0_0, train/loss=0.00274, train/acc=0.997, train/preds_sum=441.0, train/targets_sum=442.0]  \n",
      "Validating: 0it [00:00, ?it/s]\u001b[A\n",
      "Validating:   0%|          | 0/6 [00:00<?, ?it/s]\u001b[A\n",
      "Epoch 47: 100%|██████████| 28/28 [00:02<00:00, 14.18it/s, loss=0.00234, v_num=0_0, train/loss=0.00259, train/acc=0.998, train/preds_sum=441.0, train/targets_sum=442.0]\n",
      "Epoch 48: 100%|██████████| 28/28 [00:01<00:00, 15.65it/s, loss=0.00234, v_num=0_0, train/loss=0.00259, train/acc=0.998, train/preds_sum=441.0, train/targets_sum=442.0]  \n",
      "Validating: 0it [00:00, ?it/s]\u001b[A\n",
      "Epoch 48: 100%|██████████| 28/28 [00:01<00:00, 14.67it/s, loss=0.00213, v_num=0_0, train/loss=0.00244, train/acc=0.997, train/preds_sum=441.0, train/targets_sum=442.0]\n",
      "Epoch 49: 100%|██████████| 28/28 [00:01<00:00, 15.27it/s, loss=0.00213, v_num=0_0, train/loss=0.00244, train/acc=0.997, train/preds_sum=441.0, train/targets_sum=442.0]  \n",
      "Validating: 0it [00:00, ?it/s]\u001b[A\n",
      "Epoch 49: 100%|██████████| 28/28 [00:02<00:00, 14.32it/s, loss=0.00223, v_num=0_0, train/loss=0.00221, train/acc=0.997, train/preds_sum=441.0, train/targets_sum=442.0]\n",
      "Epoch 50: 100%|██████████| 28/28 [00:01<00:00, 16.08it/s, loss=0.00223, v_num=0_0, train/loss=0.00221, train/acc=0.997, train/preds_sum=441.0, train/targets_sum=442.0]  \n",
      "Validating: 0it [00:00, ?it/s]\u001b[A\n",
      "Epoch 50: 100%|██████████| 28/28 [00:01<00:00, 15.07it/s, loss=0.00274, v_num=0_0, train/loss=0.00219, train/acc=0.998, train/preds_sum=441.0, train/targets_sum=442.0]\n",
      "Epoch 51: 100%|██████████| 28/28 [00:01<00:00, 16.48it/s, loss=0.00274, v_num=0_0, train/loss=0.00219, train/acc=0.998, train/preds_sum=441.0, train/targets_sum=442.0]  \n",
      "Validating: 0it [00:00, ?it/s]\u001b[A\n",
      "Validating:   0%|          | 0/6 [00:00<?, ?it/s]\u001b[A\n",
      "Epoch 51: 100%|██████████| 28/28 [00:01<00:00, 15.15it/s, loss=0.00206, v_num=0_0, train/loss=0.00267, train/acc=0.998, train/preds_sum=441.0, train/targets_sum=442.0]\n",
      "Epoch 52: 100%|██████████| 28/28 [00:01<00:00, 15.76it/s, loss=0.00206, v_num=0_0, train/loss=0.00267, train/acc=0.998, train/preds_sum=441.0, train/targets_sum=442.0]  \n",
      "Validating: 0it [00:00, ?it/s]\u001b[A\n",
      "Epoch 52: 100%|██████████| 28/28 [00:01<00:00, 14.79it/s, loss=0.00204, v_num=0_0, train/loss=0.00217, train/acc=0.997, train/preds_sum=441.0, train/targets_sum=442.0]\n",
      "Epoch 53: 100%|██████████| 28/28 [00:01<00:00, 16.58it/s, loss=0.00204, v_num=0_0, train/loss=0.00217, train/acc=0.997, train/preds_sum=441.0, train/targets_sum=442.0]  \n",
      "Validating: 0it [00:00, ?it/s]\u001b[A\n",
      "Epoch 53: 100%|██████████| 28/28 [00:01<00:00, 15.44it/s, loss=0.00358, v_num=0_0, train/loss=0.00198, train/acc=0.998, train/preds_sum=441.0, train/targets_sum=442.0]\n",
      "Epoch 54: 100%|██████████| 28/28 [00:01<00:00, 15.90it/s, loss=0.00358, v_num=0_0, train/loss=0.00198, train/acc=0.998, train/preds_sum=441.0, train/targets_sum=442.0]  \n",
      "Validating: 0it [00:00, ?it/s]\u001b[A\n",
      "Epoch 54: 100%|██████████| 28/28 [00:01<00:00, 14.89it/s, loss=0.00329, v_num=0_0, train/loss=0.00337, train/acc=0.996, train/preds_sum=441.0, train/targets_sum=442.0]\n",
      "Epoch 55: 100%|██████████| 28/28 [00:01<00:00, 14.56it/s, loss=0.00329, v_num=0_0, train/loss=0.00337, train/acc=0.996, train/preds_sum=441.0, train/targets_sum=442.0]  \n",
      "Validating: 0it [00:00, ?it/s]\u001b[A\n",
      "Validating:   0%|          | 0/6 [00:00<?, ?it/s]\u001b[A\n",
      "Epoch 55: 100%|██████████| 28/28 [00:02<00:00, 13.52it/s, loss=0.00388, v_num=0_0, train/loss=0.00312, train/acc=0.997, train/preds_sum=441.0, train/targets_sum=442.0]\n",
      "Epoch 56: 100%|██████████| 28/28 [00:01<00:00, 16.43it/s, loss=0.00388, v_num=0_0, train/loss=0.00312, train/acc=0.997, train/preds_sum=441.0, train/targets_sum=442.0]  \n",
      "Validating: 0it [00:00, ?it/s]\u001b[A\n",
      "Validating:   0%|          | 0/6 [00:00<?, ?it/s]\u001b[A\n",
      "Epoch 56: 100%|██████████| 28/28 [00:01<00:00, 15.23it/s, loss=0.00196, v_num=0_0, train/loss=0.00396, train/acc=0.995, train/preds_sum=440.0, train/targets_sum=442.0]\n",
      "Epoch 57: 100%|██████████| 28/28 [00:01<00:00, 16.54it/s, loss=0.00196, v_num=0_0, train/loss=0.00396, train/acc=0.995, train/preds_sum=440.0, train/targets_sum=442.0]  \n",
      "Validating: 0it [00:00, ?it/s]\u001b[A\n",
      "Epoch 57: 100%|██████████| 28/28 [00:01<00:00, 15.38it/s, loss=0.00142, v_num=0_0, train/loss=0.0019, train/acc=0.998, train/preds_sum=441.0, train/targets_sum=442.0] \n",
      "Epoch 58: 100%|██████████| 28/28 [00:02<00:00, 11.54it/s, loss=0.00142, v_num=0_0, train/loss=0.0019, train/acc=0.998, train/preds_sum=441.0, train/targets_sum=442.0]  \n",
      "Validating: 0it [00:00, ?it/s]\u001b[A\n",
      "Validating:   0%|          | 0/6 [00:00<?, ?it/s]\u001b[A\n",
      "Epoch 58: 100%|██████████| 28/28 [00:02<00:00, 10.92it/s, loss=0.00134, v_num=0_0, train/loss=0.00155, train/acc=0.998, train/preds_sum=442.0, train/targets_sum=442.0]\n",
      "Epoch 59: 100%|██████████| 28/28 [00:01<00:00, 17.12it/s, loss=0.00134, v_num=0_0, train/loss=0.00155, train/acc=0.998, train/preds_sum=442.0, train/targets_sum=442.0]  \n",
      "Validating: 0it [00:00, ?it/s]\u001b[A\n",
      "Epoch 59: 100%|██████████| 28/28 [00:01<00:00, 15.94it/s, loss=0.00185, v_num=0_0, train/loss=0.00133, train/acc=0.998, train/preds_sum=441.0, train/targets_sum=442.0]\n",
      "Epoch 60: 100%|██████████| 28/28 [00:01<00:00, 17.38it/s, loss=0.00185, v_num=0_0, train/loss=0.00133, train/acc=0.998, train/preds_sum=441.0, train/targets_sum=442.0]  \n",
      "Validating: 0it [00:00, ?it/s]\u001b[A\n",
      "Epoch 60: 100%|██████████| 28/28 [00:01<00:00, 16.09it/s, loss=0.00399, v_num=0_0, train/loss=0.00168, train/acc=0.998, train/preds_sum=441.0, train/targets_sum=442.0]\n",
      "Epoch 61: 100%|██████████| 28/28 [00:01<00:00, 16.43it/s, loss=0.00399, v_num=0_0, train/loss=0.00168, train/acc=0.998, train/preds_sum=441.0, train/targets_sum=442.0]  \n",
      "Validating: 0it [00:00, ?it/s]\u001b[A\n",
      "Validating:   0%|          | 0/6 [00:00<?, ?it/s]\u001b[A\n",
      "Epoch 61: 100%|██████████| 28/28 [00:01<00:00, 15.17it/s, loss=0.00272, v_num=0_0, train/loss=0.0038, train/acc=0.996, train/preds_sum=440.0, train/targets_sum=442.0] \n",
      "Epoch 62: 100%|██████████| 28/28 [00:01<00:00, 16.39it/s, loss=0.00272, v_num=0_0, train/loss=0.0038, train/acc=0.996, train/preds_sum=440.0, train/targets_sum=442.0]  \n",
      "Validating: 0it [00:00, ?it/s]\u001b[A\n",
      "Validating:   0%|          | 0/6 [00:00<?, ?it/s]\u001b[A\n",
      "Epoch 62: 100%|██████████| 28/28 [00:01<00:00, 15.10it/s, loss=0.00205, v_num=0_0, train/loss=0.00253, train/acc=0.996, train/preds_sum=441.0, train/targets_sum=442.0]\n",
      "Epoch 63: 100%|██████████| 28/28 [00:02<00:00, 14.46it/s, loss=0.00205, v_num=0_0, train/loss=0.00253, train/acc=0.996, train/preds_sum=441.0, train/targets_sum=442.0]  \n",
      "Validating: 0it [00:00, ?it/s]\u001b[A\n",
      "Validating:   0%|          | 0/6 [00:00<?, ?it/s]\u001b[A\n",
      "Epoch 63: 100%|██████████| 28/28 [00:02<00:00, 13.42it/s, loss=0.00139, v_num=0_0, train/loss=0.00206, train/acc=0.997, train/preds_sum=441.0, train/targets_sum=442.0]\n",
      "Epoch 64: 100%|██████████| 28/28 [00:01<00:00, 15.04it/s, loss=0.00139, v_num=0_0, train/loss=0.00206, train/acc=0.997, train/preds_sum=441.0, train/targets_sum=442.0]  \n",
      "Validating: 0it [00:00, ?it/s]\u001b[A\n",
      "Epoch 64: 100%|██████████| 28/28 [00:02<00:00, 14.07it/s, loss=0.00188, v_num=0_0, train/loss=0.00136, train/acc=0.998, train/preds_sum=441.0, train/targets_sum=442.0]\n",
      "Epoch 65: 100%|██████████| 28/28 [00:01<00:00, 15.55it/s, loss=0.00188, v_num=0_0, train/loss=0.00136, train/acc=0.998, train/preds_sum=441.0, train/targets_sum=442.0]  \n",
      "Validating: 0it [00:00, ?it/s]\u001b[A\n",
      "Validating:   0%|          | 0/6 [00:00<?, ?it/s]\u001b[A\n",
      "Epoch 65: 100%|██████████| 28/28 [00:02<00:00, 14.35it/s, loss=0.00171, v_num=0_0, train/loss=0.00194, train/acc=0.997, train/preds_sum=441.0, train/targets_sum=442.0]\n",
      "Epoch 66: 100%|██████████| 28/28 [00:01<00:00, 16.48it/s, loss=0.00171, v_num=0_0, train/loss=0.00194, train/acc=0.997, train/preds_sum=441.0, train/targets_sum=442.0]  \n",
      "Validating: 0it [00:00, ?it/s]\u001b[A\n",
      "Epoch 66: 100%|██████████| 28/28 [00:01<00:00, 15.33it/s, loss=0.0011, v_num=0_0, train/loss=0.00163, train/acc=0.998, train/preds_sum=441.0, train/targets_sum=442.0] \n",
      "Epoch 67: 100%|██████████| 28/28 [00:01<00:00, 16.74it/s, loss=0.0011, v_num=0_0, train/loss=0.00163, train/acc=0.998, train/preds_sum=441.0, train/targets_sum=442.0]  \n",
      "Validating: 0it [00:00, ?it/s]\u001b[A\n",
      "Epoch 67: 100%|██████████| 28/28 [00:01<00:00, 15.52it/s, loss=0.0012, v_num=0_0, train/loss=0.00109, train/acc=0.998, train/preds_sum=442.0, train/targets_sum=442.0]\n",
      "Epoch 68: 100%|██████████| 28/28 [00:01<00:00, 16.34it/s, loss=0.0012, v_num=0_0, train/loss=0.00109, train/acc=0.998, train/preds_sum=442.0, train/targets_sum=442.0]  \n",
      "Validating: 0it [00:00, ?it/s]\u001b[A\n",
      "Validating:   0%|          | 0/6 [00:00<?, ?it/s]\u001b[A\n",
      "Epoch 68: 100%|██████████| 28/28 [00:01<00:00, 15.08it/s, loss=0.00106, v_num=0_0, train/loss=0.00113, train/acc=0.998, train/preds_sum=442.0, train/targets_sum=442.0]\n",
      "Epoch 69: 100%|██████████| 28/28 [00:01<00:00, 16.56it/s, loss=0.00106, v_num=0_0, train/loss=0.00113, train/acc=0.998, train/preds_sum=442.0, train/targets_sum=442.0]  \n",
      "Validating: 0it [00:00, ?it/s]\u001b[A\n",
      "Epoch 69: 100%|██████████| 28/28 [00:01<00:00, 15.38it/s, loss=0.00083, v_num=0_0, train/loss=0.00104, train/acc=0.998, train/preds_sum=442.0, train/targets_sum=442.0]\n",
      "Epoch 70: 100%|██████████| 28/28 [00:01<00:00, 15.18it/s, loss=0.00083, v_num=0_0, train/loss=0.00104, train/acc=0.998, train/preds_sum=442.0, train/targets_sum=442.0]  \n",
      "Validating: 0it [00:00, ?it/s]\u001b[A\n",
      "Validating:   0%|          | 0/6 [00:00<?, ?it/s]\u001b[A\n",
      "Epoch 70: 100%|██████████| 28/28 [00:02<00:00, 14.11it/s, loss=0.000525, v_num=0_0, train/loss=0.000804, train/acc=0.999, train/preds_sum=442.0, train/targets_sum=442.0]\n",
      "Epoch 71: 100%|██████████| 28/28 [00:01<00:00, 16.15it/s, loss=0.000525, v_num=0_0, train/loss=0.000804, train/acc=0.999, train/preds_sum=442.0, train/targets_sum=442.0]  \n",
      "Validating: 0it [00:00, ?it/s]\u001b[A\n",
      "Epoch 71: 100%|██████████| 28/28 [00:01<00:00, 15.02it/s, loss=0.00267, v_num=0_0, train/loss=0.000482, train/acc=0.999, train/preds_sum=442.0, train/targets_sum=442.0] \n",
      "Epoch 72: 100%|██████████| 28/28 [00:01<00:00, 15.36it/s, loss=0.00267, v_num=0_0, train/loss=0.000482, train/acc=0.999, train/preds_sum=442.0, train/targets_sum=442.0]  \n",
      "Validating: 0it [00:00, ?it/s]\u001b[A\n",
      "Epoch 72: 100%|██████████| 28/28 [00:02<00:00, 14.32it/s, loss=0.00153, v_num=0_0, train/loss=0.00245, train/acc=0.998, train/preds_sum=442.0, train/targets_sum=442.0] \n",
      "Epoch 73: 100%|██████████| 28/28 [00:01<00:00, 16.13it/s, loss=0.00153, v_num=0_0, train/loss=0.00245, train/acc=0.998, train/preds_sum=442.0, train/targets_sum=442.0]  \n",
      "Validating: 0it [00:00, ?it/s]\u001b[A\n",
      "Epoch 73: 100%|██████████| 28/28 [00:01<00:00, 14.97it/s, loss=0.000974, v_num=0_0, train/loss=0.00149, train/acc=0.998, train/preds_sum=441.0, train/targets_sum=442.0]\n",
      "Epoch 74: 100%|██████████| 28/28 [00:02<00:00, 10.64it/s, loss=0.000974, v_num=0_0, train/loss=0.00149, train/acc=0.998, train/preds_sum=441.0, train/targets_sum=442.0]  \n",
      "Validating: 0it [00:00, ?it/s]\u001b[A\n",
      "Epoch 74: 100%|██████████| 28/28 [00:02<00:00, 10.16it/s, loss=0.00127, v_num=0_0, train/loss=0.000954, train/acc=0.999, train/preds_sum=442.0, train/targets_sum=442.0]\n",
      "Epoch 75: 100%|██████████| 28/28 [00:01<00:00, 16.40it/s, loss=0.00127, v_num=0_0, train/loss=0.000954, train/acc=0.999, train/preds_sum=442.0, train/targets_sum=442.0]  \n",
      "Validating: 0it [00:00, ?it/s]\u001b[A\n",
      "Epoch 75: 100%|██████████| 28/28 [00:01<00:00, 15.25it/s, loss=0.000533, v_num=0_0, train/loss=0.00127, train/acc=0.998, train/preds_sum=441.0, train/targets_sum=442.0]\n",
      "Epoch 75: 100%|██████████| 28/28 [00:01<00:00, 14.63it/s, loss=0.000533, v_num=0_0, train/loss=0.00127, train/acc=0.998, train/preds_sum=441.0, train/targets_sum=442.0]\n",
      "[2025-07-10 14:08:59,946][src.train][INFO] - Starting testing!\n",
      "sample using from_both\n",
      "Training dataset length: 170\n",
      "Validation dataset length: 42\n",
      "Test dataset length: 0\n",
      "save begin\n",
      "data_train.csv saved with 170 rows\n",
      "data_val.csv saved with 42 rows\n",
      "data_test.csv saved with 0 rows\n",
      "save end\n",
      "[2025-07-10 14:09:00,651][pytorch_lightning.accelerators.gpu][INFO] - LOCAL_RANK: 0 - CUDA_VISIBLE_DEVICES: [0]\n",
      "Testing: 100%|██████████| 6/6 [00:00<00:00, 49.87it/s]--------------------------------------------------------------------------------\n",
      "DATALOADER:0 TEST RESULTS\n",
      "{'test/FN_epoch': 0.0,\n",
      " 'test/FP_epoch': 0.0,\n",
      " 'test/TN_epoch': 449.0,\n",
      " 'test/TP_epoch': 2352.0,\n",
      " 'test/acc': 1.0,\n",
      " 'test/acc_epoch': 1.0,\n",
      " 'test/loss': 7.718132110312581e-05,\n",
      " 'test/prec': 1.0,\n",
      " 'test/prec_epoch': 1.0,\n",
      " 'test/preds_sum': 392.0,\n",
      " 'test/preds_sum_epoch': 2352.0,\n",
      " 'test/rec': 1.0,\n",
      " 'test/rec_epoch': 1.0,\n",
      " 'test/targets_sum': 392.0,\n",
      " 'test/targets_sum_epoch': 2352.0}\n",
      "--------------------------------------------------------------------------------\n",
      "Testing: 100%|██████████| 6/6 [00:00<00:00, 40.03it/s]\n",
      "[2025-07-10 14:09:00,870][src.train][INFO] - Finalizing!\n",
      "[2025-07-10 14:09:00,870][src.train][INFO] - Best checkpoint path:\n",
      "/home/tony/code/cell-tracker-gnn/logs/runs/2025-07-10/14-06-08/checkpoints/epoch=25.ckpt\n"
     ]
    }
   ],
   "source": [
    "%%bash\n",
    "export HYDRA_FULL_ERROR=1\n",
    "#export FOLDER_PATH=/content/drive/MyDrive/CellTracking/nature_method_ctc # TODO: update this path\n",
    "export FOLDER_PATH=/home/tony/data/gnntest/CTC # TODO: update this path\n",
    "export DATA_NAME=PhC-C2DH-U373 # TODO: update this path\n",
    "# cell tracking training run\n",
    "python run.py datamodule.dataset_params.main_path=\"${FOLDER_PATH}/ct_features/${DATA_NAME}\" datamodule.dataset_params.exp_name=\"2D_SIM\" datamodule.dataset_params.drop_feat=[]"
   ]
  },
  {
   "cell_type": "markdown",
   "metadata": {
    "id": "24ah3IId9ZaR"
   },
   "source": [
    "# **Inference**\n",
    "Update the following variables:\n",
    "\n",
    "\n",
    "*   MODEL_PYTORCH_LIGHTNING - according to the output of the previius cell\n",
    "*   MODEL_METRIC_LEARNING\n",
    "*   FOLDER_PATH - path to folder that contains the dataset\n",
    "*   MODALITY\n",
    "\n",
    "\n",
    "\n"
   ]
  },
  {
   "cell_type": "code",
   "execution_count": 12,
   "metadata": {
    "id": "BsR9ClZn9Yvp"
   },
   "outputs": [
    {
     "name": "stdout",
     "output_type": "stream",
     "text": [
      "number of detected changes: 0\n",
      "0\n",
      "global_delta_row: 46\n",
      "global_delta_col: 37\n",
      "We don't assign new region of interest - use the old one\n",
      "Using resnet18 model architecture.\n",
      "files were saved to : /home/tony/data/gnntest/CTC/PhC-C2DH-U373/01_CSV/csv\n",
      "load model from: /home/tony/code/cell-tracker-gnn/logs/runs/2025-07-10/14-06-08/checkpoints/epoch=25.ckpt\n",
      "\"directed\":        True\n",
      "\"loss_weights\":    65\n",
      "\"lr\":              0.001\n",
      "\"lr_sch_module\":   {'target': None, 'monitor': 'val/acc', 'kwargs': {'verbose': True, 'mode': 'min'}}\n",
      "\"model_params\":    {'target': 'CellTrack_Model', 'kwargs': {'hand_NodeEncoder_dic': {'input_dim': 13, 'fc_dims': [64, 16]}, 'learned_NodeEncoder_dic': {'input_dim': 128, 'fc_dims': [64, 16]}, 'intialize_EdgeEncoder_dic': {'input_dim': 239, 'fc_dims': [128, 64]}, 'message_passing': {'target': 'CellTrack_GNN', 'kwargs': {'in_channels': 32, 'hidden_channels': 32, 'in_edge_channels': 64, 'hidden_edge_channels_conv': 16, 'hidden_edge_channels_linear': [128, 64], 'dropout': 0.0, 'num_layers': 6, 'num_nodes_features': 3}}, 'edge_classifier_dic': {'input_dim': 64, 'fc_dims': [128, 32, 1], 'dropout_p': 0.2, 'use_batchnorm': False}}}\n",
      "\"one_hot_label\":   True\n",
      "\"optim_module\":    {'target': 'Adam', 'kwargs': {'lr': 0.001, 'weight_decay': 1e-05}}\n",
      "\"sample\":          False\n",
      "\"separate_models\": True\n",
      "\"weight_decay\":    0.0005\n",
      "\"weight_loss\":     True\n",
      "Start with /home/tony/data/gnntest/CTC/PhC-C2DH-U373/01_CSV/csv\n",
      "features: Index(['frame_num', 'area', 'min_row_bb', 'min_col_bb', 'max_row_bb',\n",
      "       'max_col_bb', 'centroid_row', 'centroid_col', 'major_axis_length',\n",
      "       'minor_axis_length',\n",
      "       ...\n",
      "       'feat_118', 'feat_119', 'feat_120', 'feat_121', 'feat_122', 'feat_123',\n",
      "       'feat_124', 'feat_125', 'feat_126', 'feat_127'],\n",
      "      dtype='object', length=141)\n",
      "Finish frame index 0\n",
      "Finish process /home/tony/data/gnntest/CTC/PhC-C2DH-U373/01_CSV/csv (test)\n",
      "save path : /home/tony/data/gnntest/CTC/PhC-C2DH-U373/01_RES_inference\n",
      "Save inference files: \n",
      " - /home/tony/data/gnntest/CTC/PhC-C2DH-U373/01_RES_inference/pytorch_geometric_data.pt \n",
      " - /home/tony/data/gnntest/CTC/PhC-C2DH-U373/01_RES_inference/all_data_df.csv \n",
      " - /home/tony/data/gnntest/CTC/PhC-C2DH-U373/01_RES_inference/raw_output.pt\n",
      "Load /home/tony/data/gnntest/CTC/PhC-C2DH-U373/01_RES_inference/pytorch_geometric_data.pt\n",
      "Load /home/tony/data/gnntest/CTC/PhC-C2DH-U373/01_RES_inference/all_data_df.csv\n",
      "Load /home/tony/data/gnntest/CTC/PhC-C2DH-U373/01_RES_inference/raw_output.pt\n",
      "Number of different vals: 0\n"
     ]
    }
   ],
   "source": [
    "%%bash\n",
    "#source activate cell-tracking-challenge\n",
    "export SEQUENCE=01 # sequence number\n",
    "\n",
    "export FOLDER_PATH=/home/tony/data/gnntest/CTC # T\n",
    "export MODEL_METRIC_LEARNING=/home/tony/data/gnntest/software/parameters/Features_Models/PhC-C2DH-U373/all_params.pth # TODO: update this path\n",
    "#export MODEL_PYTORCH_LIGHTNING='/home/tony/code/cell-tracker-gnn/logs/runs/2025-07-10/13-17-22/checkpoints/epoch=30.ckpt' # TODO: update this path\n",
    "export MODEL_PYTORCH_LIGHTNING='/home/tony/code/cell-tracker-gnn/logs/runs/2025-07-10/14-06-08/checkpoints/epoch=25.ckpt'\n",
    "\n",
    "export DATA_NAME=PhC-C2DH-U373 # TODO: update this path\n",
    "\n",
    "export MODALITY=\"2D\"  # dataset modality\n",
    "export DATASET=\"${FOLDER_PATH}/${DATA_NAME}\"\n",
    "export CODE_TRA=src/inference/\n",
    "\n",
    "#export PYTHONPATH=/content/cell-tracker-gnn\n",
    "export PYTHONPATH=/home/tony/code/cell-tracker-gnn # TODO: update this path\n",
    "\n",
    "# our model needs CSVs, so let's create from image and segmentation.\n",
    "python ${CODE_TRA}/preprocess_seq2graph_clean.py -cs 20 -ii \"${DATASET}/${SEQUENCE}\" -iseg \"${DATASET}/${SEQUENCE}_GT/TRA\" -im \"${MODEL_METRIC_LEARNING}\" -oc \"${DATASET}/${SEQUENCE}_CSV\"\n",
    "\n",
    "# run the prediction\n",
    "python ${CODE_TRA}/inference_clean.py -mp \"${MODEL_PYTORCH_LIGHTNING}\" -ns \"${SEQUENCE}\" -oc \"${DATASET}\"\n",
    "\n",
    "# create label maps\n",
    "python ${CODE_TRA}/postprocess_clean.py -modality \"${MODALITY}\" -iseg \"${DATASET}/${SEQUENCE}_GT/TRA\" -oi \"${DATASET}/${SEQUENCE}_RES_inference\"\n"
   ]
  },
  {
   "cell_type": "code",
   "execution_count": null,
   "metadata": {},
   "outputs": [],
   "source": []
  }
 ],
 "metadata": {
  "accelerator": "GPU",
  "colab": {
   "gpuType": "T4",
   "provenance": []
  },
  "kernelspec": {
   "display_name": "Python 3 (ipykernel)",
   "language": "python",
   "name": "python3"
  },
  "language_info": {
   "codemirror_mode": {
    "name": "ipython",
    "version": 3
   },
   "file_extension": ".py",
   "mimetype": "text/x-python",
   "name": "python",
   "nbconvert_exporter": "python",
   "pygments_lexer": "ipython3",
   "version": "3.8.13"
  }
 },
 "nbformat": 4,
 "nbformat_minor": 4
}
