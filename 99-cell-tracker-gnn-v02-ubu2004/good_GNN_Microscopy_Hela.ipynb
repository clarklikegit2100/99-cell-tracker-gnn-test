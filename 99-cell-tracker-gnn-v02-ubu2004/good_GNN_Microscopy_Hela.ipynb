{
 "cells": [
  {
   "cell_type": "markdown",
   "metadata": {
    "id": "lU3MFoThkqze"
   },
   "source": [
    "# **This Notebook is provided Training Example (PhC-C2DH-U373 Dataset) Using Colab**\n",
    "The notebook arragemnet is as follow\n",
    "\n",
    "*   **Prequesities**\n",
    "  1.   Conect to github, Clone the repository\n",
    "  2.   Configurate working directory and google drive connetction\n",
    "  3.   Download and install Conda, create conda enviroment with all the required packages\n",
    "\n",
    "*   **Trainings**\n",
    "  1.   Run feature extraction for metric learning\n",
    "  2.   Run metric learning training\n",
    "  3.   Run compreensive feature extraction with metric learning\n",
    "  4.   Run Cell Tracking training\n",
    "\n",
    "*   **Inference**\n",
    "\n",
    "\n",
    "\n",
    "\n",
    "\n",
    "\n"
   ]
  },
  {
   "cell_type": "markdown",
   "metadata": {
    "id": "XjK6-8l6nTbv"
   },
   "source": [
    "# **Prequesities**"
   ]
  },
  {
   "cell_type": "markdown",
   "metadata": {
    "id": "nQUP3ZYLmVOa"
   },
   "source": [
    "# 1. Conect to github, Clone the repository\n"
   ]
  },
  {
   "cell_type": "code",
   "execution_count": 1,
   "metadata": {
    "colab": {
     "base_uri": "https://localhost:8080/"
    },
    "id": "BNq7hyZeReV9",
    "outputId": "27cc6080-45dd-45de-a99a-467e47dce414"
   },
   "outputs": [],
   "source": [
    "import os\n",
    "#! git clone https://github.com/talbenha/cell-tracker-gnn\n",
    "\n",
    "#curr_workdir = f'./cell-tracker-gnn'\n",
    "#if os.path.exists(curr_workdir):\n",
    "#  os.chdir(curr_workdir)"
   ]
  },
  {
   "cell_type": "markdown",
   "metadata": {
    "id": "sg-StobkkpOw"
   },
   "source": [
    "# 2. Configurate working directory and google drive connetction\n"
   ]
  },
  {
   "cell_type": "code",
   "execution_count": 2,
   "metadata": {
    "colab": {
     "base_uri": "https://localhost:8080/"
    },
    "id": "SkznbTxwGFTf",
    "outputId": "76520696-750e-4975-f7ef-c0a5856c6eb3"
   },
   "outputs": [],
   "source": [
    "#import os\n",
    "#from google.colab import drive\n",
    "#drive.mount('/content/drive', force_remount=True)\n",
    "#file_path = '/content/drive/My Drive/CellTracking/nature_method_ctc/' # TODO: update this path\n",
    "#if os.path.exists(file_path):\n",
    "#  os.listdir(file_path)\n",
    "#else:\n",
    "#print(\"Error Path doesn't exist\")"
   ]
  },
  {
   "cell_type": "markdown",
   "metadata": {
    "id": "uAE2W8WnnROI"
   },
   "source": [
    "# 3. Download and install Conda, create conda enviroment with all the required packages"
   ]
  },
  {
   "cell_type": "markdown",
   "metadata": {
    "colab": {
     "base_uri": "https://localhost:8080/"
    },
    "collapsed": true,
    "id": "Pp9kcmdI47FA",
    "jupyter": {
     "outputs_hidden": true
    },
    "outputId": "43688c19-4e61-4b89-f054-3fe0339d8301"
   },
   "source": [
    "################################################################################\n",
    "# INSTALL CONDA ON GOOGLE COLAB\n",
    "################################################################################\n",
    "\n",
    "# try to run the bare minimum to get a new conda env working\n",
    "env_name = 'cell-tracking-challenge-mac310'\n",
    "conda_path = ''\n",
    "try:\n",
    "    conda_path = ! which conda\n",
    "finally:\n",
    "    print('')\n",
    "\n",
    "if (len(conda_path) == 0):\n",
    "    print('installing miniconda')\n",
    "    ! wget https://repo.anaconda.com/miniconda/Miniconda3-py37_4.8.2-Linux-x86_64.sh\n",
    "    ! chmod +x Miniconda3-py37_4.8.2-Linux-x86_64.sh\n",
    "    ! bash ./Miniconda3-py37_4.8.2-Linux-x86_64.sh -b -f -p /usr/local\n",
    "    import sys\n",
    "    sys.path.append('/usr/local/lib/python3.7/site-packages/')\n",
    "    ! conda init\n",
    "    ! conda install -n root _license -y -q\n",
    "else:\n",
    "    print('found miniconda')\n",
    "\n",
    "conda_envs = ! conda env list\n",
    "res = [i for i in conda_envs if env_name in i]\n",
    "if (len(res) == 0):\n",
    "    print(f'not found {env_name} env', len(res))\n",
    "    ! conda create --name cell-tracking-challenge-mac310 --file requirements-conda.txt\n",
    "else:\n",
    "    print(f'found {env_name} env', len(res))\n",
    "print(f'{env_name} was created')"
   ]
  },
  {
   "cell_type": "code",
   "execution_count": 3,
   "metadata": {
    "colab": {
     "base_uri": "https://localhost:8080/"
    },
    "id": "hRud_rqd-DeU",
    "outputId": "2702825b-3cc7-4cef-8d80-1e76c1ccc938"
   },
   "outputs": [],
   "source": [
    "%%bash\n",
    "#source activate cell-tracking-challenge\n",
    "#conda activate cell-tracking-challenge\n",
    "# install other requirements\n",
    "#pip install -r requirements.txt\n",
    "#pip install PyYAML==5.4.1"
   ]
  },
  {
   "cell_type": "code",
   "execution_count": 4,
   "metadata": {
    "colab": {
     "base_uri": "https://localhost:8080/",
     "height": 366
    },
    "id": "JLRuvmTsFQr3",
    "outputId": "75b9f650-34b1-4451-fade-dc1c8a3dabb6"
   },
   "outputs": [],
   "source": [
    "#!conda init\n",
    "#!conda activate cell-tracking-challenge\n",
    "#!pip install hydra-core==1.1.0\n",
    "#!pip install python-dotenv==0.20.0\n",
    "import dotenv\n",
    "#from dotenv import load_dotenv\n"
   ]
  },
  {
   "cell_type": "markdown",
   "metadata": {
    "id": "tHvSRgPIlEFo"
   },
   "source": [
    "# **Training**\n",
    " The first two stages can be skipped (step #2 is long in colab) by using the pre-trained model (in step #3) provided under the [releases](https://github.com/talbenha/cell-tracker-gnn/releases) of the repository. For example for the pretrained model for PhC-C2DH-U373 dataset, download the software and find the model under `software/parameters/Features_Models/PhC-C2DH-U373/all_params.pth`"
   ]
  },
  {
   "cell_type": "markdown",
   "metadata": {
    "id": "mgdYwfgjneeD"
   },
   "source": [
    "# 1. Run feature extraction for metric learning\n"
   ]
  },
  {
   "cell_type": "code",
   "execution_count": null,
   "metadata": {
    "id": "jc8rZqC-JQAE"
   },
   "outputs": [
    {
     "name": "stdout",
     "output_type": "stream",
     "text": [
      "\n",
      "# conda environments:\n",
      "#\n",
      "base                   /home/tony/miniconda3\n",
      "99-deepcell-310        /home/tony/miniconda3/envs/99-deepcell-310\n",
      "cell-tracking-challenge-linux37 * /home/tony/miniconda3/envs/cell-tracking-challenge-linux37\n",
      "cell-tractr            /home/tony/miniconda3/envs/cell-tractr\n",
      "trackastra             /home/tony/miniconda3/envs/trackastra\n",
      "\n",
      "[2025-07-10 13:54:38,065][numexpr.utils][INFO] - Note: NumExpr detected 48 cores but \"NUMEXPR_MAX_THREADS\" not set, so enforcing safe limit of 8.\n",
      "[2025-07-10 13:54:38,066][numexpr.utils][INFO] - NumExpr defaulting to 8 threads.\n",
      "files were saved to : /home/tony/data/gnntest/CTC/basic_features/PhC-C2DH-U373/01/csv\n",
      "files were saved to : /home/tony/data/gnntest/CTC/basic_features/PhC-C2DH-U373/02/csv\n"
     ]
    }
   ],
   "source": [
    "%%bash\n",
    "conda env list\n",
    "#source activate cell-tracking-challenge\n",
    "export HYDRA_FULL_ERROR=1\n",
    "export FOLDER_PATH=/home/tony/data/gnntest/CTC # TODO: update this path\n",
    "export DATA_NAME=Fluo-N2DL-HeLa # TODO: update this path\n",
    "\n",
    "python run_feat_extract.py params.input_images=\"${FOLDER_PATH}/${DATA_NAME}\" params.input_masks=\"${FOLDER_PATH}/${DATA_NAME}\" params.input_seg=\"${FOLDER_PATH}/${DATA_NAME}\" params.output_csv=\"${FOLDER_PATH}/basic_features\" params.sequences=['01','02']  params.seg_dir='_GT/TRA' params.basic=True"
   ]
  },
  {
   "cell_type": "code",
   "execution_count": null,
   "metadata": {
    "id": "-dRjx8GkFOkG"
   },
   "outputs": [],
   "source": []
  },
  {
   "cell_type": "markdown",
   "metadata": {
    "id": "NEWM_DoynnGs"
   },
   "source": [
    "# 2. Run metric learning training\n",
    " Pay attention that this cell takes long time on google colab, so you can skip this stage and use the pre-trained model provided under the [releases](https://github.com/talbenha/cell-tracker-gnn/releases) of the repository. For example for the pretrained model for PhC-C2DH-U373 dataset, download the software and find the model under `software/parameters/Features_Models/PhC-C2DH-U373/all_params.pth`"
   ]
  },
  {
   "cell_type": "code",
   "execution_count": 6,
   "metadata": {
    "id": "Sn1JcCVg8Dd1"
   },
   "outputs": [],
   "source": [
    "#%%bash\n",
    "#source activate cell-tracking-challenge\n",
    "#export HYDRA_FULL_ERROR=1\n",
    "#export FOLDER_PATH=/content/drive/MyDrive/CellTracking/nature_method_ctc # TODO: update this path\n",
    "#export DATA_NAME=PhC-C2DH-U373 # TODO: update this path\n",
    "\n",
    "#python run_train_metric_learning.py dataset.kwargs.data_dir_img=\"${FOLDER_PATH}/${DATA_NAME}\" dataset.kwargs.data_dir_mask=\"${FOLDER_PATH}/${DATA_NAME}\" dataset.kwargs.dir_csv=\"${FOLDER_PATH}/basic_features/${DATA_NAME}\" dataset.kwargs.subdir_mask='GT/TRA'"
   ]
  },
  {
   "cell_type": "markdown",
   "metadata": {
    "id": "7fi-43NNqSa5"
   },
   "source": [
    "--> output 'all_params.pth' is generated at end, it is the input_model (i.e. for METRIC_PATH variable) for the next step"
   ]
  },
  {
   "cell_type": "markdown",
   "metadata": {
    "id": "7O4aUzu_6Wfm"
   },
   "source": [
    "# **3. Run compreensive feature extraction with metric learning**"
   ]
  },
  {
   "cell_type": "markdown",
   "metadata": {
    "id": "OFBY9bWU6gCV"
   },
   "source": []
  },
  {
   "cell_type": "markdown",
   "metadata": {
    "id": "bS5fms3X3s6X"
   },
   "source": []
  },
  {
   "cell_type": "code",
   "execution_count": 7,
   "metadata": {
    "id": "88FF8SgD-UYI"
   },
   "outputs": [
    {
     "name": "stdout",
     "output_type": "stream",
     "text": [
      "No LSB modules are available.\n",
      "Distributor ID:\tUbuntu\n",
      "Description:\tUbuntu 20.04.6 LTS\n",
      "Release:\t20.04\n",
      "Codename:\tfocal\n",
      "\n",
      "CondaError: Run 'conda init' before 'conda activate'\n",
      "\n"
     ]
    }
   ],
   "source": [
    "!lsb_release -a\n",
    "#conda init\n",
    "#source activate cell-tracking-challenge\n",
    "!conda activate cell-tracking-challenge\n",
    "\n"
   ]
  },
  {
   "cell_type": "code",
   "execution_count": null,
   "metadata": {
    "id": "woSZYUsI9EED"
   },
   "outputs": [
    {
     "name": "stdout",
     "output_type": "stream",
     "text": [
      "\n",
      "# conda environments:\n",
      "#\n",
      "base                   /home/tony/miniconda3\n",
      "99-deepcell-310        /home/tony/miniconda3/envs/99-deepcell-310\n",
      "cell-tracking-challenge-linux37 * /home/tony/miniconda3/envs/cell-tracking-challenge-linux37\n",
      "cell-tractr            /home/tony/miniconda3/envs/cell-tractr\n",
      "trackastra             /home/tony/miniconda3/envs/trackastra\n",
      "\n",
      "[2025-07-10 13:54:49,722][numexpr.utils][INFO] - Note: NumExpr detected 48 cores but \"NUMEXPR_MAX_THREADS\" not set, so enforcing safe limit of 8.\n",
      "[2025-07-10 13:54:49,722][numexpr.utils][INFO] - NumExpr defaulting to 8 threads.\n",
      "Using resnet18 model architecture.\n",
      "files were saved to : /home/tony/data/gnntest/CTC/ct_features/PhC-C2DH-U373/01/csv\n",
      "Using resnet18 model architecture.\n",
      "files were saved to : /home/tony/data/gnntest/CTC/ct_features/PhC-C2DH-U373/02/csv\n"
     ]
    }
   ],
   "source": [
    "%%bash\n",
    "conda env list\n",
    "export HYDRA_FULL_ERROR=1\n",
    "#export FOLDER_PATH=/content/drive/MyDrive/CellTracking/nature_method_ctc # TODO: update this path\n",
    "export FOLDER_PATH=/home/tony/data/gnntest/CTC # TODO: update this path\n",
    "export METRIC_PATH=/home/tony/data/gnntest/software/parameters/Features_Models/Fluo-N2DL-HeLa/all_params.pth # TODO: update this path\n",
    "export DATA_NAME=Fluo-N2DL-HeLa # TODO: update this path\n",
    "\n",
    "python run_feat_extract.py params.input_images=\"${FOLDER_PATH}/${DATA_NAME}\" params.input_masks=\"${FOLDER_PATH}/${DATA_NAME}\" params.input_seg=\"${FOLDER_PATH}/${DATA_NAME}\" params.output_csv=\"${FOLDER_PATH}/ct_features/\" params.sequences=['01','02']  params.seg_dir='_GT/TRA' params.basic=False params.input_model=\"${METRIC_PATH}\""
   ]
  },
  {
   "cell_type": "markdown",
   "metadata": {
    "id": "OXnZvVp9oKG0"
   },
   "source": [
    "# 4. Run Cell Tracking training"
   ]
  },
  {
   "cell_type": "code",
   "execution_count": null,
   "metadata": {
    "id": "U4eR_tFE9HTz"
   },
   "outputs": [
    {
     "name": "stdout",
     "output_type": "stream",
     "text": [
      "[2025-07-10 13:55:32,524][src.utils.utils][INFO] - Disabling python warnings! <config.disable_warnings=True>\n",
      "⚙ CONFIG                                                                        \n",
      "├── trainer                                                                     \n",
      "│   └── _target_: pytorch_lightning.Trainer                                     \n",
      "│       gpus: 1                                                                 \n",
      "│       min_epochs: 1                                                           \n",
      "│       max_epochs: 500                                                         \n",
      "│       weights_summary: top                                                    \n",
      "│       progress_bar_refresh_rate: 100                                          \n",
      "│       terminate_on_nan: true                                                  \n",
      "│                                                                               \n",
      "├── model                                                                       \n",
      "│   └── _target_: src.models.celltrack_plmodel.CellTrackLitModel                \n",
      "│       one_hot_label: true                                                     \n",
      "│       loss_weights: 65                                                        \n",
      "│       sample: false                                                           \n",
      "│       weight_loss: true                                                       \n",
      "│       directed: true                                                          \n",
      "│       separate_models: true                                                   \n",
      "│       optim_module:                                                           \n",
      "│         target: Adam                                                          \n",
      "│         kwargs:                                                               \n",
      "│           lr: 0.001                                                           \n",
      "│           weight_decay: 1.0e-05                                               \n",
      "│       lr_sch_module:                                                          \n",
      "│         target: null                                                          \n",
      "│         monitor: val/acc                                                      \n",
      "│         kwargs:                                                               \n",
      "│           verbose: true                                                       \n",
      "│           mode: min                                                           \n",
      "│       model_params:                                                           \n",
      "│         target: CellTrack_Model                                               \n",
      "│         kwargs:                                                               \n",
      "│           hand_NodeEncoder_dic:                                               \n",
      "│             input_dim: 13                                                     \n",
      "│             fc_dims:                                                          \n",
      "│             - 64                                                              \n",
      "│             - 16                                                              \n",
      "│           learned_NodeEncoder_dic:                                            \n",
      "│             input_dim: 128                                                    \n",
      "│             fc_dims:                                                          \n",
      "│             - 64                                                              \n",
      "│             - 16                                                              \n",
      "│           intialize_EdgeEncoder_dic:                                          \n",
      "│             input_dim: 239                                                    \n",
      "│             fc_dims:                                                          \n",
      "│             - 128                                                             \n",
      "│             - 64                                                              \n",
      "│           message_passing:                                                    \n",
      "│             target: CellTrack_GNN                                             \n",
      "│             kwargs:                                                           \n",
      "│               in_channels: 32                                                 \n",
      "│               hidden_channels: 32                                             \n",
      "│               in_edge_channels: 64                                            \n",
      "│               hidden_edge_channels_conv: 16                                   \n",
      "│               hidden_edge_channels_linear:                                    \n",
      "│               - 128                                                           \n",
      "│               - 64                                                            \n",
      "│               dropout: 0.0                                                    \n",
      "│               num_layers: 6                                                   \n",
      "│               num_nodes_features: 3                                           \n",
      "│           edge_classifier_dic:                                                \n",
      "│             input_dim: 64                                                     \n",
      "│             fc_dims:                                                          \n",
      "│             - 128                                                             \n",
      "│             - 32                                                              \n",
      "│             - 1                                                               \n",
      "│             dropout_p: 0.2                                                    \n",
      "│             use_batchnorm: false                                              \n",
      "│                                                                               \n",
      "├── datamodule                                                                  \n",
      "│   └── _target_: src.datamodules.celltrack_datamodule_mulSeq.CellTrackDataModul\n",
      "│       data_dir: /home/tony/code/cell-tracker-gnn/data/                        \n",
      "│       batch_size: 8                                                           \n",
      "│       num_workers: 0                                                          \n",
      "│       pin_memory: false                                                       \n",
      "│       train_val_test_split:                                                   \n",
      "│       - 80                                                                    \n",
      "│       - 20                                                                    \n",
      "│       - 0                                                                     \n",
      "│       sampler_type: from_both                                                 \n",
      "│       dataset_params:                                                         \n",
      "│         num_frames: 10                                                        \n",
      "│         type_file: csv                                                        \n",
      "│         produce_gt: simple                                                    \n",
      "│         main_path: /home/tony/data/gnntest/CTC/ct_features/PhC-C2DH-U373      \n",
      "│         dirs_path:                                                            \n",
      "│           train:                                                              \n",
      "│           - '01'                                                              \n",
      "│           - '02'                                                              \n",
      "│         one_hot_label: true                                                   \n",
      "│         exp_name: 2D_SIM                                                      \n",
      "│         overlap: 1                                                            \n",
      "│         jump_frames: 1                                                        \n",
      "│         mul_vals:                                                             \n",
      "│         - 2                                                                   \n",
      "│         - 2                                                                   \n",
      "│         - 2                                                                   \n",
      "│         filter_edges: true                                                    \n",
      "│         directed: true                                                        \n",
      "│         edge_feat_embed_dict:                                                 \n",
      "│           p: 1                                                                \n",
      "│           use_normalized_x: true                                              \n",
      "│           normalized_features: false                                          \n",
      "│         separate_models: true                                                 \n",
      "│         normalize_all_cols: false                                             \n",
      "│         same_frame: false                                                     \n",
      "│         next_frame: true                                                      \n",
      "│         self_loop: true                                                       \n",
      "│         normalize: true                                                       \n",
      "│         debug_visualization: false                                            \n",
      "│         which_preprocess: MinMax                                              \n",
      "│         drop_feat: []                                                         \n",
      "│                                                                               \n",
      "├── callbacks                                                                   \n",
      "│   └── model_checkpoint:                                                       \n",
      "│         _target_: pytorch_lightning.callbacks.ModelCheckpoint                 \n",
      "│         monitor: val/acc                                                      \n",
      "│         save_top_k: 1                                                         \n",
      "│         save_last: true                                                       \n",
      "│         mode: max                                                             \n",
      "│         verbose: false                                                        \n",
      "│         dirpath: checkpoints/                                                 \n",
      "│         filename: '{epoch:02d}'                                               \n",
      "│       early_stopping:                                                         \n",
      "│         _target_: pytorch_lightning.callbacks.EarlyStopping                   \n",
      "│         monitor: val/acc                                                      \n",
      "│         patience: 50                                                          \n",
      "│         mode: max                                                             \n",
      "│         min_delta: 0                                                          \n",
      "│                                                                               \n",
      "├── logger                                                                      \n",
      "│   └── tensorboard:                                                            \n",
      "│         _target_: pytorch_lightning.loggers.tensorboard.TensorBoardLogger     \n",
      "│         save_dir: tensorboard/                                                \n",
      "│         name: default                                                         \n",
      "│       csv:                                                                    \n",
      "│         _target_: pytorch_lightning.loggers.csv_logs.CSVLogger                \n",
      "│         save_dir: .                                                           \n",
      "│         name: csv/                                                            \n",
      "│                                                                               \n",
      "└── seed                                                                        \n",
      "    └── None                                                                    \n",
      "[2025-07-10 13:55:32,551][src.train][INFO] - Instantiating datamodule <src.datamodules.celltrack_datamodule_mulSeq.CellTrackDataModule>\n",
      "[2025-07-10 13:55:32,581][numexpr.utils][INFO] - Note: NumExpr detected 48 cores but \"NUMEXPR_MAX_THREADS\" not set, so enforcing safe limit of 8.\n",
      "[2025-07-10 13:55:32,581][numexpr.utils][INFO] - NumExpr defaulting to 8 threads.\n",
      "seq len : [106, 106]\n",
      "[2025-07-10 13:55:33,223][src.train][INFO] - Instantiating model <src.models.celltrack_plmodel.CellTrackLitModel>\n",
      "[2025-07-10 13:55:33,416][src.train][INFO] - Instantiating callback <pytorch_lightning.callbacks.ModelCheckpoint>\n",
      "[2025-07-10 13:55:33,417][src.train][INFO] - Instantiating callback <pytorch_lightning.callbacks.EarlyStopping>\n",
      "[2025-07-10 13:55:33,417][src.train][INFO] - Instantiating logger <pytorch_lightning.loggers.tensorboard.TensorBoardLogger>\n",
      "[2025-07-10 13:55:33,418][src.train][INFO] - Instantiating logger <pytorch_lightning.loggers.csv_logs.CSVLogger>\n",
      "[2025-07-10 13:55:33,418][src.train][INFO] - Instantiating trainer <pytorch_lightning.Trainer>\n",
      "[2025-07-10 13:55:33,420][pytorch_lightning.utilities.distributed][INFO] - GPU available: True, used: True\n",
      "[2025-07-10 13:55:33,420][pytorch_lightning.utilities.distributed][INFO] - TPU available: False, using: 0 TPU cores\n",
      "[2025-07-10 13:55:33,420][pytorch_lightning.utilities.distributed][INFO] - IPU available: False, using: 0 IPUs\n",
      "[2025-07-10 13:55:33,421][src.train][INFO] - Logging hyperparameters!\n",
      "[2025-07-10 13:55:34,149][src.train][INFO] - Starting training!\n",
      "sample using from_both\n",
      "Training dataset length: 170\n",
      "Validation dataset length: 42\n",
      "Test dataset length: 0\n",
      "save begin\n"
     ]
    },
    {
     "name": "stderr",
     "output_type": "stream",
     "text": [
      "Traceback (most recent call last):\n",
      "  File \"run.py\", line 36, in <module>\n",
      "    main()\n",
      "  File \"/home/tony/miniconda3/envs/cell-tracking-challenge-linux37/lib/python3.8/site-packages/hydra/main.py\", line 29, in decorated_main\n",
      "    _run_hydra(\n",
      "  File \"/home/tony/miniconda3/envs/cell-tracking-challenge-linux37/lib/python3.8/site-packages/hydra/_internal/utils.py\", line 369, in _run_hydra\n",
      "    run_and_report(\n",
      "  File \"/home/tony/miniconda3/envs/cell-tracking-challenge-linux37/lib/python3.8/site-packages/hydra/_internal/utils.py\", line 214, in run_and_report\n",
      "    raise ex\n",
      "  File \"/home/tony/miniconda3/envs/cell-tracking-challenge-linux37/lib/python3.8/site-packages/hydra/_internal/utils.py\", line 211, in run_and_report\n",
      "    return func()\n",
      "  File \"/home/tony/miniconda3/envs/cell-tracking-challenge-linux37/lib/python3.8/site-packages/hydra/_internal/utils.py\", line 370, in <lambda>\n",
      "    lambda: hydra.run(\n",
      "  File \"/home/tony/miniconda3/envs/cell-tracking-challenge-linux37/lib/python3.8/site-packages/hydra/_internal/hydra.py\", line 93, in run\n",
      "    return run_job(\n",
      "  File \"/home/tony/miniconda3/envs/cell-tracking-challenge-linux37/lib/python3.8/site-packages/hydra/core/utils.py\", line 129, in run_job\n",
      "    ret.return_value = task_function(task_cfg)\n",
      "  File \"run.py\", line 32, in main\n",
      "    return train(config)\n",
      "  File \"/home/tony/code/cell-tracker-gnn/src/train.py\", line 79, in train\n",
      "    trainer.fit(model=model, datamodule=datamodule)\n",
      "  File \"/home/tony/miniconda3/envs/cell-tracking-challenge-linux37/lib/python3.8/site-packages/pytorch_lightning/trainer/trainer.py\", line 552, in fit\n",
      "    self._run(model)\n",
      "  File \"/home/tony/miniconda3/envs/cell-tracking-challenge-linux37/lib/python3.8/site-packages/pytorch_lightning/trainer/trainer.py\", line 864, in _run\n",
      "    self._call_setup_hook(model)  # allow user to setup lightning_module in accelerator environment\n",
      "  File \"/home/tony/miniconda3/envs/cell-tracking-challenge-linux37/lib/python3.8/site-packages/pytorch_lightning/trainer/trainer.py\", line 1177, in _call_setup_hook\n",
      "    self.datamodule.setup(stage=fn)\n",
      "  File \"/home/tony/miniconda3/envs/cell-tracking-challenge-linux37/lib/python3.8/site-packages/pytorch_lightning/core/datamodule.py\", line 428, in wrapped_fn\n",
      "    fn(*args, **kwargs)\n",
      "  File \"/home/tony/code/cell-tracker-gnn/src/datamodules/celltrack_datamodule_mulSeq.py\", line 129, in setup\n",
      "    save_datasets_to_csv(self)\n",
      "NameError: name 'save_datasets_to_csv' is not defined\n"
     ]
    },
    {
     "ename": "CalledProcessError",
     "evalue": "Command 'b'export HYDRA_FULL_ERROR=1\\n#export FOLDER_PATH=/content/drive/MyDrive/CellTracking/nature_method_ctc # TODO: update this path\\nexport FOLDER_PATH=/home/tony/data/gnntest/CTC # TODO: update this path\\nexport DATA_NAME=PhC-C2DH-U373 # TODO: update this path\\n# cell tracking training run\\npython run.py datamodule.dataset_params.main_path=\"${FOLDER_PATH}/ct_features/${DATA_NAME}\" datamodule.dataset_params.exp_name=\"2D_SIM\" datamodule.dataset_params.drop_feat=[]\\n'' returned non-zero exit status 1.",
     "output_type": "error",
     "traceback": [
      "\u001b[0;31m---------------------------------------------------------------------------\u001b[0m",
      "\u001b[0;31mCalledProcessError\u001b[0m                        Traceback (most recent call last)",
      "Cell \u001b[0;32mIn[9], line 1\u001b[0m\n\u001b[0;32m----> 1\u001b[0m \u001b[43mget_ipython\u001b[49m\u001b[43m(\u001b[49m\u001b[43m)\u001b[49m\u001b[38;5;241;43m.\u001b[39;49m\u001b[43mrun_cell_magic\u001b[49m\u001b[43m(\u001b[49m\u001b[38;5;124;43m'\u001b[39;49m\u001b[38;5;124;43mbash\u001b[39;49m\u001b[38;5;124;43m'\u001b[39;49m\u001b[43m,\u001b[49m\u001b[43m \u001b[49m\u001b[38;5;124;43m'\u001b[39;49m\u001b[38;5;124;43m'\u001b[39;49m\u001b[43m,\u001b[49m\u001b[43m \u001b[49m\u001b[38;5;124;43m'\u001b[39;49m\u001b[38;5;124;43mexport HYDRA_FULL_ERROR=1\u001b[39;49m\u001b[38;5;130;43;01m\\n\u001b[39;49;00m\u001b[38;5;124;43m#export FOLDER_PATH=/content/drive/MyDrive/CellTracking/nature_method_ctc # TODO: update this path\u001b[39;49m\u001b[38;5;130;43;01m\\n\u001b[39;49;00m\u001b[38;5;124;43mexport FOLDER_PATH=/home/tony/data/gnntest/CTC # TODO: update this path\u001b[39;49m\u001b[38;5;130;43;01m\\n\u001b[39;49;00m\u001b[38;5;124;43mexport DATA_NAME=PhC-C2DH-U373 # TODO: update this path\u001b[39;49m\u001b[38;5;130;43;01m\\n\u001b[39;49;00m\u001b[38;5;124;43m# cell tracking training run\u001b[39;49m\u001b[38;5;130;43;01m\\n\u001b[39;49;00m\u001b[38;5;124;43mpython run.py datamodule.dataset_params.main_path=\u001b[39;49m\u001b[38;5;124;43m\"\u001b[39;49m\u001b[38;5;124;43m$\u001b[39;49m\u001b[38;5;132;43;01m{FOLDER_PATH}\u001b[39;49;00m\u001b[38;5;124;43m/ct_features/$\u001b[39;49m\u001b[38;5;132;43;01m{DATA_NAME}\u001b[39;49;00m\u001b[38;5;124;43m\"\u001b[39;49m\u001b[38;5;124;43m datamodule.dataset_params.exp_name=\u001b[39;49m\u001b[38;5;124;43m\"\u001b[39;49m\u001b[38;5;124;43m2D_SIM\u001b[39;49m\u001b[38;5;124;43m\"\u001b[39;49m\u001b[38;5;124;43m datamodule.dataset_params.drop_feat=[]\u001b[39;49m\u001b[38;5;130;43;01m\\n\u001b[39;49;00m\u001b[38;5;124;43m'\u001b[39;49m\u001b[43m)\u001b[49m\n",
      "File \u001b[0;32m~/miniconda3/envs/cell-tracking-challenge-linux37/lib/python3.8/site-packages/IPython/core/interactiveshell.py:2478\u001b[0m, in \u001b[0;36mInteractiveShell.run_cell_magic\u001b[0;34m(self, magic_name, line, cell)\u001b[0m\n\u001b[1;32m   2476\u001b[0m \u001b[38;5;28;01mwith\u001b[39;00m \u001b[38;5;28mself\u001b[39m\u001b[38;5;241m.\u001b[39mbuiltin_trap:\n\u001b[1;32m   2477\u001b[0m     args \u001b[38;5;241m=\u001b[39m (magic_arg_s, cell)\n\u001b[0;32m-> 2478\u001b[0m     result \u001b[38;5;241m=\u001b[39m \u001b[43mfn\u001b[49m\u001b[43m(\u001b[49m\u001b[38;5;241;43m*\u001b[39;49m\u001b[43margs\u001b[49m\u001b[43m,\u001b[49m\u001b[43m \u001b[49m\u001b[38;5;241;43m*\u001b[39;49m\u001b[38;5;241;43m*\u001b[39;49m\u001b[43mkwargs\u001b[49m\u001b[43m)\u001b[49m\n\u001b[1;32m   2480\u001b[0m \u001b[38;5;66;03m# The code below prevents the output from being displayed\u001b[39;00m\n\u001b[1;32m   2481\u001b[0m \u001b[38;5;66;03m# when using magics with decodator @output_can_be_silenced\u001b[39;00m\n\u001b[1;32m   2482\u001b[0m \u001b[38;5;66;03m# when the last Python token in the expression is a ';'.\u001b[39;00m\n\u001b[1;32m   2483\u001b[0m \u001b[38;5;28;01mif\u001b[39;00m \u001b[38;5;28mgetattr\u001b[39m(fn, magic\u001b[38;5;241m.\u001b[39mMAGIC_OUTPUT_CAN_BE_SILENCED, \u001b[38;5;28;01mFalse\u001b[39;00m):\n",
      "File \u001b[0;32m~/miniconda3/envs/cell-tracking-challenge-linux37/lib/python3.8/site-packages/IPython/core/magics/script.py:153\u001b[0m, in \u001b[0;36mScriptMagics._make_script_magic.<locals>.named_script_magic\u001b[0;34m(line, cell)\u001b[0m\n\u001b[1;32m    151\u001b[0m \u001b[38;5;28;01melse\u001b[39;00m:\n\u001b[1;32m    152\u001b[0m     line \u001b[38;5;241m=\u001b[39m script\n\u001b[0;32m--> 153\u001b[0m \u001b[38;5;28;01mreturn\u001b[39;00m \u001b[38;5;28;43mself\u001b[39;49m\u001b[38;5;241;43m.\u001b[39;49m\u001b[43mshebang\u001b[49m\u001b[43m(\u001b[49m\u001b[43mline\u001b[49m\u001b[43m,\u001b[49m\u001b[43m \u001b[49m\u001b[43mcell\u001b[49m\u001b[43m)\u001b[49m\n",
      "File \u001b[0;32m~/miniconda3/envs/cell-tracking-challenge-linux37/lib/python3.8/site-packages/IPython/core/magics/script.py:305\u001b[0m, in \u001b[0;36mScriptMagics.shebang\u001b[0;34m(self, line, cell)\u001b[0m\n\u001b[1;32m    300\u001b[0m \u001b[38;5;28;01mif\u001b[39;00m args\u001b[38;5;241m.\u001b[39mraise_error \u001b[38;5;129;01mand\u001b[39;00m p\u001b[38;5;241m.\u001b[39mreturncode \u001b[38;5;241m!=\u001b[39m \u001b[38;5;241m0\u001b[39m:\n\u001b[1;32m    301\u001b[0m     \u001b[38;5;66;03m# If we get here and p.returncode is still None, we must have\u001b[39;00m\n\u001b[1;32m    302\u001b[0m     \u001b[38;5;66;03m# killed it but not yet seen its return code. We don't wait for it,\u001b[39;00m\n\u001b[1;32m    303\u001b[0m     \u001b[38;5;66;03m# in case it's stuck in uninterruptible sleep. -9 = SIGKILL\u001b[39;00m\n\u001b[1;32m    304\u001b[0m     rc \u001b[38;5;241m=\u001b[39m p\u001b[38;5;241m.\u001b[39mreturncode \u001b[38;5;129;01mor\u001b[39;00m \u001b[38;5;241m-\u001b[39m\u001b[38;5;241m9\u001b[39m\n\u001b[0;32m--> 305\u001b[0m     \u001b[38;5;28;01mraise\u001b[39;00m CalledProcessError(rc, cell)\n",
      "\u001b[0;31mCalledProcessError\u001b[0m: Command 'b'export HYDRA_FULL_ERROR=1\\n#export FOLDER_PATH=/content/drive/MyDrive/CellTracking/nature_method_ctc # TODO: update this path\\nexport FOLDER_PATH=/home/tony/data/gnntest/CTC # TODO: update this path\\nexport DATA_NAME=PhC-C2DH-U373 # TODO: update this path\\n# cell tracking training run\\npython run.py datamodule.dataset_params.main_path=\"${FOLDER_PATH}/ct_features/${DATA_NAME}\" datamodule.dataset_params.exp_name=\"2D_SIM\" datamodule.dataset_params.drop_feat=[]\\n'' returned non-zero exit status 1."
     ]
    }
   ],
   "source": [
    "%%bash\n",
    "export HYDRA_FULL_ERROR=1\n",
    "#export FOLDER_PATH=/content/drive/MyDrive/CellTracking/nature_method_ctc # TODO: update this path\n",
    "export FOLDER_PATH=/home/tony/data/gnntest/CTC # TODO: update this path\n",
    "export DATA_NAME=Fluo-N2DL-HeLa # TODO: update this path\n",
    "# cell tracking training run\n",
    "python run.py datamodule.dataset_params.main_path=\"${FOLDER_PATH}/ct_features/${DATA_NAME}\" datamodule.dataset_params.exp_name=\"2D_SIM\" datamodule.dataset_params.drop_feat=[]"
   ]
  },
  {
   "cell_type": "markdown",
   "metadata": {
    "id": "24ah3IId9ZaR"
   },
   "source": [
    "# **Inference**\n",
    "Update the following variables:\n",
    "\n",
    "\n",
    "*   MODEL_PYTORCH_LIGHTNING - according to the output of the previius cell\n",
    "*   MODEL_METRIC_LEARNING\n",
    "*   FOLDER_PATH - path to folder that contains the dataset\n",
    "*   MODALITY\n",
    "\n",
    "\n",
    "\n"
   ]
  },
  {
   "cell_type": "code",
   "execution_count": null,
   "metadata": {
    "id": "BsR9ClZn9Yvp"
   },
   "outputs": [],
   "source": [
    "%%bash\n",
    "#source activate cell-tracking-challenge\n",
    "export SEQUENCE=01 # sequence number\n",
    "\n",
    "export FOLDER_PATH=/home/tony/data/gnntest/CTC # T\n",
    "export MODEL_METRIC_LEARNING=/home/tony/data/gnntest/software/parameters/Features_Models/Fluo-N2DL-HeLa/all_params.pth # TODO: update this path\n",
    "export MODEL_PYTORCH_LIGHTNING='/home/tony/code/cell-tracker-gnn/logs/runs/2025-07-10/13-17-22/checkpoints/epoch=30.ckpt' # TODO: update this path\n",
    "export DATA_NAME=Fluo-N2DL-HeLa # TODO: update this path\n",
    "\n",
    "export MODALITY=\"2D\"  # dataset modality\n",
    "export DATASET=\"${FOLDER_PATH}/${DATA_NAME}\"\n",
    "export CODE_TRA=src/inference/\n",
    "\n",
    "#export PYTHONPATH=/content/cell-tracker-gnn\n",
    "export PYTHONPATH=/home/tony/code/cell-tracker-gnn # TODO: update this path\n",
    "\n",
    "# our model needs CSVs, so let's create from image and segmentation.\n",
    "python ${CODE_TRA}/preprocess_seq2graph_clean.py -cs 20 -ii \"${DATASET}/${SEQUENCE}\" -iseg \"${DATASET}/${SEQUENCE}_GT/TRA\" -im \"${MODEL_METRIC_LEARNING}\" -oc \"${DATASET}/${SEQUENCE}_CSV\"\n",
    "\n",
    "# run the prediction\n",
    "python ${CODE_TRA}/inference_clean.py -mp \"${MODEL_PYTORCH_LIGHTNING}\" -ns \"${SEQUENCE}\" -oc \"${DATASET}\"\n",
    "\n",
    "# create label maps\n",
    "python ${CODE_TRA}/postprocess_clean.py -modality \"${MODALITY}\" -iseg \"${DATASET}/${SEQUENCE}_GT/TRA\" -oi \"${DATASET}/${SEQUENCE}_RES_inference\"\n"
   ]
  },
  {
   "cell_type": "code",
   "execution_count": null,
   "metadata": {},
   "outputs": [],
   "source": []
  }
 ],
 "metadata": {
  "accelerator": "GPU",
  "colab": {
   "gpuType": "T4",
   "provenance": []
  },
  "kernelspec": {
   "display_name": "Python 3 (ipykernel)",
   "language": "python",
   "name": "python3"
  },
  "language_info": {
   "codemirror_mode": {
    "name": "ipython",
    "version": 3
   },
   "file_extension": ".py",
   "mimetype": "text/x-python",
   "name": "python",
   "nbconvert_exporter": "python",
   "pygments_lexer": "ipython3",
   "version": "3.8.13"
  }
 },
 "nbformat": 4,
 "nbformat_minor": 4
}
