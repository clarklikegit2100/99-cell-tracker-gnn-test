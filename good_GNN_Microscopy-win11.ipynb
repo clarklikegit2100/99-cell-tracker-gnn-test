{
 "cells": [
  {
   "cell_type": "markdown",
   "metadata": {
    "id": "lU3MFoThkqze"
   },
   "source": [
    "# **This Notebook is provided Training Example (PhC-C2DH-U373 Dataset) Using Colab**\n",
    "The notebook arragemnet is as follow\n",
    "\n",
    "*   **Prequesities**\n",
    "  1.   Conect to github, Clone the repository\n",
    "  2.   Configurate working directory and google drive connetction\n",
    "  3.   Download and install Conda, create conda enviroment with all the required packages\n",
    "\n",
    "*   **Trainings**\n",
    "  1.   Run feature extraction for metric learning\n",
    "  2.   Run metric learning training\n",
    "  3.   Run compreensive feature extraction with metric learning\n",
    "  4.   Run Cell Tracking training\n",
    "\n",
    "*   **Inference**\n",
    "\n",
    "\n",
    "\n",
    "\n",
    "\n",
    "\n"
   ]
  },
  {
   "cell_type": "markdown",
   "metadata": {
    "id": "XjK6-8l6nTbv"
   },
   "source": [
    "# **Prequesities**"
   ]
  },
  {
   "cell_type": "markdown",
   "metadata": {
    "id": "nQUP3ZYLmVOa"
   },
   "source": [
    "# 1. Conect to github, Clone the repository\n"
   ]
  },
  {
   "cell_type": "code",
   "execution_count": 1,
   "metadata": {
    "colab": {
     "base_uri": "https://localhost:8080/"
    },
    "id": "BNq7hyZeReV9",
    "outputId": "f229bde6-e54b-466b-dcb9-984001cb13d2"
   },
   "outputs": [
    {
     "name": "stdout",
     "output_type": "stream",
     "text": [
      "Cloning into 'cell-tracker-gnn'...\n",
      "remote: Enumerating objects: 504, done.\u001b[K\n",
      "remote: Counting objects: 100% (227/227), done.\u001b[K\n",
      "remote: Compressing objects: 100% (71/71), done.\u001b[K\n",
      "remote: Total 504 (delta 179), reused 191 (delta 156), pack-reused 277 (from 1)\u001b[K\n",
      "Receiving objects: 100% (504/504), 38.01 MiB | 14.00 MiB/s, done.\n",
      "Resolving deltas: 100% (261/261), done.\n"
     ]
    }
   ],
   "source": [
    "import os\n",
    "#! git clone https://github.com/talbenha/cell-tracker-gnn\n",
    "\n",
    "#curr_workdir = f'./cell-tracker-gnn'\n",
    "#if os.path.exists(curr_workdir):\n",
    "#  os.chdir(curr_workdir)"
   ]
  },
  {
   "cell_type": "markdown",
   "metadata": {
    "id": "sg-StobkkpOw"
   },
   "source": [
    "# 2. Configurate working directory and google drive connetction\n"
   ]
  },
  {
   "cell_type": "code",
   "execution_count": 2,
   "metadata": {
    "colab": {
     "base_uri": "https://localhost:8080/"
    },
    "id": "SkznbTxwGFTf",
    "outputId": "5dc85a35-2115-4a12-ede8-2e0a7cd78903"
   },
   "outputs": [
    {
     "name": "stdout",
     "output_type": "stream",
     "text": [
      "Mounted at /content/drive\n"
     ]
    }
   ],
   "source": [
    "import os\n",
    "from google.colab import drive\n",
    "drive.mount('/content/drive', force_remount=True)\n",
    "file_path = '/content/drive/My Drive/CellTracking/nature_method_ctc/' # TODO: update this path\n",
    "if os.path.exists(file_path):\n",
    "  os.listdir(file_path)\n",
    "else:\n",
    "  print(\"Error Path doesn't exist\")"
   ]
  },
  {
   "cell_type": "markdown",
   "metadata": {
    "id": "uAE2W8WnnROI"
   },
   "source": [
    "# 3. Download and install Conda, create conda enviroment with all the required packages"
   ]
  },
  {
   "cell_type": "code",
   "execution_count": 3,
   "metadata": {
    "colab": {
     "base_uri": "https://localhost:8080/"
    },
    "collapsed": true,
    "id": "Pp9kcmdI47FA",
    "jupyter": {
     "outputs_hidden": true
    },
    "outputId": "0ebaf764-e114-4497-df61-46ac69c16418"
   },
   "outputs": [
    {
     "name": "stdout",
     "output_type": "stream",
     "text": [
      "\n",
      "installing miniconda\n",
      "--2025-06-23 14:07:13--  https://repo.anaconda.com/miniconda/Miniconda3-py37_4.8.2-Linux-x86_64.sh\n",
      "Resolving repo.anaconda.com (repo.anaconda.com)... 104.16.32.241, 104.16.191.158, 2606:4700::6810:bf9e, ...\n",
      "Connecting to repo.anaconda.com (repo.anaconda.com)|104.16.32.241|:443... connected.\n",
      "HTTP request sent, awaiting response... 200 OK\n",
      "Length: 85055499 (81M) [application/x-sh]\n",
      "Saving to: ‘Miniconda3-py37_4.8.2-Linux-x86_64.sh’\n",
      "\n",
      "Miniconda3-py37_4.8 100%[===================>]  81.12M   275MB/s    in 0.3s    \n",
      "\n",
      "2025-06-23 14:07:14 (275 MB/s) - ‘Miniconda3-py37_4.8.2-Linux-x86_64.sh’ saved [85055499/85055499]\n",
      "\n",
      "PREFIX=/usr/local\n",
      "Unpacking payload ...\n",
      "Collecting package metadata (current_repodata.json): - \b\b\\ \b\bdone\n",
      "Solving environment: / \b\b- \b\bdone\n",
      "\n",
      "## Package Plan ##\n",
      "\n",
      "  environment location: /usr/local\n",
      "\n",
      "  added / updated specs:\n",
      "    - _libgcc_mutex==0.1=main\n",
      "    - asn1crypto==1.3.0=py37_0\n",
      "    - ca-certificates==2020.1.1=0\n",
      "    - certifi==2019.11.28=py37_0\n",
      "    - cffi==1.14.0=py37h2e261b9_0\n",
      "    - chardet==3.0.4=py37_1003\n",
      "    - conda-package-handling==1.6.0=py37h7b6447c_0\n",
      "    - conda==4.8.2=py37_0\n",
      "    - cryptography==2.8=py37h1ba5d50_0\n",
      "    - idna==2.8=py37_0\n",
      "    - ld_impl_linux-64==2.33.1=h53a641e_7\n",
      "    - libedit==3.1.20181209=hc058e9b_0\n",
      "    - libffi==3.2.1=hd88cf55_4\n",
      "    - libgcc-ng==9.1.0=hdf63c60_0\n",
      "    - libstdcxx-ng==9.1.0=hdf63c60_0\n",
      "    - ncurses==6.2=he6710b0_0\n",
      "    - openssl==1.1.1d=h7b6447c_4\n",
      "    - pip==20.0.2=py37_1\n",
      "    - pycosat==0.6.3=py37h7b6447c_0\n",
      "    - pycparser==2.19=py37_0\n",
      "    - pyopenssl==19.1.0=py37_0\n",
      "    - pysocks==1.7.1=py37_0\n",
      "    - python==3.7.6=h0371630_2\n",
      "    - readline==7.0=h7b6447c_5\n",
      "    - requests==2.22.0=py37_1\n",
      "    - ruamel_yaml==0.15.87=py37h7b6447c_0\n",
      "    - setuptools==45.2.0=py37_0\n",
      "    - six==1.14.0=py37_0\n",
      "    - sqlite==3.31.1=h7b6447c_0\n",
      "    - tk==8.6.8=hbc83047_0\n",
      "    - tqdm==4.42.1=py_0\n",
      "    - urllib3==1.25.8=py37_0\n",
      "    - wheel==0.34.2=py37_0\n",
      "    - xz==5.2.4=h14c3975_4\n",
      "    - yaml==0.1.7=had09818_2\n",
      "    - zlib==1.2.11=h7b6447c_3\n",
      "\n",
      "\n",
      "The following NEW packages will be INSTALLED:\n",
      "\n",
      "  _libgcc_mutex      pkgs/main/linux-64::_libgcc_mutex-0.1-main\n",
      "  asn1crypto         pkgs/main/linux-64::asn1crypto-1.3.0-py37_0\n",
      "  ca-certificates    pkgs/main/linux-64::ca-certificates-2020.1.1-0\n",
      "  certifi            pkgs/main/linux-64::certifi-2019.11.28-py37_0\n",
      "  cffi               pkgs/main/linux-64::cffi-1.14.0-py37h2e261b9_0\n",
      "  chardet            pkgs/main/linux-64::chardet-3.0.4-py37_1003\n",
      "  conda              pkgs/main/linux-64::conda-4.8.2-py37_0\n",
      "  conda-package-han~ pkgs/main/linux-64::conda-package-handling-1.6.0-py37h7b6447c_0\n",
      "  cryptography       pkgs/main/linux-64::cryptography-2.8-py37h1ba5d50_0\n",
      "  idna               pkgs/main/linux-64::idna-2.8-py37_0\n",
      "  ld_impl_linux-64   pkgs/main/linux-64::ld_impl_linux-64-2.33.1-h53a641e_7\n",
      "  libedit            pkgs/main/linux-64::libedit-3.1.20181209-hc058e9b_0\n",
      "  libffi             pkgs/main/linux-64::libffi-3.2.1-hd88cf55_4\n",
      "  libgcc-ng          pkgs/main/linux-64::libgcc-ng-9.1.0-hdf63c60_0\n",
      "  libstdcxx-ng       pkgs/main/linux-64::libstdcxx-ng-9.1.0-hdf63c60_0\n",
      "  ncurses            pkgs/main/linux-64::ncurses-6.2-he6710b0_0\n",
      "  openssl            pkgs/main/linux-64::openssl-1.1.1d-h7b6447c_4\n",
      "  pip                pkgs/main/linux-64::pip-20.0.2-py37_1\n",
      "  pycosat            pkgs/main/linux-64::pycosat-0.6.3-py37h7b6447c_0\n",
      "  pycparser          pkgs/main/linux-64::pycparser-2.19-py37_0\n",
      "  pyopenssl          pkgs/main/linux-64::pyopenssl-19.1.0-py37_0\n",
      "  pysocks            pkgs/main/linux-64::pysocks-1.7.1-py37_0\n",
      "  python             pkgs/main/linux-64::python-3.7.6-h0371630_2\n",
      "  readline           pkgs/main/linux-64::readline-7.0-h7b6447c_5\n",
      "  requests           pkgs/main/linux-64::requests-2.22.0-py37_1\n",
      "  ruamel_yaml        pkgs/main/linux-64::ruamel_yaml-0.15.87-py37h7b6447c_0\n",
      "  setuptools         pkgs/main/linux-64::setuptools-45.2.0-py37_0\n",
      "  six                pkgs/main/linux-64::six-1.14.0-py37_0\n",
      "  sqlite             pkgs/main/linux-64::sqlite-3.31.1-h7b6447c_0\n",
      "  tk                 pkgs/main/linux-64::tk-8.6.8-hbc83047_0\n",
      "  tqdm               pkgs/main/noarch::tqdm-4.42.1-py_0\n",
      "  urllib3            pkgs/main/linux-64::urllib3-1.25.8-py37_0\n",
      "  wheel              pkgs/main/linux-64::wheel-0.34.2-py37_0\n",
      "  xz                 pkgs/main/linux-64::xz-5.2.4-h14c3975_4\n",
      "  yaml               pkgs/main/linux-64::yaml-0.1.7-had09818_2\n",
      "  zlib               pkgs/main/linux-64::zlib-1.2.11-h7b6447c_3\n",
      "\n",
      "\n",
      "Preparing transaction: | \b\b/ \b\b- \b\bdone\n",
      "Executing transaction: | \b\b/ \b\b- \b\b\\ \b\b| \b\b/ \b\b- \b\b\\ \b\b| \b\b/ \b\b- \b\b\\ \b\bdone\n",
      "installation finished.\n",
      "WARNING:\n",
      "    You currently have a PYTHONPATH environment variable set. This may cause\n",
      "    unexpected behavior when running the Python interpreter in Miniconda3.\n",
      "    For best results, please verify that your PYTHONPATH only points to\n",
      "    directories of packages that are compatible with the Python interpreter\n",
      "    in Miniconda3: /usr/local\n",
      "no change     /usr/local/condabin/conda\n",
      "no change     /usr/local/bin/conda\n",
      "no change     /usr/local/bin/conda-env\n",
      "no change     /usr/local/bin/activate\n",
      "no change     /usr/local/bin/deactivate\n",
      "no change     /usr/local/etc/profile.d/conda.sh\n",
      "no change     /usr/local/etc/fish/conf.d/conda.fish\n",
      "no change     /usr/local/shell/condabin/Conda.psm1\n",
      "no change     /usr/local/shell/condabin/conda-hook.ps1\n",
      "no change     /usr/local/lib/python3.7/site-packages/xontrib/conda.xsh\n",
      "no change     /usr/local/etc/profile.d/conda.csh\n",
      "modified      /root/.bashrc\n",
      "\n",
      "==> For changes to take effect, close and re-open your current shell. <==\n",
      "\n",
      "Collecting package metadata (current_repodata.json): ...working... done\n",
      "Solving environment: ...working... failed with initial frozen solve. Retrying with flexible solve.\n",
      "Collecting package metadata (repodata.json): ...working... done\n",
      "Solving environment: ...working... failed with initial frozen solve. Retrying with flexible solve.\n",
      "\n",
      "PackagesNotFoundError: The following packages are not available from current channels:\n",
      "\n",
      "  - _license\n",
      "\n",
      "Current channels:\n",
      "\n",
      "  - https://repo.anaconda.com/pkgs/main/linux-64\n",
      "  - https://repo.anaconda.com/pkgs/main/noarch\n",
      "  - https://repo.anaconda.com/pkgs/r/linux-64\n",
      "  - https://repo.anaconda.com/pkgs/r/noarch\n",
      "\n",
      "To search for alternate channels that may provide the conda package you're\n",
      "looking for, navigate to\n",
      "\n",
      "    https://anaconda.org\n",
      "\n",
      "and use the search bar at the top of the page.\n",
      "\n",
      "\n",
      "not found cell-tracking-challenge env 0\n",
      "\n",
      "Downloading and Extracting Packages\n",
      "_libgcc_mutex-0.1    | : 100% 1.0/1 [00:00<00:00,  7.58it/s]\n",
      "_tflow_select-2.1.0  | : 100% 1.0/1 [00:00<00:00,  8.71it/s]\n",
      "ca-certificates-2022 | : 100% 1.0/1 [00:00<00:00, 18.57it/s]\n",
      "ld_impl_linux-64-2.3 | : 100% 1.0/1 [00:00<00:00,  5.98it/s]\n",
      "libgfortran4-7.5.0   | : 100% 1.0/1 [00:00<00:00,  3.74it/s]\n",
      "libstdcxx-ng-11.2.0  | : 100% 1.0/1 [00:02<00:00,  2.18s/it]               \n",
      "llvm-openmp-12.0.1   | : 100% 1.0/1 [00:00<00:00,  2.27it/s]\n",
      "mysql-common-8.0.25  | : 100% 1.0/1 [00:00<00:00,  2.58it/s]\n",
      "_openmp_mutex-4.5    | : 100% 1.0/1 [00:00<00:00, 28.36it/s]\n",
      "libgfortran-ng-7.5.0 | : 100% 1.0/1 [00:00<00:00, 28.79it/s]\n",
      "libgcc-ng-12.1.0     | : 100% 1.0/1 [00:00<00:00,  6.19it/s]\n",
      "mkl-2020.4           | : 100% 1.0/1 [00:38<00:00, 38.29s/it]               \n",
      "abseil-cpp-20210324. | : 100% 1.0/1 [00:00<00:00, 10.12s/it]               \n",
      "brotli-1.0.9         | : 100% 1.0/1 [00:00<00:00, 11.11it/s]\n",
      "bzip2-1.0.8          | : 100% 1.0/1 [00:00<00:00, 13.86it/s]\n",
      "c-ares-1.18.1        | : 100% 1.0/1 [00:00<00:00, 16.20it/s]\n",
      "charls-2.2.0         | : 100% 1.0/1 [00:00<00:00, 16.63it/s]\n",
      "cudatoolkit-11.1.1   | : 100% 1.0/1 [02:49<00:00, 169.09s/it]              \n",
      "expat-2.4.4          | : 100% 1.0/1 [00:00<00:00,  8.20it/s]\n",
      "giflib-5.2.1         | : 100% 1.0/1 [00:00<00:00, 13.32it/s]\n",
      "gmp-6.2.1            | : 100% 1.0/1 [00:00<00:00,  5.87it/s]\n",
      "graphite2-1.3.14     | : 100% 1.0/1 [00:00<00:00, 23.57it/s]\n",
      "icu-68.1             | : 100% 1.0/1 [00:03<00:00,  4.62s/it]               \n",
      "jpeg-9e              | : 100% 1.0/1 [00:00<00:00, 10.90it/s]\n",
      "jxrlib-1.1           | : 100% 1.0/1 [00:00<00:00, 14.49it/s]\n",
      "lame-3.100           | : 100% 1.0/1 [00:00<00:00,  8.60it/s]\n",
      "lerc-3.0             | : 100% 1.0/1 [00:00<00:00, 13.85it/s]\n",
      "libaec-1.0.4         | : 100% 1.0/1 [00:00<00:00,  3.10it/s]              \n",
      "libblas-3.9.0        | : 100% 1.0/1 [00:00<00:00, 22.72it/s]\n",
      "libdeflate-1.8       | : 100% 1.0/1 [00:00<00:00,  3.13it/s]                \n",
      "libev-4.33           | : 100% 1.0/1 [00:00<00:00, 15.57it/s]\n",
      "libffi-3.3           | : 100% 1.0/1 [00:00<00:00,  7.17it/s]\n",
      "libiconv-1.16        | : 100% 1.0/1 [00:00<00:00,  5.06it/s]\n",
      "libtasn1-4.16.0      | : 100% 1.0/1 [00:00<00:00, 18.44it/s]\n",
      "libunistring-0.9.10  | : 100% 1.0/1 [00:00<00:00,  6.36it/s]\n",
      "libuuid-1.0.3        | : 100% 1.0/1 [00:00<00:00, 19.04it/s]\n",
      "libwebp-base-1.2.2   | : 100% 1.0/1 [00:00<00:00,  4.79it/s]\n",
      "libxcb-1.14          | : 100% 1.0/1 [00:00<00:00, 12.72s/it]                \n",
      "libzopfli-1.0.3      | : 100% 1.0/1 [00:00<00:00, 13.06it/s]\n",
      "lz4-c-1.9.3          | : 100% 1.0/1 [00:00<00:00, 11.29it/s]\n",
      "ncurses-6.3          | : 100% 1.0/1 [00:00<00:00,  2.58it/s]\n",
      "ninja-base-1.10.2    | : 100% 1.0/1 [00:00<00:00, 19.52it/s]\n",
      "nspr-4.33            | : 100% 1.0/1 [00:00<00:00,  9.85it/s]\n",
      "openh264-2.1.1       | : 100% 1.0/1 [00:00<00:00,  3.08it/s]\n",
      "openssl-1.1.1n       | : 100% 1.0/1 [00:00<00:00,  1.31it/s]\n",
      "pcre-8.45            | : 100% 1.0/1 [00:00<00:00, 12.88it/s]\n",
      "pixman-0.40.0        | : 100% 1.0/1 [00:00<00:00,  6.63it/s]\n",
      "re2-2021.08.01       | : 100% 1.0/1 [00:00<00:00, 13.41it/s]\n",
      "sleef-3.5.1          | : 100% 1.0/1 [00:00<00:00,  3.04it/s]\n",
      "snappy-1.1.9         | : 100% 1.0/1 [00:00<00:00,  5.55it/s]\n",
      "x264-1!152.20180806  | : 100% 1.0/1 [00:01<00:00,  7.31s/it]               \n",
      "xz-5.2.5             | : 100% 1.0/1 [00:00<00:00,  6.94it/s]\n",
      "yaml-0.2.5           | : 100% 1.0/1 [00:00<00:00, 22.54it/s]\n",
      "zfp-0.5.5            | : 100% 1.0/1 [00:00<00:00,  6.48it/s]                \n",
      "zlib-1.2.12          | : 100% 1.0/1 [00:00<00:00,  7.79it/s]\n",
      "blosc-1.21.1         | : 100% 1.0/1 [00:00<00:00,  5.81it/s]\n",
      "brunsli-0.1          | : 100% 1.0/1 [00:00<00:00, 14.00it/s]\n",
      "glib-2.68.2          | : 100% 1.0/1 [00:00<00:00,  1.43it/s]\n",
      "hdf5-1.10.6          | : 100% 1.0/1 [00:00<00:00,  1.27it/s]\n",
      "jasper-1.900.1       | : 100% 1.0/1 [00:00<00:00, 11.15it/s]\n",
      "libcblas-3.9.0       | : 100% 1.0/1 [00:00<00:00, 24.23it/s]\n",
      "libedit-3.1.20210910 | : 100% 1.0/1 [00:00<00:00, 11.93it/s]\n",
      "libevent-2.1.10      | : 100% 1.0/1 [00:00<00:00,  3.72it/s]\n",
      "libidn2-2.3.2        | : 100% 1.0/1 [00:00<00:00, 21.31it/s]\n",
      "liblapack-3.9.0      | : 100% 1.0/1 [00:00<00:00, 19.81it/s]\n",
      "libllvm11-11.1.0     | : 100% 1.0/1 [00:04<00:00,  2.60s/it]               \n",
      "libnghttp2-1.46.0    | : 100% 1.0/1 [00:00<00:00, 16.39s/it]                 \n",
      "libpng-1.6.37        | : 100% 1.0/1 [00:00<00:00, 11.19it/s]\n",
      "libprotobuf-3.15.8   | : 100% 1.0/1 [00:00<00:00,  1.75it/s]\n",
      "libssh2-1.10.0       | : 100% 1.0/1 [00:00<00:00,  8.55it/s]\n",
      "libxml2-2.9.12       | : 100% 1.0/1 [00:00<00:00,  5.33it/s]\n",
      "nettle-3.7.3         | : 100% 1.0/1 [00:00<00:00,  4.52it/s]\n",
      "readline-8.1.2       | : 100% 1.0/1 [00:00<00:00,  4.50it/s]\n",
      "tk-8.6.11            | : 100% 1.0/1 [00:01<00:00,  4.62s/it]               \n",
      "zstd-1.4.9           | : 100% 1.0/1 [00:00<00:00,  6.90it/s]\n",
      "dbus-1.13.18         | : 100% 1.0/1 [00:00<00:00,  7.72it/s]\n",
      "freetype-2.11.0      | : 100% 1.0/1 [00:00<00:00,  4.82it/s]\n",
      "gettext-0.21.0       | : 100% 1.0/1 [00:00<00:00,  1.54it/s]\n",
      "gnutls-3.6.15        | : 100% 1.0/1 [00:00<00:00,  4.72it/s]\n",
      "grpc-cpp-1.37.1      | : 100% 1.0/1 [00:00<00:00,  1.67it/s]\n",
      "krb5-1.19.2          | : 100% 1.0/1 [00:00<00:00,  3.99it/s]\n",
      "libclang-11.1.0      | : 100% 1.0/1 [00:03<00:00,  2.33s/it]               \n",
      "libfaiss-1.7.2       | : 100% 1.0/1 [00:13<00:00, 13.98s/it]               \n",
      "libfaiss-avx2-1.7.2  | : 100% 1.0/1 [00:16<00:00, 35.14s/it]               \n",
      "liblapacke-3.9.0     | : 100% 1.0/1 [00:00<00:00, 18.85it/s]\n",
      "libtiff-4.2.0        | : 100% 1.0/1 [00:00<00:00,  7.62it/s]\n",
      "libxkbcommon-1.0.3   | : 100% 1.0/1 [00:00<00:00,  6.98it/s]\n",
      "mysql-libs-8.0.25    | : 100% 1.0/1 [00:00<00:00,  2.88it/s]\n",
      "sqlite-3.38.3        | : 100% 1.0/1 [00:00<00:00,  5.47it/s]\n",
      "ffmpeg-4.3.1         | : 100% 1.0/1 [00:12<00:00, 87.99s/it]               \n",
      "fontconfig-2.13.1    | : 100% 1.0/1 [00:00<00:00,  7.46it/s]\n",
      "lcms2-2.12           | : 100% 1.0/1 [00:00<00:00,  8.48it/s]\n",
      "libcurl-7.82.0       | : 100% 1.0/1 [00:00<00:00,  9.38it/s]\n",
      "libglib-2.68.2       | : 100% 1.0/1 [00:00<00:00,  1.43it/s]\n",
      "libpq-12.9           | : 100% 1.0/1 [00:00<00:00,  1.73it/s]               \n",
      "libwebp-1.2.2        | : 100% 1.0/1 [00:00<00:00, 12.60it/s]\n",
      "nss-3.74             | : 100% 1.0/1 [00:00<00:00,  2.08it/s]\n",
      "openjpeg-2.4.0       | : 100% 1.0/1 [00:00<00:00,  6.86it/s]\n",
      "python-3.8.13        | : 100% 1.0/1 [00:00<00:00,  1.70it/s]                \n",
      "appdirs-1.4.4        | : 100% 1.0/1 [00:00<00:00, 27.00it/s]\n",
      "attrs-21.4.0         | : 100% 1.0/1 [00:00<00:00, 22.12it/s]\n",
      "blinker-1.4          | : 100% 1.0/1 [00:00<00:00, 18.89it/s]\n",
      "cachetools-4.2.2     | : 100% 1.0/1 [00:00<00:00, 24.34it/s]\n",
      "cairo-1.16.0         | : 100% 1.0/1 [00:01<00:00, 12.09s/it]               \n",
      "certifi-2021.10.8    | : 100% 1.0/1 [00:00<00:00, 15.70it/s]\n",
      "cfgv-3.3.1           | : 100% 1.0/1 [00:00<00:00, 29.44it/s]\n",
      "cfitsio-3.470        | : 100% 1.0/1 [00:00<00:00,  3.86it/s]\n",
      "charset-normalizer-2 | : 100% 1.0/1 [00:00<00:00, 23.17it/s]\n",
      "click-8.0.4          | : 100% 1.0/1 [00:00<00:00,  2.28it/s]                \n",
      "cloudpickle-2.0.0    | : 100% 1.0/1 [00:00<00:00, 27.56it/s]\n",
      "colorama-0.4.4       | : 100% 1.0/1 [00:00<00:00, 28.97it/s]\n",
      "cycler-0.11.0        | : 100% 1.0/1 [00:00<00:00, 27.20it/s]\n",
      "dataclasses-0.8      | : 100% 1.0/1 [00:00<00:00, 33.61it/s]\n",
      "distlib-0.3.2        | : 100% 1.0/1 [00:00<00:00,  1.94it/s]                \n",
      "filelock-3.6.0       | : 100% 1.0/1 [00:00<00:00,  2.11it/s]\n",
      "frozenlist-1.2.0     | : 100% 1.0/1 [00:00<00:00,  2.84it/s]                \n",
      "fsspec-2022.2.0      | : 100% 1.0/1 [00:00<00:00, 20.49it/s]\n",
      "future-0.18.2        | : 100% 1.0/1 [00:00<00:00,  6.91s/it]               \n",
      "gast-0.3.3           | : 100% 1.0/1 [00:00<00:00, 29.68it/s]\n",
      "gstreamer-1.18.4     | : 100% 1.0/1 [00:00<00:00,  2.40it/s]\n",
      "idna-3.3             | : 100% 1.0/1 [00:00<00:00, 21.37it/s]\n",
      "iniconfig-1.1.1      | : 100% 1.0/1 [00:00<00:00, 26.14it/s]\n",
      "joblib-1.1.0         | : 100% 1.0/1 [00:00<00:00, 11.79it/s]\n",
      "kiwisolver-1.3.2     | : 100% 1.0/1 [00:00<00:00,  3.35it/s]                \n",
      "locket-0.2.1         | : 100% 1.0/1 [00:00<00:00,  2.97it/s]\n",
      "markupsafe-2.0.1     | : 100% 1.0/1 [00:00<00:00,  3.26it/s]               \n",
      "multidict-5.2.0      | : 100% 1.0/1 [00:00<00:00,  2.34it/s]                \n",
      "munkres-1.1.4        | : 100% 1.0/1 [00:00<00:00, 29.48it/s]\n",
      "networkx-2.7.1       | : 100% 1.0/1 [00:00<00:00,  3.03it/s]\n",
      "ninja-1.10.2         | : 100% 1.0/1 [00:00<00:00, 29.99it/s]\n",
      "parso-0.8.3          | : 100% 1.0/1 [00:00<00:00, 15.36it/s]\n",
      "pillow-9.0.1         | : 100% 1.0/1 [00:00<00:00, 13.26s/it]                 \n",
      "pluggy-1.0.0         | : 100% 1.0/1 [00:00<00:00, 25.34it/s]\n",
      "py-1.11.0            | : 100% 1.0/1 [00:00<00:00, 16.77it/s]\n",
      "pyasn1-0.4.8         | : 100% 1.0/1 [00:00<00:00, 21.53it/s]\n",
      "pycparser-2.21       | : 100% 1.0/1 [00:00<00:00, 17.45it/s]\n",
      "pydeprecate-0.3.1    | : 100% 1.0/1 [00:00<00:00, 23.06it/s]\n",
      "pygments-2.11.2      | : 100% 1.0/1 [00:00<00:00,  5.29it/s]\n",
      "pyparsing-3.0.4      | : 100% 1.0/1 [00:00<00:00, 19.88it/s]\n",
      "pysocks-1.7.1        | : 100% 1.0/1 [00:00<00:00, 25.58it/s]\n",
      "python-flatbuffers-1 | : 100% 1.0/1 [00:00<00:00, 27.01it/s]\n",
      "python_abi-3.8       | : 100% 1.0/1 [00:00<00:00, 19.23it/s]\n",
      "pytz-2021.3          | : 100% 1.0/1 [00:00<00:00,  9.07it/s]\n",
      "pyyaml-6.0           | : 100% 1.0/1 [00:00<00:00, 15.91it/s]\n",
      "six-1.16.0           | : 100% 1.0/1 [00:00<00:00, 25.35it/s]\n",
      "termcolor-1.1.0      | : 100% 1.0/1 [00:00<00:00,  3.38it/s]\n",
      "threadpoolctl-2.2.0  | : 100% 1.0/1 [00:00<00:00, 25.56it/s]\n",
      "toml-0.10.2          | : 100% 1.0/1 [00:00<00:00, 23.95it/s]\n",
      "tomli-1.2.2          | : 100% 1.0/1 [00:00<00:00,  2.65it/s]               \n",
      "toolz-0.11.2         | : 100% 1.0/1 [00:00<00:00, 15.60it/s]\n",
      "tornado-6.1          | : 100% 1.0/1 [00:00<00:00,  4.57it/s]\n",
      "tqdm-4.64.0          | : 100% 1.0/1 [00:00<00:00,  2.37s/it]                \n",
      "typing_extensions-4. | : 100% 1.0/1 [00:00<00:00, 17.19it/s]\n",
      "urwid-2.1.2          | : 100% 1.0/1 [00:00<00:00,  6.54it/s]\n",
      "wheel-0.37.1         | : 100% 1.0/1 [00:00<00:00,  7.02it/s]\n",
      "wrapt-1.13.3         | : 100% 1.0/1 [00:00<00:00,  2.55it/s]               \n",
      "zipp-3.7.0           | : 100% 1.0/1 [00:00<00:00, 26.09it/s]\n",
      "absl-py-0.15.0       | : 100% 1.0/1 [00:00<00:00, 15.89it/s]\n",
      "aiosignal-1.2.0      | : 100% 1.0/1 [00:00<00:00, 25.45it/s]\n",
      "astunparse-1.6.3     | : 100% 1.0/1 [00:00<00:00, 23.22it/s]\n",
      "cffi-1.15.0          | : 100% 1.0/1 [00:00<00:00, 10.83it/s]\n",
      "commonmark-0.9.1     | : 100% 1.0/1 [00:00<00:00, 16.17it/s]\n",
      "cytoolz-0.11.0       | : 100% 1.0/1 [00:00<00:00,  7.72it/s]\n",
      "fonttools-4.25.0     | : 100% 1.0/1 [00:00<00:00,  4.58it/s]\n",
      "google-pasta-0.2.0   | : 100% 1.0/1 [00:00<00:00, 17.67it/s]\n",
      "gst-plugins-base-1.1 | : 100% 1.0/1 [00:01<00:00,  1.03s/it]\n",
      "harfbuzz-2.8.1       | : 100% 1.0/1 [00:00<00:00,  2.97it/s]\n",
      "importlib-metadata-4 | : 100% 1.0/1 [00:00<00:00,  2.72it/s]                \n",
      "jedi-0.18.1          | : 100% 1.0/1 [00:00<00:00,  2.50it/s]\n",
      "jinja2-3.0.3         | : 100% 1.0/1 [00:00<00:00, 19.72it/s]\n",
      "numpy-1.22.3         | : 100% 1.0/1 [00:01<00:00,  1.27it/s]                \n",
      "packaging-21.3       | : 100% 1.0/1 [00:00<00:00, 22.15it/s]\n",
      "partd-1.2.0          | : 100% 1.0/1 [00:00<00:00, 25.35it/s]\n",
      "pyasn1-modules-0.2.8 | : 100% 1.0/1 [00:00<00:00, 17.27it/s]\n",
      "python-dateutil-2.8. | : 100% 1.0/1 [00:00<00:00, 15.40it/s]\n",
      "python-dotenv-0.20.0 | : 100% 1.0/1 [00:00<00:00, 21.65it/s]\n",
      "rsa-4.7.2            | : 100% 1.0/1 [00:00<00:00, 27.75it/s]\n",
      "setuptools-61.2.0    | : 100% 1.0/1 [00:01<00:00,  4.09s/it]               \n",
      "typing-extensions-4. | : 100% 1.0/1 [00:00<00:00, 26.72it/s]\n",
      "urwid_readline-0.13  | : 100% 1.0/1 [00:00<00:00,  2.12it/s]\n",
      "virtualenv-20.4.6    | : 100% 1.0/1 [00:01<00:00,  1.41s/it]               \n",
      "werkzeug-2.0.3       | : 100% 1.0/1 [00:00<00:00, 11.65it/s]\n",
      "yacs-0.1.6           | : 100% 1.0/1 [00:00<00:00,  6.67it/s]\n",
      "yarl-1.6.3           | : 100% 1.0/1 [00:00<00:00,  1.48it/s]                \n",
      "async-timeout-4.0.1  | : 100% 1.0/1 [00:00<00:00, 27.53it/s]\n",
      "bottleneck-1.3.4     | : 100% 1.0/1 [00:00<00:00, 18.08it/s]\n",
      "brotlipy-0.7.0       | : 100% 1.0/1 [00:00<00:00, 12.09it/s]\n",
      "cryptography-36.0.0  | : 100% 1.0/1 [00:00<00:00,  1.23it/s]               \n",
      "dask-core-2022.2.1   | : 100% 1.0/1 [00:00<00:00, 18.35s/it]                 \n",
      "faiss-1.7.2          | : 100% 1.0/1 [00:01<00:00, 24.04s/it]              \n",
      "grpcio-1.37.1        | : 100% 1.0/1 [00:00<00:00,  2.00it/s]\n",
      "h5py-2.10.0          | : 100% 1.0/1 [00:00<00:00,  3.60it/s]\n",
      "imagecodecs-2021.8.2 | : 100% 1.0/1 [00:02<00:00, 142.41s/it]              \n",
      "imageio-2.9.0        | : 100% 1.0/1 [00:00<00:00,  2.58it/s]\n",
      "markdown-3.3.4       | : 100% 1.0/1 [00:00<00:00,  2.02it/s]                \n",
      "matplotlib-base-3.5. | : 100% 1.0/1 [00:01<00:00,  1.21s/it]\n",
      "nodeenv-1.6.0        | : 100% 1.0/1 [00:00<00:00,  3.29it/s]               \n",
      "numexpr-2.7.3        | : 100% 1.0/1 [00:00<00:00, 14.57it/s]\n",
      "opt_einsum-3.3.0     | : 100% 1.0/1 [00:00<00:00, 22.22it/s]\n",
      "pip-21.2.4           | : 100% 1.0/1 [00:01<00:00,  3.85s/it]               \n",
      "protobuf-3.15.8      | : 100% 1.0/1 [00:00<00:00,  9.04it/s]\n",
      "pudb-2022.1          | : 100% 1.0/1 [00:00<00:00,  2.96it/s]               \n",
      "pytest-7.1.1         | : 100% 1.0/1 [00:00<00:00, 10.50s/it]                \n",
      "python-louvain-0.15  | : 100% 1.0/1 [00:00<00:00,  2.32it/s]\n",
      "pytorch-1.8.0        | : 100% 1.0/1 [03:24<00:00, 204.31s/it]              \n",
      "pywavelets-1.3.0     | : 100% 1.0/1 [00:01<00:00, 14.73s/it]               \n",
      "qt-5.12.9            | : 100% 1.0/1 [00:16<00:00, 16.80s/it]               \n",
      "rich-10.16.2         | : 100% 1.0/1 [00:00<00:00,  1.53it/s]                \n",
      "scipy-1.5.3          | : 100% 1.0/1 [00:02<00:00,  2.25s/it]               \n",
      "tensorboard-plugin-w | : 100% 1.0/1 [00:00<00:00,  4.67s/it]                 \n",
      "torchvision-0.9.0    | : 100% 1.0/1 [00:00<00:00,  1.30it/s]\n",
      "ukkonen-1.0.1        | : 100% 1.0/1 [00:00<00:00, 11.41it/s]\n",
      "aiohttp-3.8.1        | : 100% 1.0/1 [00:01<00:00,  3.42s/it]             \n",
      "faiss-gpu-1.7.2      | : 100% 1.0/1 [00:00<00:00,  3.41it/s]\n",
      "identify-2.5.1       | : 100% 1.0/1 [00:00<00:00,  2.53it/s]                \n",
      "keras-preprocessing- | : 100% 1.0/1 [00:00<00:00, 11.55it/s]\n",
      "libopencv-4.5.2      | : 100% 1.0/1 [00:05<00:00,  5.72s/it]               \n",
      "pandas-1.4.2         | : 100% 1.0/1 [00:02<00:00,  1.61s/it]              \n",
      "pyjwt-1.7.1          | : 100% 1.0/1 [00:00<00:00,  1.74it/s]                \n",
      "pyopenssl-22.0.0     | : 100% 1.0/1 [00:00<00:00, 25.20it/s]\n",
      "pyqt-5.12.3          | : 100% 1.0/1 [00:01<00:00, 61.58s/it]                  \n",
      "pytorch-cluster-1.5. | : 100% 1.0/1 [00:03<00:00,  3.28s/it]\n",
      "pytorch-scatter-2.0. | : 100% 1.0/1 [00:05<00:00,  5.55s/it]\n",
      "pytorch-spline-conv- | : 100% 1.0/1 [00:03<00:00,  3.22s/it]\n",
      "scikit-learn-1.0.2   | : 100% 1.0/1 [00:01<00:00,  1.04it/s]               \n",
      "tifffile-2021.7.2    | : 100% 1.0/1 [00:00<00:00,  8.69it/s]\n",
      "torchmetrics-0.6.0   | : 100% 1.0/1 [00:00<00:00, 13.53it/s]\n",
      "matplotlib-3.5.1     | : 100% 1.0/1 [00:00<00:00,  2.42it/s]               \n",
      "oauthlib-3.1.0       | : 100% 1.0/1 [00:00<00:00, 11.49it/s]\n",
      "pre-commit-2.19.0    | : 100% 1.0/1 [00:00<00:00,  1.23it/s]               \n",
      "py-opencv-4.5.2      | : 100% 1.0/1 [00:00<00:00,  5.17s/it]               \n",
      "pytorch-metric-learn | : 100% 1.0/1 [00:01<00:00,  1.83s/it]\n",
      "pytorch-sparse-0.6.1 | : 100% 1.0/1 [00:10<00:00, 10.44s/it]\n",
      "scikit-image-0.19.2  | : 100% 1.0/1 [00:01<00:00,  2.04s/it]               \n",
      "urllib3-1.26.9       | : 100% 1.0/1 [00:00<00:00,  2.07it/s]                \n",
      "opencv-4.5.2         | : 100% 1.0/1 [00:00<00:00,  1.89it/s]              \n",
      "pre_commit-2.19.0    | : 100% 1.0/1 [00:00<00:00,  2.21it/s]\n",
      "requests-2.27.1      | : 100% 1.0/1 [00:00<00:00, 21.74it/s]\n",
      "seaborn-0.11.2       | : 100% 1.0/1 [00:00<00:00, 12.29it/s]\n",
      "google-auth-2.6.0    | : 100% 1.0/1 [00:00<00:00, 17.99it/s]\n",
      "googledrivedownloade | : 100% 1.0/1 [00:00<00:00, 26.32it/s]\n",
      "requests-oauthlib-1. | : 100% 1.0/1 [00:00<00:00, 27.81it/s]\n",
      "google-auth-oauthlib | : 100% 1.0/1 [00:00<00:00, 25.41it/s]\n",
      "pyg-2.0.1            | : 100% 1.0/1 [00:03<00:00,  3.04s/it]\n",
      "tensorboard-2.4.0    | : 100% 1.0/1 [00:02<00:00,  2.36s/it]               \n",
      "pytorch-lightning-1. | : 100% 1.0/1 [00:00<00:00,  8.53it/s]\n",
      "tensorflow-gpu-2.4.1 | : 100% 1.0/1 [00:00<00:00, 26.63it/s]\n",
      "tensorflow-estimator | : 100% 1.0/1 [00:00<00:00,  6.72s/it]                \n",
      "tensorflow-base-2.4. | : 100% 1.0/1 [00:19<00:00, 19.23s/it]               \n",
      "tensorflow-2.4.1     | : 100% 1.0/1 [00:00<00:00, 10.66it/s]\n",
      "Preparing transaction: - \b\b\\ \b\b| \b\b/ \b\b- \b\b\\ \b\b| \b\b/ \b\b- \b\b\\ \b\b| \b\b/ \b\b- \b\b\\ \b\b| \b\b/ \b\b- \b\b\\ \b\b| \b\b/ \b\b- \b\b\\ \b\b| \b\b/ \b\b- \b\bdone\n",
      "Verifying transaction: | \b\b/ \b\b- \b\b\\ \b\b| \b\b/ \b\b- \b\b\\ \b\b| \b\b/ \b\b- \b\b\\ \b\b| \b\b/ \b\b- \b\b\\ \b\b| \b\b/ \b\b- \b\b\\ \b\b| \b\b/ \b\b- \b\b\\ \b\b| \b\b/ \b\b- \b\b\\ \b\b| \b\b/ \b\b- \b\b\\ \b\b| \b\b/ \b\b- \b\b\\ \b\b| \b\b/ \b\b- \b\b\\ \b\b| \b\b/ \b\b- \b\b\\ \b\b| \b\b/ \b\b- \b\b\\ \b\b| \b\b/ \b\b- \b\b\\ \b\b| \b\b/ \b\b- \b\b\\ \b\b| \b\b/ \b\b- \b\b\\ \b\b| \b\b/ \b\b- \b\b\\ \b\b| \b\b/ \b\b- \b\b\\ \b\b| \b\b/ \b\b- \b\b\\ \b\b| \b\b/ \b\b- \b\b\\ \b\b| \b\b/ \b\b- \b\b\\ \b\b| \b\b/ \b\b- \b\b\\ \b\b| \b\b/ \b\b- \b\b\\ \b\b| \b\b/ \b\b- \b\b\\ \b\b| \b\b/ \b\b- \b\b\\ \b\b| \b\b/ \b\b- \b\b\\ \b\b| \b\b/ \b\b- \b\b\\ \b\b| \b\b/ \b\b- \b\b\\ \b\b| \b\b/ \b\b- \b\b\\ \b\b| \b\b/ \b\b- \b\b\\ \b\b| \b\b/ \b\b- \b\b\\ \b\b| \b\b/ \b\b- \b\b\\ \b\b| \b\b/ \b\b- \b\b\\ \b\b| \b\b/ \b\b- \b\b\\ \b\b| \b\b/ \b\b- \b\b\\ \b\b| \b\b/ \b\b- \b\b\\ \b\b| \b\b/ \b\b- \b\b\\ \b\b| \b\b/ \b\b- \b\b\\ \b\bdone\n",
      "Executing transaction: / \b\b- \b\b\\ \b\b| \b\b/ \b\b- \b\b\\ \b\b| \b\b/ \b\b- \b\b\\ \b\b| \b\b/ \b\b- \b\b\\ \b\b| \b\b/ \b\b- \b\b\\ \b\b| \b\b/ \b\b- \b\b\\ \b\b| \b\b/ \b\b- \b\b\\ b'By downloading and using the CUDA Toolkit conda packages, you accept the terms and conditions of the CUDA End User License Agreement (EULA): https://docs.nvidia.com/cuda/eula/index.html\\n'\n",
      "\b\b| \b\b/ b'\\n\\n    Installed package of scikit-learn can be accelerated using scikit-learn-intelex.\\n    More details are available here: https://intel.github.io/scikit-learn-intelex\\n\\n    For example:\\n\\n        $ conda install scikit-learn-intelex\\n        $ python -m sklearnex my_application.py\\n\\n    \\n'\n",
      "\b\b- \b\b\\ \b\b| \b\b/ \b\b- \b\b\\ \b\b| \b\b/ \b\b- \b\b\\ \b\b| \b\b/ \b\b- \b\b\\ \b\b| \b\b/ \b\b- \b\b\\ \b\b| \b\b/ \b\b- \b\b\\ \b\b| \b\b/ \b\b- \b\b\\ \b\b| \b\b/ \b\b- \b\b\\ \b\b| \b\b/ \b\b- \b\b\\ \b\b| \b\b/ \b\b- \b\b\\ \b\b| \b\b/ \b\b- \b\b\\ \b\b| \b\b/ \b\b- \b\b\\ \b\b| \b\b/ \b\b- \b\b\\ \b\b| \b\b/ \b\b- \b\b\\ \b\b| \b\b/ \b\b- \b\b\\ \b\b| \b\b/ \b\b- \b\b\\ \b\b| \b\b/ \b\b- \b\b\\ \b\b| \b\b/ \b\b- \b\b\\ \b\b| \b\b/ \b\b- \b\b\\ \b\b| \b\b/ \b\b- \b\b\\ \b\b| \b\b/ \b\b- \b\b\\ \b\b| \b\b/ \b\b- \b\b\\ \b\b| \b\b/ \b\b- \b\b\\ \b\b| \b\b/ \b\b- \b\b\\ \b\b| \b\b/ \b\b- \b\b\\ \b\b| \b\b/ \b\b- \b\b\\ \b\b| \b\b/ \b\b- \b\b\\ \b\bdone\n",
      "cell-tracking-challenge was created\n"
     ]
    }
   ],
   "source": [
    "################################################################################\n",
    "# INSTALL CONDA ON GOOGLE COLAB\n",
    "################################################################################\n",
    "\n",
    "# try to run the bare minimum to get a new conda env working\n",
    "env_name = '99-cell-tra-win11-310'\n",
    "conda_path = ''\n",
    "try:\n",
    "    conda_path = ! which conda\n",
    "finally:\n",
    "    print('')\n",
    "\n",
    "if (len(conda_path) == 0):\n",
    "    print('installing miniconda')\n",
    "    ! wget https://repo.anaconda.com/miniconda/Miniconda3-py37_4.8.2-Linux-x86_64.sh\n",
    "    ! chmod +x Miniconda3-py37_4.8.2-Linux-x86_64.sh\n",
    "    ! bash ./Miniconda3-py37_4.8.2-Linux-x86_64.sh -b -f -p /usr/local\n",
    "    import sys\n",
    "    sys.path.append('/usr/local/lib/python3.7/site-packages/')\n",
    "    ! conda init\n",
    "    ! conda install -n root _license -y -q\n",
    "else:\n",
    "    print('found miniconda')\n",
    "\n",
    "conda_envs = ! conda env list\n",
    "res = [i for i in conda_envs if env_name in i]\n",
    "if (len(res) == 0):\n",
    "    print(f'not found {env_name} env', len(res))\n",
    "    ! conda create --name 99-cell-tra-win11-310 --file requirements-conda.txt\n",
    "else:\n",
    "    print(f'found {env_name} env', len(res))\n",
    "print(f'{env_name} was created')"
   ]
  },
  {
   "cell_type": "code",
   "execution_count": 22,
   "metadata": {
    "colab": {
     "base_uri": "https://localhost:8080/"
    },
    "id": "hRud_rqd-DeU",
    "outputId": "c6d693c5-65a0-4435-fd4a-5edf6b12e8c8"
   },
   "outputs": [
    {
     "name": "stdout",
     "output_type": "stream",
     "text": [
      "Hello\n",
      "Looking in indexes: https://pypi.org/simple, https://pypi.ngc.nvidia.com\n",
      "Requirement already satisfied: hydra-core==1.1.0.dev5 in c:\\users\\jzhao16\\.conda\\envs\\99-cell-tra-win11-310\\lib\\site-packages (from -r requirements.txt (line 4)) (1.1.0.dev5)\n",
      "Requirement already satisfied: hydra-colorlog==1.0.0 in c:\\users\\jzhao16\\.conda\\envs\\99-cell-tra-win11-310\\lib\\site-packages (from -r requirements.txt (line 5)) (1.0.0)\n",
      "Requirement already satisfied: hydra-optuna-sweeper==0.9.0rc2 in c:\\users\\jzhao16\\.conda\\envs\\99-cell-tra-win11-310\\lib\\site-packages (from -r requirements.txt (line 6)) (0.9.0rc2)\n",
      "Requirement already satisfied: wandb>=0.10.20 in c:\\users\\jzhao16\\.conda\\envs\\99-cell-tra-win11-310\\lib\\site-packages (from -r requirements.txt (line 8)) (0.20.1)\n",
      "Requirement already satisfied: omegaconf==2.1.0dev24 in c:\\users\\jzhao16\\.conda\\envs\\99-cell-tra-win11-310\\lib\\site-packages (from hydra-core==1.1.0.dev5->-r requirements.txt (line 4)) (2.1.0.dev24)\n",
      "Requirement already satisfied: antlr4-python3-runtime==4.8 in c:\\users\\jzhao16\\.conda\\envs\\99-cell-tra-win11-310\\lib\\site-packages (from hydra-core==1.1.0.dev5->-r requirements.txt (line 4)) (4.8)\n",
      "Requirement already satisfied: colorlog in c:\\users\\jzhao16\\.conda\\envs\\99-cell-tra-win11-310\\lib\\site-packages (from hydra-colorlog==1.0.0->-r requirements.txt (line 5)) (6.9.0)\n",
      "Requirement already satisfied: optuna in c:\\users\\jzhao16\\.conda\\envs\\99-cell-tra-win11-310\\lib\\site-packages (from hydra-optuna-sweeper==0.9.0rc2->-r requirements.txt (line 6)) (4.4.0)\n",
      "Requirement already satisfied: PyYAML>=5.1.* in c:\\users\\jzhao16\\.conda\\envs\\99-cell-tra-win11-310\\lib\\site-packages (from omegaconf==2.1.0dev24->hydra-core==1.1.0.dev5->-r requirements.txt (line 4)) (6.0.2)\n",
      "Requirement already satisfied: click!=8.0.0,>=7.1 in c:\\users\\jzhao16\\.conda\\envs\\99-cell-tra-win11-310\\lib\\site-packages (from wandb>=0.10.20->-r requirements.txt (line 8)) (8.0.4)\n",
      "Requirement already satisfied: gitpython!=3.1.29,>=1.0.0 in c:\\users\\jzhao16\\.conda\\envs\\99-cell-tra-win11-310\\lib\\site-packages (from wandb>=0.10.20->-r requirements.txt (line 8)) (3.1.44)\n",
      "Requirement already satisfied: packaging in c:\\users\\jzhao16\\.conda\\envs\\99-cell-tra-win11-310\\lib\\site-packages (from wandb>=0.10.20->-r requirements.txt (line 8)) (21.3)\n",
      "Requirement already satisfied: platformdirs in c:\\users\\jzhao16\\.conda\\envs\\99-cell-tra-win11-310\\lib\\site-packages (from wandb>=0.10.20->-r requirements.txt (line 8)) (4.3.7)\n",
      "Requirement already satisfied: protobuf!=4.21.0,!=5.28.0,<7,>=3.19.0 in c:\\users\\jzhao16\\.conda\\envs\\99-cell-tra-win11-310\\lib\\site-packages (from wandb>=0.10.20->-r requirements.txt (line 8)) (6.31.1)\n",
      "Requirement already satisfied: psutil>=5.0.0 in c:\\users\\jzhao16\\.conda\\envs\\99-cell-tra-win11-310\\lib\\site-packages (from wandb>=0.10.20->-r requirements.txt (line 8)) (5.9.0)\n",
      "Requirement already satisfied: pydantic<3 in c:\\users\\jzhao16\\.conda\\envs\\99-cell-tra-win11-310\\lib\\site-packages (from wandb>=0.10.20->-r requirements.txt (line 8)) (2.11.7)\n",
      "Requirement already satisfied: requests<3,>=2.0.0 in c:\\users\\jzhao16\\.conda\\envs\\99-cell-tra-win11-310\\lib\\site-packages (from wandb>=0.10.20->-r requirements.txt (line 8)) (2.27.1)\n",
      "Requirement already satisfied: sentry-sdk>=2.0.0 in c:\\users\\jzhao16\\.conda\\envs\\99-cell-tra-win11-310\\lib\\site-packages (from wandb>=0.10.20->-r requirements.txt (line 8)) (2.30.0)\n",
      "Requirement already satisfied: setproctitle in c:\\users\\jzhao16\\.conda\\envs\\99-cell-tra-win11-310\\lib\\site-packages (from wandb>=0.10.20->-r requirements.txt (line 8)) (1.3.6)\n",
      "Requirement already satisfied: typing-extensions<5,>=4.8 in c:\\users\\jzhao16\\.conda\\envs\\99-cell-tra-win11-310\\lib\\site-packages (from wandb>=0.10.20->-r requirements.txt (line 8)) (4.12.2)\n",
      "Requirement already satisfied: colorama in c:\\users\\jzhao16\\.conda\\envs\\99-cell-tra-win11-310\\lib\\site-packages (from click!=8.0.0,>=7.1->wandb>=0.10.20->-r requirements.txt (line 8)) (0.4.4)\n",
      "Requirement already satisfied: gitdb<5,>=4.0.1 in c:\\users\\jzhao16\\.conda\\envs\\99-cell-tra-win11-310\\lib\\site-packages (from gitpython!=3.1.29,>=1.0.0->wandb>=0.10.20->-r requirements.txt (line 8)) (4.0.12)\n",
      "Requirement already satisfied: annotated-types>=0.6.0 in c:\\users\\jzhao16\\.conda\\envs\\99-cell-tra-win11-310\\lib\\site-packages (from pydantic<3->wandb>=0.10.20->-r requirements.txt (line 8)) (0.7.0)\n",
      "Requirement already satisfied: pydantic-core==2.33.2 in c:\\users\\jzhao16\\.conda\\envs\\99-cell-tra-win11-310\\lib\\site-packages (from pydantic<3->wandb>=0.10.20->-r requirements.txt (line 8)) (2.33.2)\n",
      "Requirement already satisfied: typing-inspection>=0.4.0 in c:\\users\\jzhao16\\.conda\\envs\\99-cell-tra-win11-310\\lib\\site-packages (from pydantic<3->wandb>=0.10.20->-r requirements.txt (line 8)) (0.4.1)\n",
      "Requirement already satisfied: urllib3<1.27,>=1.21.1 in c:\\users\\jzhao16\\.conda\\envs\\99-cell-tra-win11-310\\lib\\site-packages (from requests<3,>=2.0.0->wandb>=0.10.20->-r requirements.txt (line 8)) (1.26.20)\n",
      "Requirement already satisfied: certifi>=2017.4.17 in c:\\users\\jzhao16\\.conda\\envs\\99-cell-tra-win11-310\\lib\\site-packages (from requests<3,>=2.0.0->wandb>=0.10.20->-r requirements.txt (line 8)) (2021.10.8)\n",
      "Requirement already satisfied: charset-normalizer~=2.0.0 in c:\\users\\jzhao16\\.conda\\envs\\99-cell-tra-win11-310\\lib\\site-packages (from requests<3,>=2.0.0->wandb>=0.10.20->-r requirements.txt (line 8)) (2.0.4)\n",
      "Requirement already satisfied: idna<4,>=2.5 in c:\\users\\jzhao16\\.conda\\envs\\99-cell-tra-win11-310\\lib\\site-packages (from requests<3,>=2.0.0->wandb>=0.10.20->-r requirements.txt (line 8)) (3.3)\n",
      "Requirement already satisfied: alembic>=1.5.0 in c:\\users\\jzhao16\\.conda\\envs\\99-cell-tra-win11-310\\lib\\site-packages (from optuna->hydra-optuna-sweeper==0.9.0rc2->-r requirements.txt (line 6)) (1.16.2)\n",
      "Requirement already satisfied: numpy in c:\\users\\jzhao16\\.conda\\envs\\99-cell-tra-win11-310\\lib\\site-packages (from optuna->hydra-optuna-sweeper==0.9.0rc2->-r requirements.txt (line 6)) (1.24.2)\n",
      "Requirement already satisfied: sqlalchemy>=1.4.2 in c:\\users\\jzhao16\\.conda\\envs\\99-cell-tra-win11-310\\lib\\site-packages (from optuna->hydra-optuna-sweeper==0.9.0rc2->-r requirements.txt (line 6)) (2.0.41)\n",
      "Requirement already satisfied: tqdm in c:\\users\\jzhao16\\.conda\\envs\\99-cell-tra-win11-310\\lib\\site-packages (from optuna->hydra-optuna-sweeper==0.9.0rc2->-r requirements.txt (line 6)) (4.64.0)\n",
      "Requirement already satisfied: pyparsing!=3.0.5,>=2.0.2 in c:\\users\\jzhao16\\.conda\\envs\\99-cell-tra-win11-310\\lib\\site-packages (from packaging->wandb>=0.10.20->-r requirements.txt (line 8)) (3.0.4)\n",
      "Requirement already satisfied: Mako in c:\\users\\jzhao16\\.conda\\envs\\99-cell-tra-win11-310\\lib\\site-packages (from alembic>=1.5.0->optuna->hydra-optuna-sweeper==0.9.0rc2->-r requirements.txt (line 6)) (1.3.10)\n",
      "Requirement already satisfied: tomli in c:\\users\\jzhao16\\.conda\\envs\\99-cell-tra-win11-310\\lib\\site-packages (from alembic>=1.5.0->optuna->hydra-optuna-sweeper==0.9.0rc2->-r requirements.txt (line 6)) (1.2.2)\n",
      "Requirement already satisfied: smmap<6,>=3.0.1 in c:\\users\\jzhao16\\.conda\\envs\\99-cell-tra-win11-310\\lib\\site-packages (from gitdb<5,>=4.0.1->gitpython!=3.1.29,>=1.0.0->wandb>=0.10.20->-r requirements.txt (line 8)) (5.0.2)\n",
      "Requirement already satisfied: greenlet>=1 in c:\\users\\jzhao16\\.conda\\envs\\99-cell-tra-win11-310\\lib\\site-packages (from sqlalchemy>=1.4.2->optuna->hydra-optuna-sweeper==0.9.0rc2->-r requirements.txt (line 6)) (3.2.3)\n",
      "Requirement already satisfied: MarkupSafe>=0.9.2 in c:\\users\\jzhao16\\.conda\\envs\\99-cell-tra-win11-310\\lib\\site-packages (from Mako->alembic>=1.5.0->optuna->hydra-optuna-sweeper==0.9.0rc2->-r requirements.txt (line 6)) (2.0.1)\n"
     ]
    },
    {
     "name": "stderr",
     "output_type": "stream",
     "text": [
      "DEPRECATION: omegaconf 2.1.0.dev24 has a non-standard dependency specifier PyYAML>=5.1.*. pip 24.0 will enforce this behaviour change. A possible replacement is to upgrade to a newer version of omegaconf or contact the author to suggest that they release a version with a conforming dependency specifiers. Discussion can be found at https://github.com/pypa/pip/issues/12063\n",
      "\n",
      "[notice] A new release of pip is available: 23.3.1 -> 25.1.1\n",
      "[notice] To update, run: python.exe -m pip install --upgrade pip\n"
     ]
    },
    {
     "name": "stdout",
     "output_type": "stream",
     "text": [
      "Looking in indexes: https://pypi.org/simple, https://pypi.ngc.nvidia.com\n",
      "Collecting PyYAML==5.4.1\n",
      "  Downloading PyYAML-5.4.1.tar.gz (175 kB)\n",
      "     ---------------------------------------- 0.0/175.1 kB ? eta -:--:--\n",
      "     -- ------------------------------------- 10.2/175.1 kB ? eta -:--:--\n",
      "     ------ ------------------------------ 30.7/175.1 kB 435.7 kB/s eta 0:00:01\n",
      "     --------------- --------------------- 71.7/175.1 kB 653.6 kB/s eta 0:00:01\n",
      "     -------------------------------------- 175.1/175.1 kB 1.5 MB/s eta 0:00:00\n",
      "  Installing build dependencies: started\n",
      "  Installing build dependencies: finished with status 'done'\n",
      "  Getting requirements to build wheel: started\n",
      "  Getting requirements to build wheel: finished with status 'error'\n"
     ]
    },
    {
     "name": "stderr",
     "output_type": "stream",
     "text": [
      "  error: subprocess-exited-with-error\n",
      "  \n",
      "  Getting requirements to build wheel did not run successfully.\n",
      "  exit code: 1\n",
      "  \n",
      "  [61 lines of output]\n",
      "  C:\\Users\\jzhao16\\AppData\\Local\\Temp\\pip-build-env-eiaoo46z\\overlay\\Lib\\site-packages\\setuptools\\dist.py:759: SetuptoolsDeprecationWarning: License classifiers are deprecated.\n",
      "  !!\n",
      "  \n",
      "          ********************************************************************************\n",
      "          Please consider removing the following classifiers in favor of a SPDX license expression:\n",
      "  \n",
      "          License :: OSI Approved :: MIT License\n",
      "  \n",
      "          See https://packaging.python.org/en/latest/guides/writing-pyproject-toml/#license for details.\n",
      "          ********************************************************************************\n",
      "  \n",
      "  !!\n",
      "    self._finalize_license_expression()\n",
      "  running egg_info\n",
      "  writing lib3\\PyYAML.egg-info\\PKG-INFO\n",
      "  writing dependency_links to lib3\\PyYAML.egg-info\\dependency_links.txt\n",
      "  writing top-level names to lib3\\PyYAML.egg-info\\top_level.txt\n",
      "  Traceback (most recent call last):\n",
      "    File \"C:\\Users\\jzhao16\\.conda\\envs\\99-cell-tra-win11-310\\lib\\site-packages\\pip\\_vendor\\pyproject_hooks\\_in_process\\_in_process.py\", line 353, in <module>\n",
      "      main()\n",
      "    File \"C:\\Users\\jzhao16\\.conda\\envs\\99-cell-tra-win11-310\\lib\\site-packages\\pip\\_vendor\\pyproject_hooks\\_in_process\\_in_process.py\", line 335, in main\n",
      "      json_out['return_val'] = hook(**hook_input['kwargs'])\n",
      "    File \"C:\\Users\\jzhao16\\.conda\\envs\\99-cell-tra-win11-310\\lib\\site-packages\\pip\\_vendor\\pyproject_hooks\\_in_process\\_in_process.py\", line 118, in get_requires_for_build_wheel\n",
      "      return hook(config_settings)\n",
      "    File \"C:\\Users\\jzhao16\\AppData\\Local\\Temp\\pip-build-env-eiaoo46z\\overlay\\Lib\\site-packages\\setuptools\\build_meta.py\", line 331, in get_requires_for_build_wheel\n",
      "      return self._get_build_requires(config_settings, requirements=[])\n",
      "    File \"C:\\Users\\jzhao16\\AppData\\Local\\Temp\\pip-build-env-eiaoo46z\\overlay\\Lib\\site-packages\\setuptools\\build_meta.py\", line 301, in _get_build_requires\n",
      "      self.run_setup()\n",
      "    File \"C:\\Users\\jzhao16\\AppData\\Local\\Temp\\pip-build-env-eiaoo46z\\overlay\\Lib\\site-packages\\setuptools\\build_meta.py\", line 317, in run_setup\n",
      "      exec(code, locals())\n",
      "    File \"<string>\", line 271, in <module>\n",
      "    File \"C:\\Users\\jzhao16\\AppData\\Local\\Temp\\pip-build-env-eiaoo46z\\overlay\\Lib\\site-packages\\setuptools\\__init__.py\", line 115, in setup\n",
      "      return distutils.core.setup(**attrs)\n",
      "    File \"C:\\Users\\jzhao16\\AppData\\Local\\Temp\\pip-build-env-eiaoo46z\\overlay\\Lib\\site-packages\\setuptools\\_distutils\\core.py\", line 186, in setup\n",
      "      return run_commands(dist)\n",
      "    File \"C:\\Users\\jzhao16\\AppData\\Local\\Temp\\pip-build-env-eiaoo46z\\overlay\\Lib\\site-packages\\setuptools\\_distutils\\core.py\", line 202, in run_commands\n",
      "      dist.run_commands()\n",
      "    File \"C:\\Users\\jzhao16\\AppData\\Local\\Temp\\pip-build-env-eiaoo46z\\overlay\\Lib\\site-packages\\setuptools\\_distutils\\dist.py\", line 1002, in run_commands\n",
      "      self.run_command(cmd)\n",
      "    File \"C:\\Users\\jzhao16\\AppData\\Local\\Temp\\pip-build-env-eiaoo46z\\overlay\\Lib\\site-packages\\setuptools\\dist.py\", line 1102, in run_command\n",
      "      super().run_command(command)\n",
      "    File \"C:\\Users\\jzhao16\\AppData\\Local\\Temp\\pip-build-env-eiaoo46z\\overlay\\Lib\\site-packages\\setuptools\\_distutils\\dist.py\", line 1021, in run_command\n",
      "      cmd_obj.run()\n",
      "    File \"C:\\Users\\jzhao16\\AppData\\Local\\Temp\\pip-build-env-eiaoo46z\\overlay\\Lib\\site-packages\\setuptools\\command\\egg_info.py\", line 312, in run\n",
      "      self.find_sources()\n",
      "    File \"C:\\Users\\jzhao16\\AppData\\Local\\Temp\\pip-build-env-eiaoo46z\\overlay\\Lib\\site-packages\\setuptools\\command\\egg_info.py\", line 320, in find_sources\n",
      "      mm.run()\n",
      "    File \"C:\\Users\\jzhao16\\AppData\\Local\\Temp\\pip-build-env-eiaoo46z\\overlay\\Lib\\site-packages\\setuptools\\command\\egg_info.py\", line 543, in run\n",
      "      self.add_defaults()\n",
      "    File \"C:\\Users\\jzhao16\\AppData\\Local\\Temp\\pip-build-env-eiaoo46z\\overlay\\Lib\\site-packages\\setuptools\\command\\egg_info.py\", line 581, in add_defaults\n",
      "      sdist.add_defaults(self)\n",
      "    File \"C:\\Users\\jzhao16\\AppData\\Local\\Temp\\pip-build-env-eiaoo46z\\overlay\\Lib\\site-packages\\setuptools\\command\\sdist.py\", line 109, in add_defaults\n",
      "      super().add_defaults()\n",
      "    File \"C:\\Users\\jzhao16\\AppData\\Local\\Temp\\pip-build-env-eiaoo46z\\overlay\\Lib\\site-packages\\setuptools\\_distutils\\command\\sdist.py\", line 245, in add_defaults\n",
      "      self._add_defaults_ext()\n",
      "    File \"C:\\Users\\jzhao16\\AppData\\Local\\Temp\\pip-build-env-eiaoo46z\\overlay\\Lib\\site-packages\\setuptools\\_distutils\\command\\sdist.py\", line 330, in _add_defaults_ext\n",
      "      self.filelist.extend(build_ext.get_source_files())\n",
      "    File \"<string>\", line 201, in get_source_files\n",
      "    File \"C:\\Users\\jzhao16\\AppData\\Local\\Temp\\pip-build-env-eiaoo46z\\overlay\\Lib\\site-packages\\setuptools\\_distutils\\cmd.py\", line 131, in __getattr__\n",
      "      raise AttributeError(attr)\n",
      "  AttributeError: cython_sources\n",
      "  [end of output]\n",
      "  \n",
      "  note: This error originates from a subprocess, and is likely not a problem with pip.\n",
      "error: subprocess-exited-with-error\n",
      "\n",
      "Getting requirements to build wheel did not run successfully.\n",
      "exit code: 1\n",
      "\n",
      "See above for output.\n",
      "\n",
      "note: This error originates from a subprocess, and is likely not a problem with pip.\n",
      "\n",
      "[notice] A new release of pip is available: 23.3.1 -> 25.1.1\n",
      "[notice] To update, run: python.exe -m pip install --upgrade pip\n"
     ]
    }
   ],
   "source": [
    "# Say hello just to verify the cell runs\n",
    "!echo Hello\n",
    "!conda activate 99-cell-tra-win11-310\n",
    "# Install Python dependencies using conda run\n",
    "!pip install -r requirements.txt\n",
    "!pip install PyYAML==5.4.1\n"
   ]
  },
  {
   "cell_type": "code",
   "execution_count": 23,
   "metadata": {
    "colab": {
     "base_uri": "https://localhost:8080/"
    },
    "id": "JLRuvmTsFQr3",
    "outputId": "57ee4726-a6ae-4e83-fece-1f80976f619f"
   },
   "outputs": [
    {
     "name": "stdout",
     "output_type": "stream",
     "text": [
      "Looking in indexes: https://pypi.org/simple, https://pypi.ngc.nvidia.com\n",
      "Requirement already satisfied: python-dotenv in c:\\users\\jzhao16\\.conda\\envs\\99-cell-tra-win11-310\\lib\\site-packages (0.20.0)\n"
     ]
    },
    {
     "name": "stderr",
     "output_type": "stream",
     "text": [
      "DEPRECATION: omegaconf 2.1.0.dev24 has a non-standard dependency specifier PyYAML>=5.1.*. pip 24.0 will enforce this behaviour change. A possible replacement is to upgrade to a newer version of omegaconf or contact the author to suggest that they release a version with a conforming dependency specifiers. Discussion can be found at https://github.com/pypa/pip/issues/12063\n",
      "\n",
      "[notice] A new release of pip is available: 23.3.1 -> 25.1.1\n",
      "[notice] To update, run: python.exe -m pip install --upgrade pip\n"
     ]
    }
   ],
   "source": [
    "!pip install python-dotenv\n",
    "import dotenv"
   ]
  },
  {
   "cell_type": "markdown",
   "metadata": {
    "id": "tHvSRgPIlEFo"
   },
   "source": [
    "# **Training**\n",
    " The first two stages can be skipped (step #2 is long in colab) by using the pre-trained model (in step #3) provided under the [releases](https://github.com/talbenha/cell-tracker-gnn/releases) of the repository. For example for the pretrained model for PhC-C2DH-U373 dataset, download the software and find the model under `software/parameters/Features_Models/PhC-C2DH-U373/all_params.pth`"
   ]
  },
  {
   "cell_type": "markdown",
   "metadata": {
    "id": "mgdYwfgjneeD"
   },
   "source": [
    "# 1. Run feature extraction for metric learning\n"
   ]
  },
  {
   "cell_type": "code",
   "execution_count": null,
   "metadata": {
    "ExecuteTime": {
     "end_time": "2025-06-25T22:32:28.160665Z",
     "start_time": "2025-06-25T22:32:27.671866Z"
    }
   },
   "outputs": [],
   "source": [
    "# sometimes work sometime not work\n",
    "!echo Hello\n",
    "#%%bash\n",
    "#!powershell -Command \"$env:HYDRA_FULL_ERROR='1'; echo $env:HYDRA_FULL_ERROR\"\n",
    "#C:\\Users\\jzhao16\\AppData\\Local\\miniconda3\\condabin\\conda.bat  activate 99-cell-tra-win11-310\n",
    "#conda activate 99-cell-tra-win11-310\n",
    "#export HYDRA_FULL_ERROR=1\n",
    "#export FOLDER_PATH=C:/Users/jzhao16/Documents/mydata/gnntest\n",
    "#export DATA_NAME=Fluo-C2DL-Huh7 # TODO: update this path\n",
    "#python run_train_metric_learning.py dataset.kwargs.data_dir_img=\"${FOLDER_PATH}/${DATA_NAME}\" dataset.kwargs.data_dir_mask=\"${FOLDER_PATH}/${DATA_NAME}\" dataset.kwargs.dir_csv=\"${FOLDER_PATH}/basic_features/${DATA_NAME}\" dataset.kwargs.subdir_mask='GT/TRA'\n",
    "\n",
    "\n",
    "\n",
    "!set HYDRA_FULL_ERROR=1\n",
    "!set FOLDER_PATH=C:/Users/jzhao16/Documents/mydata/gnntest\n",
    "!set DATA_NAME=Fluo-C2DL-Huh7\n",
    "\n",
    "!python run_feat_extract.py params.input_images=\"{FOLDER_PATH}/{DATA_NAME}\" params.input_masks=\"{FOLDER_PATH}/{DATA_NAME}\" params.input_seg=\"{FOLDER_PATH}/{DATA_NAME}\" params.output_csv=\"{FOLDER_PATH}/basic_features\" params.sequences=['01','02']  params.seg_dir='_GT/TRA' params.basic=True\n",
    "\n",
    "# copy generate 01 and 02 to {FOLDER_PATH}/basic_features/{DATA_NAME}/01/csv\n",
    "# e.g. C:\\Users\\jzhao16\\Documents\\mydata\\gnntest\\basic_features\\Fluo-C2DL-Huh7\\01\\csv\n",
    "# e.g. C:\\Users\\jzhao16\\Documents\\mydata\\gnntest\\basic_features\\Fluo-C2DL-Huh7\\02\\csv"
   ]
  },
  {
   "cell_type": "code",
   "execution_count": 32,
   "metadata": {
    "id": "-dRjx8GkFOkG"
   },
   "outputs": [
    {
     "name": "stdout",
     "output_type": "stream",
     "text": [
      "files were saved to : C:/Users/jzhao16/Documents/mydata/gnntest\\basic_features\\mydata\\01\\csv\n",
      "files were saved to : C:/Users/jzhao16/Documents/mydata/gnntest\\basic_features\\mydata\\02\\csv\n"
     ]
    }
   ],
   "source": [
    "import os\n",
    "\n",
    "# Set variables\n",
    "FOLDER_PATH = r\"C:/Users/jzhao16/Documents/mydata/gnntest\"\n",
    "DATA_NAME = \"Fluo-C2DL-Huh7\"\n",
    "INPUT_PATH = os.path.join(FOLDER_PATH, DATA_NAME)\n",
    "OUTPUT_PATH = os.path.join(FOLDER_PATH, \"basic_features\")\n",
    "SEQUENCES = \"['01','02']\"  # needs to be passed as a string\n",
    "\n",
    "# Construct command\n",
    "command = (\n",
    "    f'python run_feat_extract.py '\n",
    "    f'params.input_images=\"{INPUT_PATH}\" '\n",
    "    f'params.input_masks=\"{INPUT_PATH}\" '\n",
    "    f'params.input_seg=\"{INPUT_PATH}\" '\n",
    "    f'params.output_csv=\"{OUTPUT_PATH}\" '\n",
    "    f'params.sequences={SEQUENCES} '\n",
    "    f'params.seg_dir=\"_GT/TRA\" '\n",
    "    f'params.basic=True'\n",
    ")\n",
    "\n",
    "# Run it\n",
    "os.environ['HYDRA_FULL_ERROR'] = '1'\n",
    "!{command}\n"
   ]
  },
  {
   "cell_type": "markdown",
   "metadata": {
    "id": "NEWM_DoynnGs"
   },
   "source": [
    "# 2. Run metric learning training\n",
    " Pay attention that this cell takes long time on google colab, so you can skip this stage and use the pre-trained model provided under the [releases](https://github.com/talbenha/cell-tracker-gnn/releases) of the repository. For example for the pretrained model for PhC-C2DH-U373 dataset, download the software and find the model under `software/parameters/Features_Models/PhC-C2DH-U373/all_params.pth`"
   ]
  },
  {
   "cell_type": "code",
   "execution_count": null,
   "metadata": {
    "id": "Sn1JcCVg8Dd1"
   },
   "outputs": [],
   "source": [
    "##%%bash\n",
    "#source activate cell-tracking-challenge\n",
    "# copy step 1 result generate 01 and 02 to {FOLDER_PATH}/basic_features/{DATA_NAME}/01/csv\n",
    "# e.g. C:\\Users\\jzhao16\\Documents\\mydata\\gnntest\\basic_features\\Fluo-C2DL-Huh7\\01\\csv\n",
    "# e.g. C:\\Users\\jzhao16\\Documents\\mydata\\gnntest\\basic_features\\Fluo-C2DL-Huh7\\02\\csv\n",
    "\n",
    "!set HYDRA_FULL_ERROR=1\n",
    "!set FOLDER_PATH=C:/Users/jzhao16/Documents/mydata/gnntest\n",
    "!set DATA_NAME=Fluo-C2DL-Huh7\n",
    "\n",
    "!python run_train_metric_learning.py dataset.kwargs.data_dir_img=\"{FOLDER_PATH}/{DATA_NAME}\" dataset.kwargs.data_dir_mask=\"{FOLDER_PATH}/{DATA_NAME}\" dataset.kwargs.dir_csv=\"{FOLDER_PATH}/basic_features/{DATA_NAME}\" dataset.kwargs.subdir_mask='GT/TRA'"
   ]
  },
  {
   "cell_type": "code",
   "execution_count": null,
   "metadata": {},
   "outputs": [],
   "source": [
    "import os\n",
    "\n",
    "# Set paths\n",
    "FOLDER_PATH = r\"C:/Users/jzhao16/Documents/mydata/gnntest\"\n",
    "DATA_NAME = \"Fluo-C2DL-Huh7\"\n",
    "DATA_DIR = os.path.join(FOLDER_PATH, DATA_NAME)\n",
    "CSV_DIR = os.path.join(FOLDER_PATH, \"basic_features\", DATA_NAME)\n",
    "SUBDIR_MASK = \"GT/TRA\"\n",
    "\n",
    "# Construct the command string\n",
    "command = (\n",
    "    f'python run_train_metric_learning.py '\n",
    "    f'dataset.kwargs.data_dir_img=\"{DATA_DIR}\" '\n",
    "    f'dataset.kwargs.data_dir_mask=\"{DATA_DIR}\" '\n",
    "    f'dataset.kwargs.dir_csv=\"{CSV_DIR}\" '\n",
    "    f'dataset.kwargs.subdir_mask=\"{SUBDIR_MASK}\"'\n",
    ")\n",
    "\n",
    "# Set environment variable\n",
    "os.environ[\"HYDRA_FULL_ERROR\"] = \"1\"\n",
    "\n",
    "# Execute command\n",
    "!{command}"
   ]
  },
  {
   "cell_type": "markdown",
   "metadata": {
    "id": "7fi-43NNqSa5"
   },
   "source": [
    "--> output 'all_params.pth' is generated at end, it is the input_model (i.e. for METRIC_PATH variable) for the next step"
   ]
  },
  {
   "cell_type": "markdown",
   "metadata": {
    "id": "7O4aUzu_6Wfm"
   },
   "source": [
    "# **3. Run compreensive feature extraction with metric learning**"
   ]
  },
  {
   "cell_type": "markdown",
   "metadata": {
    "id": "OFBY9bWU6gCV"
   },
   "source": []
  },
  {
   "cell_type": "markdown",
   "metadata": {
    "id": "bS5fms3X3s6X"
   },
   "source": [
    "!pip install python-dotenv\n",
    "import dotenv"
   ]
  },
  {
   "cell_type": "code",
   "execution_count": 7,
   "metadata": {},
   "outputs": [
    {
     "name": "stdout",
     "output_type": "stream",
     "text": [
      "Looking in indexes: https://pypi.org/simple, https://pypi.ngc.nvidia.com\n",
      "Requirement already satisfied: python-dotenv in c:\\users\\jzhao16\\.conda\\envs\\99-cell-tra-win11-310\\lib\\site-packages (0.20.0)\n"
     ]
    },
    {
     "name": "stderr",
     "output_type": "stream",
     "text": [
      "DEPRECATION: omegaconf 2.1.0.dev24 has a non-standard dependency specifier PyYAML>=5.1.*. pip 24.0 will enforce this behaviour change. A possible replacement is to upgrade to a newer version of omegaconf or contact the author to suggest that they release a version with a conforming dependency specifiers. Discussion can be found at https://github.com/pypa/pip/issues/12063\n",
      "\n",
      "[notice] A new release of pip is available: 23.3.1 -> 25.1.1\n",
      "[notice] To update, run: python.exe -m pip install --upgrade pip\n"
     ]
    }
   ],
   "source": [
    "!pip install python-dotenv\n",
    "import dotenv\n"
   ]
  },
  {
   "cell_type": "code",
   "execution_count": 27,
   "metadata": {
    "colab": {
     "base_uri": "https://localhost:8080/",
     "height": 964
    },
    "id": "woSZYUsI9EED",
    "outputId": "f8ad4606-4157-4884-dbae-21f5ca095e2d"
   },
   "outputs": [
    {
     "name": "stdout",
     "output_type": "stream",
     "text": [
      "Hello\n"
     ]
    },
    {
     "name": "stderr",
     "output_type": "stream",
     "text": [
      "Traceback (most recent call last):\n",
      "  File \"C:\\Users\\jzhao16\\Documents\\GitHub\\99-cell-tracker-gnn-test\\run_feat_extract.py\", line 13, in <module>\n",
      "    main()\n",
      "  File \"C:\\Users\\jzhao16\\.conda\\envs\\99-cell-tra-win11-310\\lib\\site-packages\\hydra\\main.py\", line 29, in decorated_main\n",
      "    _run_hydra(\n",
      "  File \"C:\\Users\\jzhao16\\.conda\\envs\\99-cell-tra-win11-310\\lib\\site-packages\\hydra\\_internal\\utils.py\", line 369, in _run_hydra\n",
      "    run_and_report(\n",
      "  File \"C:\\Users\\jzhao16\\.conda\\envs\\99-cell-tra-win11-310\\lib\\site-packages\\hydra\\_internal\\utils.py\", line 214, in run_and_report\n",
      "    raise ex\n",
      "  File \"C:\\Users\\jzhao16\\.conda\\envs\\99-cell-tra-win11-310\\lib\\site-packages\\hydra\\_internal\\utils.py\", line 211, in run_and_report\n",
      "    return func()\n",
      "  File \"C:\\Users\\jzhao16\\.conda\\envs\\99-cell-tra-win11-310\\lib\\site-packages\\hydra\\_internal\\utils.py\", line 370, in <lambda>\n",
      "    lambda: hydra.run(\n",
      "  File \"C:\\Users\\jzhao16\\.conda\\envs\\99-cell-tra-win11-310\\lib\\site-packages\\hydra\\_internal\\hydra.py\", line 93, in run\n",
      "    return run_job(\n",
      "  File \"C:\\Users\\jzhao16\\.conda\\envs\\99-cell-tra-win11-310\\lib\\site-packages\\hydra\\core\\utils.py\", line 129, in run_job\n",
      "    ret.return_value = task_function(task_cfg)\n",
      "  File \"C:\\Users\\jzhao16\\Documents\\GitHub\\99-cell-tracker-gnn-test\\run_feat_extract.py\", line 10, in main\n",
      "    module.create_csv(**dict(config.params))\n",
      "  File \"C:\\Users\\jzhao16\\Documents\\GitHub\\99-cell-tracker-gnn-test\\src\\datamodules\\extract_features\\preprocess_seq2graph_2d.py\", line 350, in create_csv\n",
      "    ds.preprocess_features_metric_learning(path_to_write=path_output, dict_path=dict_path)\n",
      "  File \"C:\\Users\\jzhao16\\Documents\\GitHub\\99-cell-tracker-gnn-test\\src\\datamodules\\extract_features\\preprocess_seq2graph_2d.py\", line 215, in preprocess_features_metric_learning\n",
      "    self.min_cell = dict_params['min_cell'][int(self.sec_path) - 1]\n",
      "KeyError: 'min_cell'\n"
     ]
    }
   ],
   "source": [
    "!echo Hello\n",
    "#!powershell -Command \"$env:HYDRA_FULL_ERROR='1'; echo $env:HYDRA_FULL_ERROR\"\n",
    "!conda activate 99-cell-tra-win11-310\n",
    "#!conda run 99-cell-tra-win11-310\n",
    "!set HYDRA_FULL_ERROR=1\n",
    "!set FOLDER_PATH=C:/Users/jzhao16/Documents/mydata/gnntest \n",
    "!set METRIC_PATH=C:/Users/jzhao16/Documents/mydata/gnntest/software/parameters/Features_Models/Fluo-C2DL-Huh7/all_params.pth \n",
    "!set DATA_NAME=Fluo-C2DL-Huh7\n",
    "\n",
    "!python run_feat_extract.py params.input_images=\"{FOLDER_PATH}/{DATA_NAME}\" params.input_masks=\"{FOLDER_PATH}/{DATA_NAME}\" params.input_seg=\"{FOLDER_PATH}/{DATA_NAME}\" params.output_csv=\"{FOLDER_PATH}/ct_features/\" params.sequences=['01','02']  params.seg_dir='_GT/TRA' params.basic=False params.input_model=\"{METRIC_PATH}\"\n",
    "#python run_feat_extract.py params.input_images=\"${FOLDER_PATH}/${DATA_NAME}\" params.input_masks=\"${FOLDER_PATH}/${DATA_NAME}\" params.input_seg=\"${FOLDER_PATH}/${DATA_NAME}\" params.output_csv=\"${FOLDER_PATH}/ct_features/\" params.sequences=['01','02']  params.seg_dir='_GT/TRA' params.basic=False params.input_model=\"${METRIC_PATH}\""
   ]
  },
  {
   "cell_type": "code",
   "execution_count": 29,
   "metadata": {},
   "outputs": [
    {
     "name": "stderr",
     "output_type": "stream",
     "text": [
      "Traceback (most recent call last):\n",
      "  File \"C:\\Users\\jzhao16\\Documents\\GitHub\\99-cell-tracker-gnn-test\\run_feat_extract.py\", line 13, in <module>\n",
      "    main()\n",
      "  File \"C:\\Users\\jzhao16\\.conda\\envs\\99-cell-tra-win11-310\\lib\\site-packages\\hydra\\main.py\", line 29, in decorated_main\n",
      "    _run_hydra(\n",
      "  File \"C:\\Users\\jzhao16\\.conda\\envs\\99-cell-tra-win11-310\\lib\\site-packages\\hydra\\_internal\\utils.py\", line 369, in _run_hydra\n",
      "    run_and_report(\n",
      "  File \"C:\\Users\\jzhao16\\.conda\\envs\\99-cell-tra-win11-310\\lib\\site-packages\\hydra\\_internal\\utils.py\", line 214, in run_and_report\n",
      "    raise ex\n",
      "  File \"C:\\Users\\jzhao16\\.conda\\envs\\99-cell-tra-win11-310\\lib\\site-packages\\hydra\\_internal\\utils.py\", line 211, in run_and_report\n",
      "    return func()\n",
      "  File \"C:\\Users\\jzhao16\\.conda\\envs\\99-cell-tra-win11-310\\lib\\site-packages\\hydra\\_internal\\utils.py\", line 370, in <lambda>\n",
      "    lambda: hydra.run(\n",
      "  File \"C:\\Users\\jzhao16\\.conda\\envs\\99-cell-tra-win11-310\\lib\\site-packages\\hydra\\_internal\\hydra.py\", line 93, in run\n",
      "    return run_job(\n",
      "  File \"C:\\Users\\jzhao16\\.conda\\envs\\99-cell-tra-win11-310\\lib\\site-packages\\hydra\\core\\utils.py\", line 129, in run_job\n",
      "    ret.return_value = task_function(task_cfg)\n",
      "  File \"C:\\Users\\jzhao16\\Documents\\GitHub\\99-cell-tracker-gnn-test\\run_feat_extract.py\", line 10, in main\n",
      "    module.create_csv(**dict(config.params))\n",
      "  File \"C:\\Users\\jzhao16\\Documents\\GitHub\\99-cell-tracker-gnn-test\\src\\datamodules\\extract_features\\preprocess_seq2graph_2d.py\", line 341, in create_csv\n",
      "    ds = TestDataset(\n",
      "  File \"C:\\Users\\jzhao16\\Documents\\GitHub\\99-cell-tracker-gnn-test\\src\\datamodules\\extract_features\\preprocess_seq2graph_2d.py\", line 38, in __init__\n",
      "    assert os.path.exists(dir_img), f\"Image paths ({dir_img}) is not exist, please fix it!\"\n",
      "AssertionError: Image paths (%FOLDER_PATH%\\%DATA_NAME%\\01) is not exist, please fix it!\n"
     ]
    }
   ],
   "source": [
    "!cmd /S /C set HYDRA_FULL_ERROR=1 \n",
    "!set FOLDER_PATH=C:\\Users\\jzhao16\\Documents\\mydata\\gnntest\n",
    "!set METRIC_PATH=%FOLDER_PATH%\\software\\parameters\\Features_Models\\Fluo-C2DL-Huh7\\all_params.pth\n",
    "!set DATA_NAME=Fluo-C2DL-Huh7 \n",
    "!python run_feat_extract.py params.input_images=%FOLDER_PATH%\\%DATA_NAME% params.input_masks=%FOLDER_PATH%\\%DATA_NAME% params.input_seg=%FOLDER_PATH%\\%DATA_NAME% params.output_csv=%FOLDER_PATH%\\ct_features\\ params.sequences=['01','02'] params.seg_dir=_GT/TRA params.basic=False params.input_model=%METRIC_PATH%\n"
   ]
  },
  {
   "cell_type": "code",
   "execution_count": 26,
   "metadata": {},
   "outputs": [
    {
     "name": "stderr",
     "output_type": "stream",
     "text": [
      "Traceback (most recent call last):\n",
      "  File \"C:\\Users\\jzhao16\\Documents\\GitHub\\99-cell-tracker-gnn-test\\run_feat_extract.py\", line 13, in <module>\n",
      "    main()\n",
      "  File \"C:\\Users\\jzhao16\\.conda\\envs\\99-cell-tra-win11-310\\lib\\site-packages\\hydra\\main.py\", line 29, in decorated_main\n",
      "    _run_hydra(\n",
      "  File \"C:\\Users\\jzhao16\\.conda\\envs\\99-cell-tra-win11-310\\lib\\site-packages\\hydra\\_internal\\utils.py\", line 369, in _run_hydra\n",
      "    run_and_report(\n",
      "  File \"C:\\Users\\jzhao16\\.conda\\envs\\99-cell-tra-win11-310\\lib\\site-packages\\hydra\\_internal\\utils.py\", line 214, in run_and_report\n",
      "    raise ex\n",
      "  File \"C:\\Users\\jzhao16\\.conda\\envs\\99-cell-tra-win11-310\\lib\\site-packages\\hydra\\_internal\\utils.py\", line 211, in run_and_report\n",
      "    return func()\n",
      "  File \"C:\\Users\\jzhao16\\.conda\\envs\\99-cell-tra-win11-310\\lib\\site-packages\\hydra\\_internal\\utils.py\", line 370, in <lambda>\n",
      "    lambda: hydra.run(\n",
      "  File \"C:\\Users\\jzhao16\\.conda\\envs\\99-cell-tra-win11-310\\lib\\site-packages\\hydra\\_internal\\hydra.py\", line 93, in run\n",
      "    return run_job(\n",
      "  File \"C:\\Users\\jzhao16\\.conda\\envs\\99-cell-tra-win11-310\\lib\\site-packages\\hydra\\core\\utils.py\", line 129, in run_job\n",
      "    ret.return_value = task_function(task_cfg)\n",
      "  File \"C:\\Users\\jzhao16\\Documents\\GitHub\\99-cell-tracker-gnn-test\\run_feat_extract.py\", line 10, in main\n",
      "    module.create_csv(**dict(config.params))\n",
      "  File \"C:\\Users\\jzhao16\\Documents\\GitHub\\99-cell-tracker-gnn-test\\src\\datamodules\\extract_features\\preprocess_seq2graph_2d.py\", line 350, in create_csv\n",
      "    ds.preprocess_features_metric_learning(path_to_write=path_output, dict_path=dict_path)\n",
      "  File \"C:\\Users\\jzhao16\\Documents\\GitHub\\99-cell-tracker-gnn-test\\src\\datamodules\\extract_features\\preprocess_seq2graph_2d.py\", line 215, in preprocess_features_metric_learning\n",
      "    self.min_cell = dict_params['min_cell'][int(self.sec_path) - 1]\n",
      "KeyError: 'min_cell'\n"
     ]
    }
   ],
   "source": [
    "import os\n",
    "\n",
    "# 设置路径变量\n",
    "FOLDER_PATH = r\"C:/Users/jzhao16/Documents/mydata/gnntest\"\n",
    "DATA_NAME = \"Fluo-C2DL-Huh7\"\n",
    "METRIC_PATH = os.path.join(FOLDER_PATH, \"software/parameters/Features_Models\", DATA_NAME, \"all_params.pth\")\n",
    "\n",
    "# 设置环境变量\n",
    "os.environ['HYDRA_FULL_ERROR'] = '1'\n",
    "command = (\n",
    "    f\"python run_feat_extract.py \"\n",
    "    f\"params.input_images={FOLDER_PATH}/{DATA_NAME} \"\n",
    "    f\"params.input_masks={FOLDER_PATH}/{DATA_NAME} \"\n",
    "    f\"params.input_seg={FOLDER_PATH}/{DATA_NAME} \"\n",
    "    f\"params.output_csv={FOLDER_PATH}/ct_features/ \"\n",
    "    f\"params.sequences=['01','02'] \"\n",
    "    f\"params.seg_dir='_GT/TRA' \"\n",
    "    f\"params.basic=False \"\n",
    "    f\"params.input_model={METRIC_PATH}\"\n",
    ")\n",
    "!{command}\n"
   ]
  },
  {
   "cell_type": "markdown",
   "metadata": {
    "id": "OXnZvVp9oKG0"
   },
   "source": [
    "# 4. Run Cell Tracking training"
   ]
  },
  {
   "cell_type": "code",
   "execution_count": 3,
   "metadata": {
    "id": "U4eR_tFE9HTz"
   },
   "outputs": [
    {
     "name": "stderr",
     "output_type": "stream",
     "text": [
      "Traceback (most recent call last):\n",
      "  File \"C:\\Users\\jzhao16\\Documents\\GitHub\\99-cell-tracker-gnn-test\\run.py\", line 8, in <module>\n",
      "    from pytorch_lightning.callbacks import ModelCheckpoint\n",
      "  File \"C:\\Users\\jzhao16\\.conda\\envs\\99-cell-tra-win11-310\\lib\\site-packages\\pytorch_lightning\\__init__.py\", line 21, in <module>\n",
      "    from pytorch_lightning.callbacks import Callback  # noqa: E402\n",
      "  File \"C:\\Users\\jzhao16\\.conda\\envs\\99-cell-tra-win11-310\\lib\\site-packages\\pytorch_lightning\\callbacks\\__init__.py\", line 24, in <module>\n",
      "    from pytorch_lightning.callbacks.pruning import ModelPruning\n",
      "  File \"C:\\Users\\jzhao16\\.conda\\envs\\99-cell-tra-win11-310\\lib\\site-packages\\pytorch_lightning\\callbacks\\pruning.py\", line 31, in <module>\n",
      "    from pytorch_lightning.core.lightning import LightningModule\n",
      "  File \"C:\\Users\\jzhao16\\.conda\\envs\\99-cell-tra-win11-310\\lib\\site-packages\\pytorch_lightning\\core\\__init__.py\", line 16, in <module>\n",
      "    from pytorch_lightning.core.lightning import LightningModule\n",
      "  File \"C:\\Users\\jzhao16\\.conda\\envs\\99-cell-tra-win11-310\\lib\\site-packages\\pytorch_lightning\\core\\lightning.py\", line 41, in <module>\n",
      "    from pytorch_lightning.trainer.connectors.logger_connector.fx_validator import FxValidator\n",
      "  File \"C:\\Users\\jzhao16\\.conda\\envs\\99-cell-tra-win11-310\\lib\\site-packages\\pytorch_lightning\\trainer\\__init__.py\", line 18, in <module>\n",
      "    from pytorch_lightning.trainer.trainer import Trainer\n",
      "  File \"C:\\Users\\jzhao16\\.conda\\envs\\99-cell-tra-win11-310\\lib\\site-packages\\pytorch_lightning\\trainer\\trainer.py\", line 31, in <module>\n",
      "    from pytorch_lightning.loggers import LightningLoggerBase\n",
      "  File \"C:\\Users\\jzhao16\\.conda\\envs\\99-cell-tra-win11-310\\lib\\site-packages\\pytorch_lightning\\loggers\\__init__.py\", line 18, in <module>\n",
      "    from pytorch_lightning.loggers.tensorboard import TensorBoardLogger\n",
      "  File \"C:\\Users\\jzhao16\\.conda\\envs\\99-cell-tra-win11-310\\lib\\site-packages\\pytorch_lightning\\loggers\\tensorboard.py\", line 25, in <module>\n",
      "    from torch.utils.tensorboard import SummaryWriter\n",
      "  File \"C:\\Users\\jzhao16\\.conda\\envs\\99-cell-tra-win11-310\\lib\\site-packages\\torch\\utils\\tensorboard\\__init__.py\", line 1, in <module>\n",
      "    import tensorboard\n",
      "ModuleNotFoundError: No module named 'tensorboard'\n"
     ]
    }
   ],
   "source": [
    "!set HYDRA_FULL_ERROR=1\n",
    "!set FOLDER_PATH=C:/Users/jzhao16/Documents/mydata/gnntest \n",
    "!set DATA_NAME=Fluo-C2DL-Huh7\n",
    "\n",
    "# cell tracking training run\n",
    "!python run.py datamodule.dataset_params.main_path=\"{FOLDER_PATH}/ct_features/{DATA_NAME}\" datamodule.dataset_params.exp_name=\"2D_SIM\" datamodule.dataset_params.drop_feat=[]"
   ]
  },
  {
   "cell_type": "markdown",
   "metadata": {
    "id": "24ah3IId9ZaR"
   },
   "source": [
    "# **Inference**\n",
    "Update the following variables:\n",
    "\n",
    "\n",
    "*   MODEL_PYTORCH_LIGHTNING - according to the output of the previius cell\n",
    "*   MODEL_METRIC_LEARNING\n",
    "*   FOLDER_PATH - path to folder that contains the dataset\n",
    "*   MODALITY\n",
    "\n",
    "\n",
    "\n"
   ]
  },
  {
   "cell_type": "code",
   "execution_count": 4,
   "metadata": {
    "id": "BsR9ClZn9Yvp"
   },
   "outputs": [
    {
     "name": "stderr",
     "output_type": "stream",
     "text": [
      "python: can't open file 'C:\\\\Users\\\\jzhao16\\\\Documents\\\\GitHub\\\\99-cell-tracker-gnn-test\\\\{CODE_TRA}\\\\preprocess_seq2graph_clean.py': [Errno 2] No such file or directory\n",
      "python: can't open file 'C:\\\\Users\\\\jzhao16\\\\Documents\\\\GitHub\\\\99-cell-tracker-gnn-test\\\\{CODE_TRA}\\\\inference_clean.py': [Errno 2] No such file or directory\n",
      "python: can't open file 'C:\\\\Users\\\\jzhao16\\\\Documents\\\\GitHub\\\\99-cell-tracker-gnn-test\\\\{CODE_TRA}\\\\postprocess_clean.py': [Errno 2] No such file or directory\n"
     ]
    }
   ],
   "source": [
    "\n",
    "!set SEQUENCE=01 # sequence number\n",
    "\n",
    "#export FOLDER_PATH=/content/drive/MyDrive/CellTracking/nature_method_ctc # TODO: update this path\n",
    "#!set FOLDER_PATH=/home/clark/data/gnntest\n",
    "!set FOLDER_PATH=C:/Users/jzhao16/Documents/mydata/gnntest\n",
    "\n",
    "#export MODEL_METRIC_LEARNING=/content/drive/MyDrive/CellTracking/nature_method_ctc/software/parameters/Features_Models/PhC-C2DH-U373/all_params.pth # TODO: update this path\n",
    "!set MODEL_METRIC_LEARNING=C:/Users/jzhao16/Documents/mydata/gnntest/software/parameters/Features_Models/PhC-C2DH-U373/all_params.pth # TODO: update this path\n",
    "\n",
    "!set MODEL_PYTORCH_LIGHTNING='C:/Users/jzhao16/Documents/GitHub/99-cell-tracker-gnn-test/logs/runs/2025-06-23/12-10-16/checkpoints/epoch=28.ckpt'  # TODO: update this path\n",
    "\n",
    "!set DATA_NAME=Fluo-C2DL-Huh7 # TODO: update this path\n",
    "!set MODALITY=\"2D\"  # dataset modality\n",
    "\n",
    "!set DATASET=\"{FOLDER_PATH}/{DATA_NAME}\"\n",
    "!set CODE_TRA=src/inference/\n",
    "\n",
    "#export PYTHONPATH=/content/cell-tracker-gnn\n",
    "#!set PYTHONPATH=/home/clark/code/99-cell-tracker-gnn-test # TODO: update this path\n",
    "!set PYTHONPATH=C:/Users/jzhao16/Documents/GitHub/99-cell-tracker-gnn-test # TODO: update this path\n",
    "\n",
    "# our model needs CSVs, so let's create from image and segmentation.\n",
    "!python {CODE_TRA}/preprocess_seq2graph_clean.py -cs 20 -ii \"{DATASET}/{SEQUENCE}\" -iseg \"{DATASET}/{SEQUENCE}_GT/TRA\" -im \"{MODEL_METRIC_LEARNING}\" -oc \"{DATASET}/{SEQUENCE}_CSV\"\n",
    "\n",
    "# run the prediction\n",
    "!python {CODE_TRA}/inference_clean.py -mp \"{MODEL_PYTORCH_LIGHTNING}\" -ns \"{SEQUENCE}\" -oc \"{DATASET}\"\n",
    "\n",
    "# create label maps\n",
    "!python {CODE_TRA}/postprocess_clean.py -modality \"{MODALITY}\" -iseg \"{DATASET}/{SEQUENCE}_GT/TRA\" -oi \"{DATASET}/{SEQUENCE}_RES_inference\"\n"
   ]
  },
  {
   "cell_type": "code",
   "execution_count": null,
   "metadata": {},
   "outputs": [],
   "source": []
  }
 ],
 "metadata": {
  "accelerator": "GPU",
  "colab": {
   "gpuType": "T4",
   "provenance": []
  },
  "kernelspec": {
   "display_name": "Python 3 (ipykernel)",
   "language": "python",
   "name": "python3"
  },
  "language_info": {
   "codemirror_mode": {
    "name": "ipython",
    "version": 3
   },
   "file_extension": ".py",
   "mimetype": "text/x-python",
   "name": "python",
   "nbconvert_exporter": "python",
   "pygments_lexer": "ipython3",
   "version": "3.10.18"
  }
 },
 "nbformat": 4,
 "nbformat_minor": 4
}
